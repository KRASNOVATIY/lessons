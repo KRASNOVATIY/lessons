{
 "cells": [
  {
   "cell_type": "markdown",
   "id": "11212a09",
   "metadata": {},
   "source": [
    "## Работа с аргументами\n",
    "\n",
    "Напишите функцию, которая принимает на вход строку-знак (\"+\", \"-\", \"\\*\", \"/\"), базовое число (int, float) и любое число аргументов (int, float) которые будут применяться к базе с определённым знаком. \n",
    "\n",
    "На выход - результат вычисления.\n",
    "\n",
    "Примеры:\n",
    "```\n",
    "('-', 6, 2, 1) -> 3\n",
    "('-', 6, 2, 1, 2) -> 1\n",
    "('-', 6, 10) -> -4\n",
    "```"
   ]
  },
  {
   "cell_type": "markdown",
   "id": "d4c475d1",
   "metadata": {},
   "source": [
    "## Декораторы\n",
    "\n",
    "#### 1 Задача\n",
    "\n",
    "Напишите декоратор который получает на вход обязательный аргумент. В случае если в декорируемой функции возникнет исключение, функция должна будет вернуть аргумент, получаемый декоратором.\n",
    "\n",
    "Заверните в этот декоратор несколько разных функций, которые будут возбуждать исключения. Вызовите функции с различными аргументами\n",
    "\n",
    "Напишите документацию"
   ]
  },
  {
   "cell_type": "code",
   "execution_count": null,
   "id": "999d8229",
   "metadata": {
    "tags": []
   },
   "outputs": [],
   "source": [
    "def unexcept(default_value):\n",
    "    ...\n",
    "\n",
    "@unexcept(default_value=-1)\n",
    "def div(a, b):\n",
    "    return a / b\n",
    "\n",
    "@unexcept(default_value=1000)\n",
    "def plus(a, b):\n",
    "    return a + b"
   ]
  },
  {
   "cell_type": "markdown",
   "id": "288100e5",
   "metadata": {},
   "source": [
    "#### 2  Задача\n",
    "\n",
    "Напишите декоратор, который выполняет функцию N раз и выводит общее время выполнения.\n",
    "\n",
    "Для замера времени можно использовать функцию `time()` из модуля `time`\n",
    "```python\n",
    "from time import time\n",
    "\n",
    "print(time())\n",
    "```\n",
    "\n",
    "Напишите документацию"
   ]
  },
  {
   "cell_type": "code",
   "execution_count": null,
   "id": "d03d2dc3",
   "metadata": {},
   "outputs": [],
   "source": [
    "from time import time\n",
    "\n",
    "def n_dec(n):\n",
    "    ...\n",
    "\n",
    "@n_dec(n=1000000)\n",
    "def plus(a, b):\n",
    "    return a + b"
   ]
  },
  {
   "cell_type": "markdown",
   "id": "a5b94ba7",
   "metadata": {},
   "source": [
    "## Бебаг\n",
    "\n",
    "Дан диапазон портов min и max. Также есть список уже занятых портов busy. Нужно написать функцию, возвращающую все диапазоны свободных портов внутри min и max.\n",
    "\n",
    "```\n",
    "free_ports(30000, 32000, [30100, 30200]) -> [[30000, 30099], [30101, 30199], [30201, 32000]]\n",
    "free_ports(30100, 30200, [30100, 30200]) -> [[30101, 30199]]\n",
    "free_ports(30000, 32000, [100, 30100, 30200]) -> [[30000, 30099], [30101, 30199], [30201, 32000]]\n",
    "free_ports(30000, 32000, [32100]) -> [[30000, 32000]]\n",
    "```"
   ]
  },
  {
   "cell_type": "code",
   "execution_count": null,
   "id": "a730ac06",
   "metadata": {
    "tags": []
   },
   "outputs": [],
   "source": [
    "# min = 30000\n",
    "# max = 32000\n",
    "# busy = [30100, 30200]\n",
    "#\n",
    "# result = [[30000, 30099], [30101, 30199], [30201, 32000]]\n",
    "\n",
    "def free_ports(min_port, max_port, busy: list):\n",
    "    result = []\n",
    "\n",
    "    busy.sort()\n",
    "\n",
    "    range_start = min_port\n",
    "\n",
    "    for port in busy:\n",
    "        if port - range_start > 0:\n",
    "            result.append([range_start, port - 1])\n",
    "        range_start = port + 1\n",
    "        if range_start < min_port:\n",
    "            range_start = min_port\n",
    "\n",
    "    if range_start < max_port:\n",
    "        result.append([range_start, max_port])\n",
    "\n",
    "    return result\n",
    "\n"
   ]
  },
  {
   "cell_type": "code",
   "execution_count": null,
   "id": "172fa9b3",
   "metadata": {
    "tags": []
   },
   "outputs": [],
   "source": [
    "free_ports(30000, 32000, [30100, 30200])"
   ]
  },
  {
   "cell_type": "code",
   "execution_count": null,
   "id": "7336e1f6-295f-44a5-b748-b0610ac44d1c",
   "metadata": {
    "tags": []
   },
   "outputs": [],
   "source": [
    "free_ports(30100, 30200, [30100, 30200])"
   ]
  },
  {
   "cell_type": "code",
   "execution_count": null,
   "id": "7b528958-6b68-4e8b-ab06-7c47a7bc1a84",
   "metadata": {
    "tags": []
   },
   "outputs": [],
   "source": [
    "free_ports(30000, 32000, [32100])"
   ]
  },
  {
   "cell_type": "markdown",
   "id": "f074b419",
   "metadata": {},
   "source": [
    "## Задачи"
   ]
  },
  {
   "cell_type": "markdown",
   "id": "c10eb475",
   "metadata": {},
   "source": [
    "### 1  Задача\n",
    "\n",
    "Есть функция, выводящая в консоль некоторое время, по умолчанию - текущее:\n",
    "\n",
    "```python\n",
    "from datetime import datetime\n",
    "from time import sleep\n",
    " \n",
    " \n",
    "def time_now(msg, *, dt=datetime.now()):\n",
    "    print(msg, dt)\n",
    "```\n",
    "\n",
    "Какие есть проблемы и как их исправить?"
   ]
  },
  {
   "cell_type": "markdown",
   "id": "db5c7a78",
   "metadata": {},
   "source": [
    "### 2  Задача\n",
    "\n",
    "Напишите функцию Python, которая проверяет, является ли строка панграммой или нет. \n",
    "\n",
    "Панограммы - это предложения (слова), содержащие каждую букву алфавита хотя бы один раз. Можно использовать английскую панграмму"
   ]
  },
  {
   "cell_type": "code",
   "execution_count": null,
   "id": "030795ac",
   "metadata": {
    "tags": []
   },
   "outputs": [],
   "source": [
    "import string\n",
    "import re\n",
    "\n",
    "string.ascii_lowercase"
   ]
  },
  {
   "cell_type": "code",
   "execution_count": null,
   "id": "9c56a677-7254-4a97-93cf-e5a6fe2c4db8",
   "metadata": {},
   "outputs": [],
   "source": []
  }
 ],
 "metadata": {
  "kernelspec": {
   "display_name": "Python 3 (ipykernel)",
   "language": "python",
   "name": "python3"
  },
  "language_info": {
   "codemirror_mode": {
    "name": "ipython",
    "version": 3
   },
   "file_extension": ".py",
   "mimetype": "text/x-python",
   "name": "python",
   "nbconvert_exporter": "python",
   "pygments_lexer": "ipython3",
   "version": "3.11.3"
  }
 },
 "nbformat": 4,
 "nbformat_minor": 5
}
