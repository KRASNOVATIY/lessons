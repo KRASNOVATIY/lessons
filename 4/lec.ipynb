{
 "cells": [
  {
   "cell_type": "markdown",
   "metadata": {},
   "source": [
    "# Функции\n",
    "\n",
    "Структура занятия:\n",
    "\n",
    "1) функции\n",
    "\n",
    "2) передача параметров, параметры переменной длины\n",
    "\n",
    "3) передача по ссылке и по значению\n",
    "\n",
    "4) области видимости\n",
    "\n",
    "5) вложенные функции\n",
    "\n",
    "6) замыкания\n",
    "\n",
    "7) декораторы\n",
    "\n",
    "8) документирование\n",
    "\n",
    "\n",
    "---\n",
    "\n",
    "На что стоит обратить особое внимание:\n",
    "- виды параметров и аргументов\n",
    "- передачу аргументов по ссылке и по значению\n",
    "- области видимости\n",
    "- назначение декораторов (если понимаете реализацию - вообще отлично)"
   ]
  },
  {
   "cell_type": "markdown",
   "metadata": {},
   "source": [
    "## Определение функции\n",
    "\n",
    "Функция - фрагмент кода, который решает какую-либо задачу.\n",
    "\n",
    "С точки зрения языка Python, функция - это объект типа function"
   ]
  },
  {
   "cell_type": "code",
   "execution_count": null,
   "metadata": {},
   "outputs": [],
   "source": [
    "type(id)"
   ]
  },
  {
   "cell_type": "code",
   "execution_count": null,
   "metadata": {},
   "outputs": [],
   "source": [
    "def fun():\n",
    "    ...\n",
    "    \n",
    "type(fun)"
   ]
  },
  {
   "cell_type": "markdown",
   "metadata": {},
   "source": [
    "Зачем нужны:\n",
    "- позволяют избегать дублирования кода\n",
    "- повышают читаемость\n",
    "- повышают тестируемость\n",
    "\n",
    "Требования:\n",
    "- чистота. То есть функция должна совершать только свою работу, не должна иметь каких-либо сторонних эффектов.\n",
    "- не должна обрабатывать собственные исключения\n",
    "\n",
    "Как задать:\n",
    "```python\n",
    "# def - сообщаем интерпретатору что далее идёт функция\n",
    "def func_name(): # имя и параметры\n",
    "    ...  # тело\n",
    "```\n",
    "\n",
    "Если есть возвращаемые значения:\n",
    "```python\n",
    "def func_name(): # имя и параметры\n",
    "    result = ...  # тело\n",
    "    return result  # возвращаемое значение\n",
    "```\n",
    "\n",
    "Использовать функцию можно **только** после её объявления\n",
    "\n",
    "```python\n",
    "def func_name(): # имя и параметры\n",
    "    ...\n",
    "    \n",
    "func_name()\n",
    "```"
   ]
  },
  {
   "cell_type": "code",
   "execution_count": null,
   "metadata": {},
   "outputs": [],
   "source": [
    "def multiple(a, b):\n",
    "    product = a * b\n",
    "    return int(product)\n",
    "\n",
    "multiple(10, 2)"
   ]
  },
  {
   "cell_type": "code",
   "execution_count": null,
   "metadata": {},
   "outputs": [],
   "source": [
    "multiple(10, 2.21)"
   ]
  },
  {
   "cell_type": "code",
   "execution_count": null,
   "metadata": {},
   "outputs": [],
   "source": [
    "mt = multiple\n",
    "mt(2, 4.2)"
   ]
  },
  {
   "cell_type": "markdown",
   "metadata": {},
   "source": [
    "## Передача параметров, параметры переменной длины\n",
    "\n",
    "Параметр — это переменная, которой будет присваиваться входящее в функцию значение.\n",
    "\n",
    "Аргумент — само это значение, которое передается в функцию при её вызове.\n"
   ]
  },
  {
   "cell_type": "markdown",
   "metadata": {},
   "source": [
    "### Позиционные аргументы\n",
    "\n",
    "Значения в позиционных аргументах подставляются согласно позиции имён аргументов"
   ]
  },
  {
   "cell_type": "code",
   "execution_count": null,
   "metadata": {},
   "outputs": [],
   "source": [
    "def my_func(a, b):\n",
    "    print(a, b)\n",
    "    \n",
    "my_func(1, 2)\n",
    "\n",
    "my_func(1, 'a')"
   ]
  },
  {
   "cell_type": "markdown",
   "metadata": {},
   "source": [
    "### Именованные аргументы\n",
    "\n",
    "Значения в именованных аргументах подставляются согласно именам аргументов"
   ]
  },
  {
   "cell_type": "code",
   "execution_count": null,
   "metadata": {},
   "outputs": [],
   "source": [
    "def my_func(a, b):\n",
    "    print(a, b)\n",
    "    \n",
    "my_func(a=1, b=2)\n",
    "\n",
    "my_func(b=1, a='a')"
   ]
  },
  {
   "cell_type": "markdown",
   "metadata": {},
   "source": [
    "### Параметры по умолчанию\n",
    "\n",
    "Можно делать отдельные параметры функции необязательными. Если при вызове значение такого аргумента не передаётся, то ему будет присвоено значение по умолчанию"
   ]
  },
  {
   "cell_type": "code",
   "execution_count": null,
   "metadata": {},
   "outputs": [],
   "source": [
    "def my_func(a=1, b=2):\n",
    "    print(a, b)\n",
    "    \n",
    "my_func()\n",
    "\n",
    "my_func(b=1, a='a')"
   ]
  },
  {
   "cell_type": "code",
   "execution_count": null,
   "metadata": {},
   "outputs": [],
   "source": [
    "my_func(1, b='a')"
   ]
  },
  {
   "cell_type": "markdown",
   "metadata": {},
   "source": [
    "Параметры по умолчанию (необязательные) должны объявляться только после позиционных параметров"
   ]
  },
  {
   "cell_type": "code",
   "execution_count": null,
   "metadata": {},
   "outputs": [],
   "source": [
    "def my_func(a=1, b):\n",
    "    print(a, b)"
   ]
  },
  {
   "cell_type": "code",
   "execution_count": null,
   "metadata": {},
   "outputs": [],
   "source": [
    "def my_func(a, b=1):\n",
    "    print(a, b)"
   ]
  },
  {
   "cell_type": "markdown",
   "metadata": {},
   "source": [
    "### Аргументы переменной длины\n",
    "\n",
    "Когда заранее неизвестно, сколько конкретно аргументов будет передано в функцию, мы пользуемся аргументами переменной длины\n",
    "\n",
    "`*` перед именем параметра говорит интерпретатору что о том что число позиционных аргументов будет переменным  \n",
    "\n",
    "`**` перед именем параметра говорит интерпретатору что о том что число именованных аргументов будет переменным  \n",
    "\n",
    "Обычно (по соглашению) параметр позиционных аргументов переменной длины имеет имя `args`, параметр именованных аргументов переменной дины - `kwargs`"
   ]
  },
  {
   "cell_type": "code",
   "execution_count": null,
   "metadata": {},
   "outputs": [],
   "source": [
    "def my_print(*args):\n",
    "    print(args)\n",
    "\n",
    "my_print(1, 2, 3)"
   ]
  },
  {
   "cell_type": "code",
   "execution_count": null,
   "metadata": {},
   "outputs": [],
   "source": [
    "my_print(a=2, b=1)"
   ]
  },
  {
   "cell_type": "code",
   "execution_count": null,
   "metadata": {},
   "outputs": [],
   "source": [
    "def my_print(**kwargs):\n",
    "    print(kwargs)\n",
    "\n",
    "my_print(a=2, b=1)"
   ]
  },
  {
   "cell_type": "code",
   "execution_count": null,
   "metadata": {},
   "outputs": [],
   "source": [
    "my_print(1, 2, 3)"
   ]
  },
  {
   "cell_type": "markdown",
   "metadata": {},
   "source": [
    "При этом позиционные аргументы располагаются до именованных. Группа одиночных параметров (обязательных и необязательных) располагается до параметров переменной длины"
   ]
  },
  {
   "cell_type": "code",
   "execution_count": null,
   "metadata": {},
   "outputs": [],
   "source": [
    "def my_func(a, b, c=1, *args, **kwargs):\n",
    "    print(a, b, c, args, kwargs)\n",
    "    \n",
    "my_func(2, 3, 4, 5, 6, 7, 8, d=9)"
   ]
  },
  {
   "cell_type": "code",
   "execution_count": null,
   "metadata": {},
   "outputs": [],
   "source": [
    "my_func(2, 3, 4, 5, 6, 7, 8, d=9, c=0)"
   ]
  },
  {
   "cell_type": "markdown",
   "metadata": {},
   "source": [
    "### Распаковка и запаковка аргументов\n",
    "\n",
    "Позиционные аргументы могут быть запакованы в кортежи, а именованные в словари"
   ]
  },
  {
   "cell_type": "code",
   "execution_count": null,
   "metadata": {},
   "outputs": [],
   "source": [
    "def my_func(a, b):\n",
    "    print(a, b)\n",
    "\n",
    "args = 1, 2  # <- кортеж\n",
    "my_func(*args)"
   ]
  },
  {
   "cell_type": "code",
   "execution_count": null,
   "metadata": {},
   "outputs": [],
   "source": [
    "kwargs = {'b': 2, 'a': 1}  # <- словарь\n",
    "my_func(**kwargs)"
   ]
  },
  {
   "cell_type": "markdown",
   "metadata": {},
   "source": [
    "### Множественные возвращаемые значения\n",
    "\n",
    "Выражение `return` может возращать несколько значений, упакованных в кортеж. "
   ]
  },
  {
   "cell_type": "code",
   "execution_count": null,
   "metadata": {},
   "outputs": [],
   "source": [
    "def my_func(fun, a, b):\n",
    "    return fun(a), fun(b)\n",
    "\n",
    "def pow2(a):\n",
    "    return a**2\n",
    "\n",
    "my_func(pow2, 2, 3)\n"
   ]
  },
  {
   "cell_type": "code",
   "execution_count": null,
   "metadata": {},
   "outputs": [],
   "source": [
    "pow_of_2, pow_of_3 = my_func(pow2, 2, 3)\n",
    "pow_of_2"
   ]
  },
  {
   "cell_type": "markdown",
   "metadata": {},
   "source": [
    "Ненужные возвращаемые значения принято называть `_` "
   ]
  },
  {
   "cell_type": "code",
   "execution_count": null,
   "metadata": {},
   "outputs": [],
   "source": [
    "pow_of_2, _ = my_func(pow2, 2, 3)\n",
    "pow_of_2, _"
   ]
  },
  {
   "cell_type": "markdown",
   "metadata": {},
   "source": [
    "Количество возвращаемых значение в кортеже должно совпадать с количеством переменных при распаковке"
   ]
  },
  {
   "cell_type": "code",
   "execution_count": null,
   "metadata": {},
   "outputs": [],
   "source": [
    "pow_of_2, a, _ = my_func(pow2, 2, 3)"
   ]
  },
  {
   "cell_type": "markdown",
   "metadata": {},
   "source": [
    "Больше информации по управлению параметрами: https://docs.python.org/3/tutorial/controlflow.html#more-on-defining-functions"
   ]
  },
  {
   "cell_type": "markdown",
   "metadata": {},
   "source": [
    "## Передача по ссылке и по значению\n",
    "\n",
    "В Python аргументы могут быть переданы, как по ссылке, так и по значению. Зависит способ от типа объектов.\n",
    "Неизменяемые объекты передаются по значению, изменяемые - по ссылке."
   ]
  },
  {
   "cell_type": "markdown",
   "metadata": {},
   "source": [
    "Если объекты используемые в качестве аргументов не нзменяются в ходе работы функции, то это не имеет значения:"
   ]
  },
  {
   "cell_type": "code",
   "execution_count": null,
   "metadata": {},
   "outputs": [],
   "source": [
    "def plus(a, b):\n",
    "    return a + b\n",
    "\n",
    "a, b = 1, 1\n",
    "c = plus(a, b)\n",
    "a, b, c"
   ]
  },
  {
   "cell_type": "code",
   "execution_count": null,
   "metadata": {},
   "outputs": [],
   "source": [
    "def plus(a, b):\n",
    "    return a + b\n",
    "\n",
    "a, b = [1], [1]\n",
    "c = plus(a, b)\n",
    "a, b, c"
   ]
  },
  {
   "cell_type": "markdown",
   "metadata": {},
   "source": [
    "Если изменяются, то нужно помнить о том, с аргументами какого типа вы работаете:"
   ]
  },
  {
   "cell_type": "code",
   "execution_count": null,
   "metadata": {},
   "outputs": [],
   "source": [
    "def plus(a, b):\n",
    "    a += b  # a = a + b\n",
    "    return a\n",
    "\n",
    "a, b = 1, 1\n",
    "c = plus(a, b)\n",
    "a, b, c"
   ]
  },
  {
   "cell_type": "code",
   "execution_count": null,
   "metadata": {},
   "outputs": [],
   "source": [
    "def plus(a, b):\n",
    "    a += b  # вот тут поменяется исходный объект, аргумент `a`\n",
    "    return a\n",
    "\n",
    "a, b = [1], [1]\n",
    "c = plus(a, b)\n",
    "a, b, c"
   ]
  },
  {
   "cell_type": "markdown",
   "metadata": {},
   "source": [
    "Стоит помнить о том что передача изменяемых значений по умолчанию может иметь неожиданное поведение"
   ]
  },
  {
   "cell_type": "code",
   "execution_count": null,
   "metadata": {},
   "outputs": [],
   "source": [
    "def fun(a, b=[]):  \n",
    "    # b связывается со значением по умолчанию только 1 раз, получается что этот список будет связан с функцией\n",
    "    b.append(a)\n",
    "    return b\n",
    "\n",
    "fun(2)"
   ]
  },
  {
   "cell_type": "code",
   "execution_count": null,
   "metadata": {},
   "outputs": [],
   "source": [
    "fun(1)"
   ]
  },
  {
   "cell_type": "code",
   "execution_count": null,
   "metadata": {},
   "outputs": [],
   "source": [
    "fun(1, [9])  # вот тут мы передали уже другой список"
   ]
  },
  {
   "cell_type": "code",
   "execution_count": null,
   "metadata": {},
   "outputs": [],
   "source": [
    "fun(3)"
   ]
  },
  {
   "cell_type": "markdown",
   "metadata": {},
   "source": [
    "Аргументы по умолчанию изменяемого типа лучше задавать так:"
   ]
  },
  {
   "cell_type": "code",
   "execution_count": null,
   "metadata": {},
   "outputs": [],
   "source": [
    "from typing import Optional, List\n",
    "\n",
    "def fun(a, b: Optional[List]=None):\n",
    "    if b is None:\n",
    "        b = []\n",
    "    b.append(a)\n",
    "    return b"
   ]
  },
  {
   "cell_type": "code",
   "execution_count": null,
   "metadata": {},
   "outputs": [],
   "source": [
    "fun(2)"
   ]
  },
  {
   "cell_type": "code",
   "execution_count": null,
   "metadata": {},
   "outputs": [],
   "source": [
    "fun(1)"
   ]
  },
  {
   "cell_type": "code",
   "execution_count": null,
   "metadata": {},
   "outputs": [],
   "source": [
    "fun(1, [9])"
   ]
  },
  {
   "cell_type": "code",
   "execution_count": null,
   "metadata": {},
   "outputs": [],
   "source": [
    "fun(3)"
   ]
  },
  {
   "attachments": {
    "%D0%B8%D0%B7%D0%BE%D0%B1%D1%80%D0%B0%D0%B6%D0%B5%D0%BD%D0%B8%D0%B5.png": {
     "image/png": "[encoded data removed]"
    }
   },
   "cell_type": "markdown",
   "metadata": {},
   "source": [
    "## Области видимости\n",
    "\n",
    "Область видимости - область программы, где определяются идентификаторы (или имена, указывающие на конкретные объекты). За пределами области видимости идентификаторы могут быть связаны с другими переменными, а могут быть свободны\n",
    "\n",
    "Есть 4 области видимости:\n",
    "- глобальная - область за пределами всех инструкций def - глобальная для всего модуля\n",
    "- локальная - находится внутри функции (def)\n",
    "- нелокальная - область в пределах вышестоящей инструкции def\n",
    "- встроенная - «Системная» область модуля builtins\n",
    "\n",
    "![%D0%B8%D0%B7%D0%BE%D0%B1%D1%80%D0%B0%D0%B6%D0%B5%D0%BD%D0%B8%D0%B5.png](attachment:%D0%B8%D0%B7%D0%BE%D0%B1%D1%80%D0%B0%D0%B6%D0%B5%D0%BD%D0%B8%D0%B5.png)"
   ]
  },
  {
   "cell_type": "markdown",
   "metadata": {},
   "source": [
    "### встроенная"
   ]
  },
  {
   "cell_type": "code",
   "execution_count": null,
   "metadata": {},
   "outputs": [],
   "source": [
    "# функция id определна в системной области видимости\n",
    "id(1)"
   ]
  },
  {
   "cell_type": "code",
   "execution_count": null,
   "metadata": {},
   "outputs": [],
   "source": [
    "# её невозможно удалить\n",
    "del id"
   ]
  },
  {
   "cell_type": "code",
   "execution_count": null,
   "metadata": {},
   "outputs": [],
   "source": [
    "# но можно переопределить\n",
    "def id(a):\n",
    "    return a\n",
    "\n",
    "id(1)"
   ]
  },
  {
   "cell_type": "code",
   "execution_count": null,
   "metadata": {},
   "outputs": [],
   "source": [
    "# и потом удалить\n",
    "del id\n",
    "id(1)"
   ]
  },
  {
   "cell_type": "markdown",
   "metadata": {},
   "source": [
    "### локальная"
   ]
  },
  {
   "cell_type": "code",
   "execution_count": null,
   "metadata": {},
   "outputs": [],
   "source": [
    "def func(a):\n",
    "    s = 5\n",
    "    return a + s\n",
    "\n",
    "func(5)"
   ]
  },
  {
   "cell_type": "code",
   "execution_count": null,
   "metadata": {},
   "outputs": [],
   "source": [
    "# s видна только внутри функции func\n",
    "s"
   ]
  },
  {
   "cell_type": "markdown",
   "metadata": {},
   "source": [
    "### нелокальная\n",
    "\n",
    "Для взаимодействия с идентификаторами в пределах вышестоящей инструкции def используется ключевое слоово `nonlocal` "
   ]
  },
  {
   "cell_type": "code",
   "execution_count": null,
   "metadata": {},
   "outputs": [],
   "source": [
    "def func(a):\n",
    "    f = 50\n",
    "    def inner(a):\n",
    "        s = 5\n",
    "        f = 500\n",
    "        return a + s + f\n",
    "    return a + inner(a) + f\n",
    "\n",
    "func(2)"
   ]
  },
  {
   "cell_type": "code",
   "execution_count": null,
   "metadata": {},
   "outputs": [],
   "source": [
    "def func(a):\n",
    "    f = 50\n",
    "    def inner(a):\n",
    "        nonlocal f  # теперь можно поменять значение внутри func\n",
    "        s = 5\n",
    "        f = 500\n",
    "        return a + s + f\n",
    "    return a + inner(a) + f\n",
    "\n",
    "func(2)"
   ]
  },
  {
   "cell_type": "markdown",
   "metadata": {},
   "source": [
    "### глобальная\n",
    "\n",
    "Для взаимодействия с идентификаторами в пределах модуля используется ключевое слоово `gloabal` "
   ]
  },
  {
   "cell_type": "code",
   "execution_count": null,
   "metadata": {},
   "outputs": [],
   "source": [
    "a = 5\n",
    "\n",
    "def func(b):\n",
    "    a = 50\n",
    "    return a + b\n",
    "\n",
    "func(10)"
   ]
  },
  {
   "cell_type": "code",
   "execution_count": null,
   "metadata": {},
   "outputs": [],
   "source": [
    "a"
   ]
  },
  {
   "cell_type": "code",
   "execution_count": null,
   "metadata": {},
   "outputs": [],
   "source": [
    "a = 5\n",
    "\n",
    "def func(b):\n",
    "    global a\n",
    "    a = 50\n",
    "    return a + b\n",
    "\n",
    "func(10)"
   ]
  },
  {
   "cell_type": "code",
   "execution_count": null,
   "metadata": {},
   "outputs": [],
   "source": [
    "a"
   ]
  },
  {
   "cell_type": "markdown",
   "metadata": {},
   "source": [
    "Но, вообще говоря, функция не должна изменять глобальные переменные модуля (не имеет на это права!).\n",
    "\n",
    "Использование глобальных переменных - плохая тактика. Лучше использовать их только в качестве констант и на чтение."
   ]
  },
  {
   "cell_type": "markdown",
   "metadata": {},
   "source": [
    "## Вложенные функции\n",
    "\n",
    "Функции, которые объявляются и вызываются внутри других функций, называются вложенными\n",
    "\n",
    "На практике применяются:\n",
    "- для написания декораторов\n",
    "- (?редко) для сокрытия логики внутри модуля - то есть как средство инкапсуляции\n",
    "- при написании рекурсивных функций\n",
    "- для создания замыканий"
   ]
  },
  {
   "cell_type": "code",
   "execution_count": null,
   "metadata": {},
   "outputs": [],
   "source": [
    "def outer_func():\n",
    "    def first_inner():\n",
    "        print('This is first inner function')\n",
    "\n",
    "    def second_inner():\n",
    "        print('This is second inner function')\n",
    "\n",
    "    first_inner()\n",
    "    second_inner()\n",
    "    \n",
    "outer_func()"
   ]
  },
  {
   "attachments": {
    "%D0%B8%D0%B7%D0%BE%D0%B1%D1%80%D0%B0%D0%B6%D0%B5%D0%BD%D0%B8%D0%B5.png": {
     "image/png": "[encoded data removed]"
    }
   },
   "cell_type": "markdown",
   "metadata": {},
   "source": [
    "![%D0%B8%D0%B7%D0%BE%D0%B1%D1%80%D0%B0%D0%B6%D0%B5%D0%BD%D0%B8%D0%B5.png](attachment:%D0%B8%D0%B7%D0%BE%D0%B1%D1%80%D0%B0%D0%B6%D0%B5%D0%BD%D0%B8%D0%B5.png)"
   ]
  },
  {
   "cell_type": "markdown",
   "metadata": {},
   "source": [
    "## Замыкания\n",
    "\n",
    "Замыкание (closure) в программировании — это функция, в теле которой присутствуют ссылки на переменные, объявленные вне тела этой функции в окружающем коде и не являющиеся ее параметрами. Говоря другим языком, замыкание — функция, которая ссылается на свободные переменные в своей области видимости.  "
   ]
  },
  {
   "cell_type": "code",
   "execution_count": null,
   "metadata": {},
   "outputs": [],
   "source": [
    "# например, нам нужна функция, которая будет вычислять квадрат числа\n",
    "pow(5, 2), pow(3, 2)"
   ]
  },
  {
   "cell_type": "code",
   "execution_count": null,
   "metadata": {},
   "outputs": [],
   "source": [
    "# можно использовать вложенную функцию\n",
    "def pow2(a):\n",
    "    return pow(a, 2)\n",
    "\n",
    "pow2(5), pow2(3)"
   ]
  },
  {
   "cell_type": "markdown",
   "metadata": {},
   "source": [
    "Но допустим, нам нужна функция которая сможет вычислять *определённую* степень в разные моменты времени. Пример, конечно совсем синтетический:  "
   ]
  },
  {
   "cell_type": "code",
   "execution_count": null,
   "metadata": {},
   "outputs": [],
   "source": [
    "# это пример замыкания\n",
    "def pow_n(a):\n",
    "    def helper(n):\n",
    "        return n ** a\n",
    "    return helper\n",
    "\n",
    "pow_3 = pow_n(3)\n",
    "pow_3(5), pow_3(3)"
   ]
  },
  {
   "cell_type": "code",
   "execution_count": null,
   "metadata": {},
   "outputs": [],
   "source": [
    "pow_4 = pow_n(4)\n",
    "pow_4(5), pow_4(3)"
   ]
  },
  {
   "cell_type": "code",
   "execution_count": null,
   "metadata": {},
   "outputs": [],
   "source": [
    "pow_n(4)(4)"
   ]
  },
  {
   "cell_type": "markdown",
   "metadata": {},
   "source": [
    "Замыкания являются ключём к пониманию декораторов"
   ]
  },
  {
   "cell_type": "markdown",
   "metadata": {},
   "source": [
    "## Декораторы\n",
    "\n",
    "Декоратор - это инструмент (шаблон проектирования) в Python для обертывания кода вокруг функций или классов\n",
    "\n",
    "Синтаксис:\n",
    "```python\n",
    "from functools import wraps\n",
    "\n",
    "def deco_name(deco_arg1, deco_arg2):  # это сам декоратор, его имя должно говорить о назначении декоратора\n",
    "    def wrapper(fun):  # это внешняя обёртка декоратора, носит имя wrapper по соглашению\n",
    "        @wraps(fun)  # это необходимо для того чтобы можно было прочитать документацию к исходной декорируемой функции\n",
    "        def wrapped(*args, **kwargs): # это внутренняя обёртка декоратора, носит имя wrapped по соглашению\n",
    "            \"\"\"документация обёртки\"\"\"\n",
    "            res = fun(*args, **kwargs)\n",
    "            # тело, тут могут быть использованы deco_arg1, deco_arg2 ... deco_argN\n",
    "            return res\n",
    "\n",
    "        return wrapped\n",
    "\n",
    "    return wrapper\n",
    "```\n",
    "\n",
    "Использование декоратора:\n",
    "```python\n",
    "@deco_name(deco_arg1, deco_arg2)  # так декоратор используется\n",
    "def decoreted_func(func_arg1, func_arg2):  # это декорируемая функция\n",
    "    \"\"\"документация функции\"\"\"\n",
    "    result = ...  # тело функции\n",
    "    return result\n",
    "\n",
    "var = decoreted_func(func_arg1, func_arg2)\n",
    "```\n",
    "\n",
    "Что эквивалентно:\n",
    "```python\n",
    "def not_decoreted_func(func_arg1, func_arg2):\n",
    "    \"\"\"документация функции\"\"\"\n",
    "    result = ...  # тело функции\n",
    "    return result\n",
    "\n",
    "var = deco_name(deco_arg1, deco_arg2)(not_decoreted_func)(func_arg1, func_arg2)\n",
    "```\n",
    "\n",
    "Таким образом, декоратор (использование `@`) это просто \"синтаксический сахар\"\n",
    "\n",
    "\n",
    "Применяются декораторы для того чтобы можно было изменять поведение функций и методов не меняя код самих функций, давайте рассмотрим пример:"
   ]
  },
  {
   "cell_type": "code",
   "execution_count": null,
   "metadata": {},
   "outputs": [],
   "source": [
    "from functools import wraps\n",
    "\n",
    "def unexcept(fun):\n",
    "    \"\"\"\n",
    "    Этот декоратор не позволяет функции возражать исключения\n",
    "    \"\"\"\n",
    "    @wraps(fun)\n",
    "    def wrapped(*args, **kwargs):\n",
    "        e = None\n",
    "        try:\n",
    "            res = fun(*args, **kwargs)\n",
    "        except Exception as ex:\n",
    "            res, e = 0, ex\n",
    "        return res, e\n",
    "\n",
    "    return wrapped\n",
    "\n",
    "\n",
    "\n",
    "@unexcept\n",
    "def div(a, b):\n",
    "    \"\"\"Эта функция поделит a на b\"\"\"\n",
    "    return a / b\n",
    "\n",
    "div(1, 0)"
   ]
  },
  {
   "cell_type": "code",
   "execution_count": null,
   "metadata": {},
   "outputs": [],
   "source": [
    "div(1, 1)"
   ]
  },
  {
   "cell_type": "code",
   "execution_count": null,
   "metadata": {},
   "outputs": [],
   "source": [
    "help(div) # документация сохранилась, так как мы использовали functools.wraps"
   ]
  },
  {
   "cell_type": "code",
   "execution_count": null,
   "metadata": {},
   "outputs": [],
   "source": [
    "help(unexcept)"
   ]
  },
  {
   "cell_type": "markdown",
   "metadata": {},
   "source": [
    "Можно обернуть нашим декоратором вообще любую функцию. При этом, менять код самих функций не надо. Пара примеров:"
   ]
  },
  {
   "cell_type": "code",
   "execution_count": null,
   "metadata": {},
   "outputs": [],
   "source": [
    "@unexcept\n",
    "def plus(a, b):\n",
    "    return a + b\n",
    "\n",
    "plus(1, '2')"
   ]
  },
  {
   "cell_type": "code",
   "execution_count": null,
   "metadata": {},
   "outputs": [],
   "source": [
    "@unexcept\n",
    "def sort(*args):\n",
    "    return sorted([*args])\n",
    "\n",
    "sort(1, 2, 1, 5, '3')"
   ]
  },
  {
   "cell_type": "markdown",
   "metadata": {},
   "source": [
    "Ели бы у нас не было декораторов, пришлось бы изменять сами функции:"
   ]
  },
  {
   "cell_type": "code",
   "execution_count": null,
   "metadata": {},
   "outputs": [],
   "source": [
    "def plus(a, b):\n",
    "    e = None\n",
    "    try:\n",
    "        res = a + b\n",
    "    except Exception as ex:\n",
    "        res, e = 0, ex\n",
    "    return res, e\n",
    "\n",
    "plus(1, '2')"
   ]
  },
  {
   "cell_type": "code",
   "execution_count": null,
   "metadata": {},
   "outputs": [],
   "source": [
    "def sort(*args):\n",
    "    e = None\n",
    "    try:\n",
    "        res = sorted([*args])\n",
    "    except Exception as ex:\n",
    "        res, e = 0, ex\n",
    "    return res, e\n",
    "\n",
    "sort(1, 2, 1, 5, '3')"
   ]
  },
  {
   "cell_type": "markdown",
   "metadata": {},
   "source": [
    "Представьте что таких функция не 1 и не 2, а очень много, и в какой-то момент нам бы захотелось поменять логику работы с исключениями. Без декораторов нам бы пришлось переписывать каждую функцию и тесты к ним, с декоратором нам достаточно поменять логику в одном месте (в декораторе) и может быть в тесте к декоратору"
   ]
  },
  {
   "cell_type": "markdown",
   "metadata": {},
   "source": [
    "К одной функции можно применять несколько декораторов"
   ]
  },
  {
   "cell_type": "code",
   "execution_count": null,
   "metadata": {},
   "outputs": [],
   "source": [
    "def reverse_decorator(function):\n",
    "  \n",
    "    def reverse_wrapper():\n",
    "        make_reverse = ''.join(reversed(function()))\n",
    "        return make_reverse\n",
    "  \n",
    "    return reverse_wrapper\n",
    "  \n",
    "def uppercase_decorator(function):\n",
    "  \n",
    "    def uppercase_wrapper():\n",
    "        var_uppercase = function().upper()\n",
    "        return var_uppercase\n",
    "  \n",
    "    return uppercase_wrapper\n",
    "  \n",
    "@uppercase_decorator\n",
    "@reverse_decorator\n",
    "def say():\n",
    "    return 'привет мир'\n",
    "  \n",
    "say()"
   ]
  },
  {
   "cell_type": "code",
   "execution_count": null,
   "metadata": {},
   "outputs": [],
   "source": [
    "help(say)  # документация не сохранилась, так как мы не использовали functools.wraps"
   ]
  },
  {
   "cell_type": "code",
   "execution_count": null,
   "metadata": {},
   "outputs": [],
   "source": [
    "def say():\n",
    "    return 'привет мир'\n",
    "\n",
    "uppercase_decorator(reverse_decorator(say))()"
   ]
  },
  {
   "cell_type": "markdown",
   "metadata": {},
   "source": [
    "Стандартная библиотека содержит множество декораторов:\n",
    "\n",
    "Встроенные декораторы:\n",
    "- `@classmethod`\n",
    "- `@staticmethod`\n",
    "- `@property`\n",
    "\n",
    "Модуль mock (для тестирования):\n",
    "- `@mock.patch`\n",
    "\n",
    "functools:\n",
    "- `@functools.cache`\n",
    "\n",
    "dataclasses:\n",
    "- `@dataclasses.dataclass`"
   ]
  },
  {
   "cell_type": "markdown",
   "metadata": {},
   "source": [
    "## Документирование\n",
    "\n",
    "Соглашения по документированию функций содержатся в документе PEP 257\n",
    "\n"
   ]
  }
 ],
 "metadata": {
  "kernelspec": {
   "display_name": "Python 3 (ipykernel)",
   "language": "python",
   "name": "python3"
  },
  "language_info": {
   "codemirror_mode": {
    "name": "ipython",
    "version": 3
   },
   "file_extension": ".py",
   "mimetype": "text/x-python",
   "name": "python",
   "nbconvert_exporter": "python",
   "pygments_lexer": "ipython3",
   "version": "3.11.3"
  }
 },
 "nbformat": 4,
 "nbformat_minor": 4
}
