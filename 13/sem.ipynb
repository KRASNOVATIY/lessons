{
 "cells": [
  {
   "cell_type": "markdown",
   "id": "3726c104",
   "metadata": {},
   "source": [
    "### Задача 1\n",
    "\n",
    "Асинхронный чат\n",
    "\n",
    "Реализовать чат без графического интерфейса, который позволит обмениваться сообщениями только между клиентом и сервером. Чат должен быть асинхронным\n",
    "\n",
    "Клиент и сервер можно запустить одновременно в различных окнах терминала"
   ]
  },
  {
   "cell_type": "markdown",
   "id": "40b40213",
   "metadata": {},
   "source": [
    "### Задача 2\n",
    "\n",
    "Напишите фцнкцию, которая сможет за минимальное время собирать информацию с 1-го сервиса по 100_000 запросам\n",
    "\n",
    "В примере представлен синхронный вариант\n",
    "\n",
    "Сервис 'http://localhost:8003' вы можете запустить, он в файле `service.py`"
   ]
  },
  {
   "cell_type": "code",
   "execution_count": 1,
   "id": "a30c0e7d",
   "metadata": {},
   "outputs": [
    {
     "name": "stdout",
     "output_type": "stream",
     "text": [
      "0\n"
     ]
    }
   ],
   "source": [
    "import requests\n",
    "import json\n",
    "\n",
    "params = range(100_000)\n",
    "\n",
    "url = 'http://localhost:8003'\n",
    "\n",
    "class Composer:\n",
    "    def __init__(self):\n",
    "        self.result = 0\n",
    "    \n",
    "    def add(self, data):\n",
    "        self.result += data['data']\n",
    "\n",
    "\n",
    "def collector(params: list[str]) -> int:\n",
    "    composer = Composer()\n",
    "    for i in params:\n",
    "        resp = requests.get(f'{url}/{i}')\n",
    "        composer.add(resp.json())\n",
    "    \n",
    "    return composer.result\n",
    "\n",
    "\n",
    "print(collector(params))\n",
    "    "
   ]
  },
  {
   "cell_type": "code",
   "execution_count": null,
   "id": "91668693",
   "metadata": {},
   "outputs": [],
   "source": []
  }
 ],
 "metadata": {
  "kernelspec": {
   "display_name": "Python 3 (ipykernel)",
   "language": "python",
   "name": "python3"
  },
  "language_info": {
   "codemirror_mode": {
    "name": "ipython",
    "version": 3
   },
   "file_extension": ".py",
   "mimetype": "text/x-python",
   "name": "python",
   "nbconvert_exporter": "python",
   "pygments_lexer": "ipython3",
   "version": "3.11.3"
  }
 },
 "nbformat": 4,
 "nbformat_minor": 5
}
