{
 "cells": [
  {
   "cell_type": "markdown",
   "metadata": {},
   "source": [
    "### Задание 1\n",
    "\n",
    "[Задача №1](https://github.com/KRASNOVATIY/lessons/blob/main/12/sem.ipynb).\n",
    "\n",
    "Что нужно сделать: сделать 3 реализации, для redis, mongo и postgresql. Для провеки задания достаточно выполнить скрипт app.py\n",
    "\n",
    "Что вам поможет:\n",
    "- доработайте model.py/Account. Добавьте методы для сериализации и десериализации объектов, такие как as_dict, as_json, методы класса from_dict, from_json\n",
    "- для redis лучше всего сохранять данные в списках (операции lrange, lset, rpush, lpush, llen, lindex)\n",
    "- для postgresql, обратите внимание на то что данные после UPDATE теряют порядок, используйте сортировку\n",
    "- для mongodb - не стесняйтсь удалять автоиндекс (\\_id) после того как достали данные\n",
    "- предусмотрите очистку хранилищ после каждого запуска app.py для простоты отладки. Для redis метод flushdb, для монги метод коллекции drop, для postgresql - DROP TABLE\n"
   ]
  },
  {
   "cell_type": "markdown",
   "metadata": {},
   "source": [
    "### Задание 2\n",
    "\n",
    "Расширение задачи 1\n",
    "\n",
    "Используйте асинхронные библиотеки для redis,  mongo, postgresql. Сделайте методы AccountsStorageProtocol (и реализаций) и AccountManager асинхронными. Ускорьте прохождение тестов test_main за счёт асинхронности."
   ]
  },
  {
   "cell_type": "code",
   "execution_count": null,
   "metadata": {},
   "outputs": [],
   "source": []
  }
 ],
 "metadata": {
  "kernelspec": {
   "display_name": "Python 3 (ipykernel)",
   "language": "python",
   "name": "python3"
  },
  "language_info": {
   "codemirror_mode": {
    "name": "ipython",
    "version": 3
   },
   "file_extension": ".py",
   "mimetype": "text/x-python",
   "name": "python",
   "nbconvert_exporter": "python",
   "pygments_lexer": "ipython3",
   "version": "3.11.3"
  }
 },
 "nbformat": 4,
 "nbformat_minor": 4
}
