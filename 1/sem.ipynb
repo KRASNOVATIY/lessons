{
 "cells": [
  {
   "cell_type": "markdown",
   "metadata": {},
   "source": [
    "## Установка и запуск\n",
    "\n",
    "#### Python & IDLE\n",
    "\n",
    "https://www.python.org/downloads/\n",
    "\n",
    "#### Jupyter\n",
    "\n",
    "https://jupyter.org/install\n",
    "\n",
    "возможны ошибки при установке, можно воспользоваться готовой сборкой Miniconda\n",
    "\n",
    "https://docs.conda.io/en/latest/miniconda.html\n",
    "И Windows, и MacOS имеют графические установщики (файл .pkg для MacOS). Пройдите самую обычную установку, не нажимая дополнительных галочек.\n",
    "\n",
    "далее\n",
    "\n",
    "`conda install -c conda-forge jupyterlab`\n",
    "\n",
    "`jupyter lab` | `jupyter-lab`\n",
    "\n",
    "#### PyCharm | VSCode\n",
    "\n",
    "https://www.jetbrains.com/pycharm/\n",
    "\n",
    "https://code.visualstudio.com/docs/languages/python\n",
    "\n",
    "#### Запуск\n",
    "\n",
    "Напишите любой скрипт в консоли, в jupyter-ноутбуке, среде разработки. Запустите, убедитесь в том что всё работает хорошо"
   ]
  },
  {
   "cell_type": "markdown",
   "metadata": {},
   "source": [
    "## Написание простого скрипта"
   ]
  },
  {
   "cell_type": "markdown",
   "metadata": {},
   "source": [
    "Оформление точки входа:\n",
    "\n",
    "```python\n",
    "if __name__ == '__main__':\n",
    "    main()\n",
    "```\n",
    "    "
   ]
  },
  {
   "cell_type": "code",
   "execution_count": 1,
   "metadata": {},
   "outputs": [
    {
     "data": {
      "text/plain": [
       "'__main__'"
      ]
     },
     "execution_count": 1,
     "metadata": {},
     "output_type": "execute_result"
    }
   ],
   "source": [
    "__name__"
   ]
  },
  {
   "cell_type": "markdown",
   "metadata": {},
   "source": [
    "'\\_\\_main__' - имя окружения в котором был запущен верхнеуровневый код. \"Верхнеуровневый код\" - первый пользовательский модуль, с которого начинается работа программы\n",
    "\n",
    "#### Скрипт\n",
    "\n",
    "При этом функция в точке входа должна (но не обязана) иметь имя **main()**\n",
    "\n",
    "Зачем это нужно:\n",
    "- чтобы понимать где точка входа (для ясности и красоты)\n",
    "- для того чтобы можно было распараллеливать выполнение по средствам процессов https://docs.python.org/3/library/concurrent.futures.html#processpoolexecutor\n",
    "\n",
    "####  Программа (как скрипт только больше и сложнее):\n",
    "\n",
    "Если пакет в Python – это каталог, включающий в себя другие каталоги и модули, но при этом дополнительно содержащий файл \\_\\_init__.py. \n",
    "То программа - это пакет, который кроме файла (файлов) \\_\\_init__.py, содержит файл \\_\\_main__.py, описывающий запуск (интерфейс командной строки) программы"
   ]
  },
  {
   "cell_type": "markdown",
   "metadata": {},
   "source": [
    "Перейдём к делу...\n",
    "\n",
    "Сделаем любую функцию, с 2 аргументами. Которая будет что-нибудь делать с аргументами и возвращать результат своей работы\n",
    "\n",
    "```python\n",
    "def func_name(arg_1, arg_2):\n",
    "    return arg_1 + arg_2\n",
    "\n",
    "def main():\n",
    "    print(func_name(1,2))\n",
    "\n",
    "if __name__ == '__main__':\n",
    "    main()\n",
    "```"
   ]
  },
  {
   "cell_type": "markdown",
   "metadata": {},
   "source": [
    "## Написание документации и оформление\n",
    "\n",
    "Посмотрите PEP8 и PEP257, воплотите рекомендации в своём скрипте"
   ]
  },
  {
   "cell_type": "markdown",
   "metadata": {},
   "source": [
    "## Ответим на вопросы\n",
    "\n",
    "- попробуйте написать код, который бы работал в версии 3.6, но не работал бы ранее. В 3.10, но не работал бы ранее"
   ]
  },
  {
   "cell_type": "markdown",
   "metadata": {},
   "source": [
    "## Больше практики\n",
    "\n",
    "#### Что исправить?\n",
    "\n",
    "```python\n",
    "x = [1, 10, 100, 1000]\n",
    "\n",
    "sum = 0  # хотим получить сумму x = 1111\n",
    "x_len = 0\n",
    "for i in x:\n",
    "    x_len += 1\n",
    "\n",
    "indexes = list()\n",
    "i = 0\n",
    "while x_len > 0:\n",
    "    indexes.append(i)\n",
    "    x_len = x_len - 1\n",
    "    i += 1\n",
    "\n",
    "for i in indexes:\n",
    "    sum += x[i]\n",
    "\n",
    "print(sum)\n",
    "```"
   ]
  }
 ],
 "metadata": {
  "kernelspec": {
   "display_name": "Python 3 (ipykernel)",
   "language": "python",
   "name": "python3"
  },
  "language_info": {
   "codemirror_mode": {
    "name": "ipython",
    "version": 3
   },
   "file_extension": ".py",
   "mimetype": "text/x-python",
   "name": "python",
   "nbconvert_exporter": "python",
   "pygments_lexer": "ipython3",
   "version": "3.11.3"
  }
 },
 "nbformat": 4,
 "nbformat_minor": 4
}
