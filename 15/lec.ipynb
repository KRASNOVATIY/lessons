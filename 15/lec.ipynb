{
 "cells": [
  {
   "cell_type": "markdown",
   "metadata": {
    "collapsed": true
   },
   "source": [
    "# Numpy\n",
    "\n",
    "Структура занятия:\n",
    "\n",
    "1) Введение, массивы\n",
    "\n",
    "2) Доступ к элементам и срезам\n",
    "\n",
    "3) Выполнение вычислений\n",
    "\n",
    "4) Индексация\n",
    "\n",
    "5) Сортировка\n",
    "\n",
    "6) Структуры\n",
    "\n",
    "## Введение\n",
    "\n",
    "Библиотека NumPy предоставляет реализации вычислительных алгоритмов (в виде функций и операторов), оптимизированные для работы с многомерными массивами, структуры NumPy эффективно хранят данные.\n",
    "\n",
    "Вспомним как хранятся данные в Python...\n",
    "\n",
    "Целое число в Python - это больше чем просто целое число. Целочисленный тип хранится в виде структуры [языка Си](https://github.com/python/cpython/blob/main/Objects/longobject.c#L140), содержит счётчик ссылок, кодирующий тип, фактическое целочисленное значение и т.д. Это значит, что существует достаточно большая избыточность хранения данных, в сравнении с компилируемыми языками, такими как Си. \n",
    "\n",
    "Анаогично, список в Python - это больше чем просто список. Список содержит указатель на блок указателей, каждый из которых, в свою очередь, указывает на целый объект языка Python, например, целое число. \n",
    "\n",
    "Преимущество массива Python - гибкость. Недостаток - низкая эффективность хранения данных и их обработки. \n",
    "\n",
    "Встроенный модуль `array` можно использовать для плотного (эффективного) хранения данных одного типа."
   ]
  },
  {
   "cell_type": "code",
   "execution_count": 4,
   "metadata": {},
   "outputs": [
    {
     "data": {
      "text/plain": [
       "array('i', [0, 1, 2, 3, 4, 5, 6, 7, 8, 9, 10, 11, 12, 13, 14, 15, 16, 17, 18, 19, 20, 21, 22, 23, 24, 25, 26, 27, 28, 29, 30, 31, 32, 33, 34, 35, 36, 37, 38, 39, 40, 41, 42, 43, 44, 45, 46, 47, 48, 49, 50, 51, 52, 53, 54, 55, 56, 57, 58, 59, 60, 61, 62, 63, 64, 65, 66, 67, 68, 69, 70, 71, 72, 73, 74, 75, 76, 77, 78, 79, 80, 81, 82, 83, 84, 85, 86, 87, 88, 89, 90, 91, 92, 93, 94, 95, 96, 97, 98, 99])"
      ]
     },
     "execution_count": 4,
     "metadata": {},
     "output_type": "execute_result"
    }
   ],
   "source": [
    "import array\n",
    "\n",
    "data = array.array('i', range(100))\n",
    "data"
   ]
  },
  {
   "cell_type": "code",
   "execution_count": 5,
   "metadata": {},
   "outputs": [
    {
     "data": {
      "text/plain": [
       "(488, 856)"
      ]
     },
     "execution_count": 5,
     "metadata": {},
     "output_type": "execute_result"
    }
   ],
   "source": [
    "from sys import getsizeof\n",
    "\n",
    "getsizeof(data), getsizeof(list(range(100)))"
   ]
  },
  {
   "cell_type": "markdown",
   "metadata": {},
   "source": [
    "Массивы NumPy, помимо эффективного хранения данных, обеспечивают также возможность выполнения эффективных операций над этими данными."
   ]
  },
  {
   "cell_type": "code",
   "execution_count": 3,
   "metadata": {},
   "outputs": [
    {
     "name": "stdout",
     "output_type": "stream",
     "text": [
      "Requirement already satisfied: numpy in /Users/mpkaraulov/.pyenv/versions/3.11.3/lib/python3.11/site-packages (1.24.3)\n",
      "\n",
      "\u001b[1m[\u001b[0m\u001b[34;49mnotice\u001b[0m\u001b[1;39;49m]\u001b[0m\u001b[39;49m A new release of pip is available: \u001b[0m\u001b[31;49m23.1.1\u001b[0m\u001b[39;49m -> \u001b[0m\u001b[32;49m23.1.2\u001b[0m\n",
      "\u001b[1m[\u001b[0m\u001b[34;49mnotice\u001b[0m\u001b[1;39;49m]\u001b[0m\u001b[39;49m To update, run: \u001b[0m\u001b[32;49mpip install --upgrade pip\u001b[0m\n",
      "Note: you may need to restart the kernel to use updated packages.\n"
     ]
    }
   ],
   "source": [
    "pip install numpy"
   ]
  },
  {
   "cell_type": "code",
   "execution_count": 6,
   "metadata": {},
   "outputs": [
    {
     "data": {
      "text/plain": [
       "array([ 0,  1,  2,  3,  4,  5,  6,  7,  8,  9, 10, 11, 12, 13, 14, 15, 16,\n",
       "       17, 18, 19, 20, 21, 22, 23, 24, 25, 26, 27, 28, 29, 30, 31, 32, 33,\n",
       "       34, 35, 36, 37, 38, 39, 40, 41, 42, 43, 44, 45, 46, 47, 48, 49, 50,\n",
       "       51, 52, 53, 54, 55, 56, 57, 58, 59, 60, 61, 62, 63, 64, 65, 66, 67,\n",
       "       68, 69, 70, 71, 72, 73, 74, 75, 76, 77, 78, 79, 80, 81, 82, 83, 84,\n",
       "       85, 86, 87, 88, 89, 90, 91, 92, 93, 94, 95, 96, 97, 98, 99])"
      ]
     },
     "execution_count": 6,
     "metadata": {},
     "output_type": "execute_result"
    }
   ],
   "source": [
    "import numpy as np\n",
    "\n",
    "np.array(range(100))"
   ]
  },
  {
   "cell_type": "markdown",
   "metadata": {},
   "source": [
    "Важно отметить, что массивы NumPy могут содержать элементы только одного типа. Если типы элементов не совпадают, NumPy пытается привести элементы к одному типу"
   ]
  },
  {
   "cell_type": "code",
   "execution_count": 11,
   "metadata": {},
   "outputs": [
    {
     "data": {
      "text/plain": [
       "array([0. , 1. , 2. , 3. , 4. , 5. , 6. , 7. , 8. , 9. , 0.1])"
      ]
     },
     "execution_count": 11,
     "metadata": {},
     "output_type": "execute_result"
    }
   ],
   "source": [
    "np.array(list(range(10)) + [0.1])"
   ]
  },
  {
   "cell_type": "code",
   "execution_count": 12,
   "metadata": {},
   "outputs": [
    {
     "data": {
      "text/plain": [
       "array(['0', '1', '2', '3', '4', '5', '6', '7', '8', '9', '1'],\n",
       "      dtype='<U21')"
      ]
     },
     "execution_count": 12,
     "metadata": {},
     "output_type": "execute_result"
    }
   ],
   "source": [
    "np.array(list(range(10)) + ['1'])"
   ]
  },
  {
   "cell_type": "code",
   "execution_count": 13,
   "metadata": {},
   "outputs": [
    {
     "data": {
      "text/plain": [
       "array(['0', '1', '2', '3', '4', '5', '6', '7', '8', '9', '0.1', '1'],\n",
       "      dtype='<U32')"
      ]
     },
     "execution_count": 13,
     "metadata": {},
     "output_type": "execute_result"
    }
   ],
   "source": [
    "np.array(list(range(10)) + [0.1, '1'])"
   ]
  },
  {
   "cell_type": "markdown",
   "metadata": {},
   "source": [
    "Есть возможность явно задать тип массива"
   ]
  },
  {
   "cell_type": "code",
   "execution_count": 14,
   "metadata": {},
   "outputs": [
    {
     "data": {
      "text/plain": [
       "array([0., 1., 2., 3., 4., 5., 6., 7., 8., 9.])"
      ]
     },
     "execution_count": 14,
     "metadata": {},
     "output_type": "execute_result"
    }
   ],
   "source": [
    "np.array(range(10), dtype='float64')"
   ]
  },
  {
   "cell_type": "markdown",
   "metadata": {},
   "source": [
    "Все типы"
   ]
  },
  {
   "cell_type": "code",
   "execution_count": 27,
   "metadata": {},
   "outputs": [
    {
     "data": {
      "text/plain": [
       "{'int': [numpy.int8, numpy.int16, numpy.int32, numpy.int64],\n",
       " 'uint': [numpy.uint8, numpy.uint16, numpy.uint32, numpy.uint64],\n",
       " 'float': [numpy.float16, numpy.float32, numpy.float64],\n",
       " 'complex': [numpy.complex64, numpy.complex128],\n",
       " 'others': [bool, object, bytes, str, numpy.void]}"
      ]
     },
     "execution_count": 27,
     "metadata": {},
     "output_type": "execute_result"
    }
   ],
   "source": [
    "np.sctypes"
   ]
  },
  {
   "cell_type": "markdown",
   "metadata": {},
   "source": [
    "Как ещё можно создать массив:"
   ]
  },
  {
   "cell_type": "code",
   "execution_count": null,
   "metadata": {},
   "outputs": [],
   "source": []
  },
  {
   "cell_type": "code",
   "execution_count": 15,
   "metadata": {},
   "outputs": [
    {
     "data": {
      "text/plain": [
       "array([0., 0., 0., 0., 0., 0., 0., 0., 0., 0.])"
      ]
     },
     "execution_count": 15,
     "metadata": {},
     "output_type": "execute_result"
    }
   ],
   "source": [
    "# массив нулей\n",
    "np.zeros(10)"
   ]
  },
  {
   "cell_type": "code",
   "execution_count": 16,
   "metadata": {},
   "outputs": [
    {
     "data": {
      "text/plain": [
       "array([20, 22, 24, 26, 28, 30, 32, 34, 36, 38])"
      ]
     },
     "execution_count": 16,
     "metadata": {},
     "output_type": "execute_result"
    }
   ],
   "source": [
    "# массив как range\n",
    "np.arange(20, 40, 2)"
   ]
  },
  {
   "cell_type": "code",
   "execution_count": 19,
   "metadata": {},
   "outputs": [
    {
     "data": {
      "text/plain": [
       "array([[1, 2, 3],\n",
       "       [4, 5, 6],\n",
       "       [7, 8, 9]])"
      ]
     },
     "execution_count": 19,
     "metadata": {},
     "output_type": "execute_result"
    }
   ],
   "source": [
    "# 3х мерный массив из списков\n",
    "np.array([[1,2,3], [4,5,6], [7,8,9]])"
   ]
  },
  {
   "cell_type": "code",
   "execution_count": 20,
   "metadata": {},
   "outputs": [
    {
     "data": {
      "text/plain": [
       "array([[1., 1.],\n",
       "       [1., 1.],\n",
       "       [1., 1.]])"
      ]
     },
     "execution_count": 20,
     "metadata": {},
     "output_type": "execute_result"
    }
   ],
   "source": [
    "# массив единиц\n",
    "np.ones((3, 2))"
   ]
  },
  {
   "cell_type": "code",
   "execution_count": 21,
   "metadata": {},
   "outputs": [
    {
     "data": {
      "text/plain": [
       "array([[1., 0., 0.],\n",
       "       [0., 1., 0.],\n",
       "       [0., 0., 1.]])"
      ]
     },
     "execution_count": 21,
     "metadata": {},
     "output_type": "execute_result"
    }
   ],
   "source": [
    "# диагональная матрица\n",
    "np.eye(3)"
   ]
  },
  {
   "cell_type": "code",
   "execution_count": 24,
   "metadata": {},
   "outputs": [
    {
     "data": {
      "text/plain": [
       "array([[0.0515375 , 0.06191523],\n",
       "       [0.18875236, 0.28293345],\n",
       "       [0.28229626, 0.66037485]])"
      ]
     },
     "execution_count": 24,
     "metadata": {},
     "output_type": "execute_result"
    }
   ],
   "source": [
    "# матрица c равномерно распределёнными случайными значениями\n",
    "np.random.random((3, 2))"
   ]
  },
  {
   "cell_type": "code",
   "execution_count": 25,
   "metadata": {},
   "outputs": [
    {
     "data": {
      "text/plain": [
       "array([[ 3.5850644 , -0.86103683],\n",
       "       [ 3.23679337,  1.78356202],\n",
       "       [-0.8343157 ,  0.84043357]])"
      ]
     },
     "execution_count": 25,
     "metadata": {},
     "output_type": "execute_result"
    }
   ],
   "source": [
    "# матрица c нормально распределёнными случайными значениями с медианой 0 и ст. отклонением 2\n",
    "np.random.normal(0, 2, (3, 2))"
   ]
  },
  {
   "cell_type": "markdown",
   "metadata": {},
   "source": [
    "## Доступ к элементам"
   ]
  },
  {
   "cell_type": "markdown",
   "metadata": {},
   "source": [
    "Доступ по индексам"
   ]
  },
  {
   "cell_type": "code",
   "execution_count": 45,
   "metadata": {},
   "outputs": [
    {
     "data": {
      "text/plain": [
       "6"
      ]
     },
     "execution_count": 45,
     "metadata": {},
     "output_type": "execute_result"
    }
   ],
   "source": [
    "A = np.array([[1,2,3], [4,5,6], [7,8,9]])\n",
    "A[1, 2]"
   ]
  },
  {
   "cell_type": "code",
   "execution_count": 46,
   "metadata": {},
   "outputs": [
    {
     "data": {
      "text/plain": [
       "6"
      ]
     },
     "execution_count": 46,
     "metadata": {},
     "output_type": "execute_result"
    }
   ],
   "source": [
    "A[1, -1]"
   ]
  },
  {
   "cell_type": "code",
   "execution_count": 47,
   "metadata": {},
   "outputs": [
    {
     "data": {
      "text/plain": [
       "array([[ 1,  2,  3],\n",
       "       [ 4,  5, 66],\n",
       "       [ 7,  8,  9]])"
      ]
     },
     "execution_count": 47,
     "metadata": {},
     "output_type": "execute_result"
    }
   ],
   "source": [
    "B = A.copy()  # обратите внимание, создаётся полная копия!\n",
    "B[1][2] = 66\n",
    "B"
   ]
  },
  {
   "cell_type": "code",
   "execution_count": 48,
   "metadata": {},
   "outputs": [
    {
     "data": {
      "text/plain": [
       "array([[1, 2, 3],\n",
       "       [4, 5, 6],\n",
       "       [7, 8, 9]])"
      ]
     },
     "execution_count": 48,
     "metadata": {},
     "output_type": "execute_result"
    }
   ],
   "source": [
    "A"
   ]
  },
  {
   "cell_type": "code",
   "execution_count": 49,
   "metadata": {},
   "outputs": [
    {
     "data": {
      "text/plain": [
       "[[1, 2, 3], [4, 5, 66], [7, 8, 9]]"
      ]
     },
     "execution_count": 49,
     "metadata": {},
     "output_type": "execute_result"
    }
   ],
   "source": [
    "a = [[1,2,3], [4,5,6], [7,8,9]]\n",
    "b = a.copy()  # при работе со списком, создаётся поверхностная копия\n",
    "b[1][2] = 66\n",
    "b"
   ]
  },
  {
   "cell_type": "code",
   "execution_count": 50,
   "metadata": {},
   "outputs": [
    {
     "data": {
      "text/plain": [
       "[[1, 2, 3], [4, 5, 66], [7, 8, 9]]"
      ]
     },
     "execution_count": 50,
     "metadata": {},
     "output_type": "execute_result"
    }
   ],
   "source": [
    "a"
   ]
  },
  {
   "cell_type": "code",
   "execution_count": 51,
   "metadata": {},
   "outputs": [
    {
     "data": {
      "text/plain": [
       "array([[7, 8, 9],\n",
       "       [4, 5, 6],\n",
       "       [1, 2, 3]])"
      ]
     },
     "execution_count": 51,
     "metadata": {},
     "output_type": "execute_result"
    }
   ],
   "source": [
    "A[::-1]"
   ]
  },
  {
   "cell_type": "markdown",
   "metadata": {},
   "source": [
    "Дополнительные возможности работы со срезами"
   ]
  },
  {
   "cell_type": "code",
   "execution_count": 52,
   "metadata": {},
   "outputs": [
    {
     "data": {
      "text/plain": [
       "array([[1, 2],\n",
       "       [4, 5]])"
      ]
     },
     "execution_count": 52,
     "metadata": {},
     "output_type": "execute_result"
    }
   ],
   "source": [
    "A[:2, :2]  # 2 строки и 2 столбца"
   ]
  },
  {
   "cell_type": "code",
   "execution_count": 53,
   "metadata": {},
   "outputs": [
    {
     "data": {
      "text/plain": [
       "array([[1, 3],\n",
       "       [4, 6]])"
      ]
     },
     "execution_count": 53,
     "metadata": {},
     "output_type": "execute_result"
    }
   ],
   "source": [
    "A[:2, ::2]  # 2 строки и каждый 2-й столбец"
   ]
  },
  {
   "cell_type": "code",
   "execution_count": 54,
   "metadata": {},
   "outputs": [
    {
     "data": {
      "text/plain": [
       "array([[9, 8, 7],\n",
       "       [6, 5, 4],\n",
       "       [3, 2, 1]])"
      ]
     },
     "execution_count": 54,
     "metadata": {},
     "output_type": "execute_result"
    }
   ],
   "source": [
    "A[::-1, ::-1]  # пееворачивание подмассивов"
   ]
  },
  {
   "cell_type": "code",
   "execution_count": 56,
   "metadata": {},
   "outputs": [
    {
     "data": {
      "text/plain": [
       "array([1, 4, 7])"
      ]
     },
     "execution_count": 56,
     "metadata": {},
     "output_type": "execute_result"
    }
   ],
   "source": [
    "A[:, 0] # первый столбец"
   ]
  },
  {
   "cell_type": "code",
   "execution_count": 59,
   "metadata": {},
   "outputs": [
    {
     "data": {
      "text/plain": [
       "array([4, 5, 6])"
      ]
     },
     "execution_count": 59,
     "metadata": {},
     "output_type": "execute_result"
    }
   ],
   "source": [
    "A[1, :] # вторая строка"
   ]
  },
  {
   "cell_type": "markdown",
   "metadata": {},
   "source": [
    "Срезы возвращают не копии массивов, а их предсавления. Это значит что изменение помассива (среза) повлечёт за собой изменение исходного массива. Для создания копий, необходимо использовать метод `.copy()`"
   ]
  },
  {
   "cell_type": "code",
   "execution_count": 60,
   "metadata": {},
   "outputs": [
    {
     "data": {
      "text/plain": [
       "array([[1, 2],\n",
       "       [4, 5]])"
      ]
     },
     "execution_count": 60,
     "metadata": {},
     "output_type": "execute_result"
    }
   ],
   "source": [
    "a_sub = A[:2, :2]\n",
    "a_sub"
   ]
  },
  {
   "cell_type": "code",
   "execution_count": 61,
   "metadata": {},
   "outputs": [
    {
     "data": {
      "text/plain": [
       "array([[100,   2,   3],\n",
       "       [  4,   5,   6],\n",
       "       [  7,   8,   9]])"
      ]
     },
     "execution_count": 61,
     "metadata": {},
     "output_type": "execute_result"
    }
   ],
   "source": [
    "a_sub[0, 0] = 100\n",
    "A"
   ]
  },
  {
   "cell_type": "markdown",
   "metadata": {},
   "source": [
    "Можно изменять форму массива при помощи метода `.reshape()`. При этом, размер исходного массива и преобразования должны соответствовать друг другу."
   ]
  },
  {
   "cell_type": "code",
   "execution_count": 67,
   "metadata": {},
   "outputs": [
    {
     "data": {
      "text/plain": [
       "array([[1, 2, 3],\n",
       "       [4, 5, 6],\n",
       "       [7, 8, 9]])"
      ]
     },
     "execution_count": 67,
     "metadata": {},
     "output_type": "execute_result"
    }
   ],
   "source": [
    "# поместим числа от 1 до 10 в таблицу 3x3\n",
    "np.arange(1, 10).reshape((3, 3))"
   ]
  },
  {
   "cell_type": "code",
   "execution_count": 77,
   "metadata": {},
   "outputs": [
    {
     "data": {
      "text/plain": [
       "array([[ 0,  1,  2,  3,  4,  5],\n",
       "       [ 6,  7,  8,  9, 10, 11]])"
      ]
     },
     "execution_count": 77,
     "metadata": {},
     "output_type": "execute_result"
    }
   ],
   "source": [
    "np.arange(12).reshape((2, 6))"
   ]
  },
  {
   "cell_type": "markdown",
   "metadata": {},
   "source": [
    "При помощи методов `.concatenate()`, `.split()` массивы можно объединять и разбивать"
   ]
  },
  {
   "cell_type": "code",
   "execution_count": 78,
   "metadata": {},
   "outputs": [
    {
     "data": {
      "text/plain": [
       "array([[100,   2,   3],\n",
       "       [  4,   5,   6],\n",
       "       [  7,   8,   9],\n",
       "       [100,   2,   3],\n",
       "       [  4,   5,   6],\n",
       "       [  7,   8,   9]])"
      ]
     },
     "execution_count": 78,
     "metadata": {},
     "output_type": "execute_result"
    }
   ],
   "source": [
    "np.concatenate([A, A])"
   ]
  },
  {
   "cell_type": "code",
   "execution_count": 79,
   "metadata": {},
   "outputs": [
    {
     "data": {
      "text/plain": [
       "array([[100,   2,   3, 100,   2,   3],\n",
       "       [  4,   5,   6,   4,   5,   6],\n",
       "       [  7,   8,   9,   7,   8,   9]])"
      ]
     },
     "execution_count": 79,
     "metadata": {},
     "output_type": "execute_result"
    }
   ],
   "source": [
    "np.concatenate([A, A], axis=1)"
   ]
  },
  {
   "cell_type": "code",
   "execution_count": 80,
   "metadata": {},
   "outputs": [
    {
     "data": {
      "text/plain": [
       "[array([[100,   2,   3]]),\n",
       " array([], shape=(0, 3), dtype=int64),\n",
       " array([[4, 5, 6],\n",
       "        [7, 8, 9]])]"
      ]
     },
     "execution_count": 80,
     "metadata": {},
     "output_type": "execute_result"
    }
   ],
   "source": [
    "np.split(A, [1, 1])  # кроме массива задаём точки раздела"
   ]
  },
  {
   "cell_type": "code",
   "execution_count": 81,
   "metadata": {},
   "outputs": [
    {
     "data": {
      "text/plain": [
       "[array([[100],\n",
       "        [  4],\n",
       "        [  7]]),\n",
       " array([], shape=(3, 0), dtype=int64),\n",
       " array([[2, 3],\n",
       "        [5, 6],\n",
       "        [8, 9]])]"
      ]
     },
     "execution_count": 81,
     "metadata": {},
     "output_type": "execute_result"
    }
   ],
   "source": [
    "np.split(A, [1, 1], axis=1)  # кроме массива задаём точки раздела"
   ]
  },
  {
   "cell_type": "markdown",
   "metadata": {},
   "source": [
    "## Выполнение вычислений\n",
    "\n",
    "Ключ к ускорению обработки массивов - использование векторизованных операций.\n",
    "\n",
    "Многие (но не все) функции NumPy работают с разблокированным GIL!\n",
    "\n",
    "Сравим скорость обработки массива стандартным способом, то есть при помощи цикла и использование веркоризованных (направленных на вектор) операций."
   ]
  },
  {
   "cell_type": "code",
   "execution_count": 87,
   "metadata": {},
   "outputs": [
    {
     "name": "stdout",
     "output_type": "stream",
     "text": [
      "8.79 ms ± 22.7 µs per loop (mean ± std. dev. of 7 runs, 100 loops each)\n"
     ]
    }
   ],
   "source": [
    "def compute_negative(arr):\n",
    "    result = np.empty(len(arr))\n",
    "    for i in range(len(arr)):\n",
    "        result[i] = -arr[i]\n",
    "    return result\n",
    "\n",
    "V = np.random.random(size=100_000)\n",
    "%timeit compute_negative(V)  # через цикл"
   ]
  },
  {
   "cell_type": "code",
   "execution_count": 88,
   "metadata": {},
   "outputs": [
    {
     "name": "stdout",
     "output_type": "stream",
     "text": [
      "32.3 µs ± 162 ns per loop (mean ± std. dev. of 7 runs, 10,000 loops each)\n"
     ]
    }
   ],
   "source": [
    "%timeit (-V)  # через векторизованные операции"
   ]
  },
  {
   "cell_type": "markdown",
   "metadata": {},
   "source": [
    "Векторизованные операции реализованы посредством *универсальных функций*, которые позволяют быстро выполнять повторяющиеся операции на массивах NumPy \n",
    "\n",
    "Универсальные функции делятся на унарные и бинарные, список:\n",
    "- унарные: `-`, `np.abs()`, `np.sin()`, `np.log()`, `np.exp()`, и т.д.\n",
    "- бинарные: `+`, `-`, `*`, `**`, `/`, `//`, `%`, и т.д.\n",
    "\n",
    "Арифметические операторы являются адаптерами для функций, например `+` = `np.add()`"
   ]
  },
  {
   "cell_type": "markdown",
   "metadata": {},
   "source": [
    "Все универсальные функции имеют дополнительный метод `.reduce()`"
   ]
  },
  {
   "cell_type": "code",
   "execution_count": 12,
   "metadata": {},
   "outputs": [
    {
     "data": {
      "text/plain": [
       "49871.49733812176"
      ]
     },
     "execution_count": 12,
     "metadata": {},
     "output_type": "execute_result"
    }
   ],
   "source": [
    "A = np.random.random(size=100_000)\n",
    "np.add.reduce(A)"
   ]
  },
  {
   "cell_type": "markdown",
   "metadata": {},
   "source": [
    "Агрегирования:"
   ]
  },
  {
   "cell_type": "code",
   "execution_count": 13,
   "metadata": {},
   "outputs": [
    {
     "data": {
      "text/plain": [
       "49871.49733812176"
      ]
     },
     "execution_count": 13,
     "metadata": {},
     "output_type": "execute_result"
    }
   ],
   "source": [
    "# сумма\n",
    "np.sum(A)"
   ]
  },
  {
   "cell_type": "code",
   "execution_count": 14,
   "metadata": {},
   "outputs": [
    {
     "data": {
      "text/plain": [
       "(3.4093716778649252e-06, 0.999990464957956)"
      ]
     },
     "execution_count": 14,
     "metadata": {},
     "output_type": "execute_result"
    }
   ],
   "source": [
    "# минимум и максимум\n",
    "np.min(A), np.max(A)"
   ]
  },
  {
   "cell_type": "code",
   "execution_count": 7,
   "metadata": {},
   "outputs": [
    {
     "data": {
      "text/plain": [
       "array([[0.04322121, 0.42138783, 0.45157952],\n",
       "       [0.71176784, 0.45886873, 0.81536882],\n",
       "       [0.62185557, 0.59421035, 0.14436555]])"
      ]
     },
     "execution_count": 7,
     "metadata": {},
     "output_type": "execute_result"
    }
   ],
   "source": [
    "M = np.random.random((3, 3))\n",
    "M"
   ]
  },
  {
   "cell_type": "code",
   "execution_count": 8,
   "metadata": {},
   "outputs": [
    {
     "data": {
      "text/plain": [
       "4.262625431580285"
      ]
     },
     "execution_count": 8,
     "metadata": {},
     "output_type": "execute_result"
    }
   ],
   "source": [
    "np.sum(M)"
   ]
  },
  {
   "cell_type": "code",
   "execution_count": 9,
   "metadata": {},
   "outputs": [
    {
     "data": {
      "text/plain": [
       "array([1.37684462, 1.47446691, 1.4113139 ])"
      ]
     },
     "execution_count": 9,
     "metadata": {},
     "output_type": "execute_result"
    }
   ],
   "source": [
    "np.sum(M, axis=0)"
   ]
  },
  {
   "cell_type": "code",
   "execution_count": 10,
   "metadata": {},
   "outputs": [
    {
     "data": {
      "text/plain": [
       "array([0.91618856, 1.9860054 , 1.36043147])"
      ]
     },
     "execution_count": 10,
     "metadata": {},
     "output_type": "execute_result"
    }
   ],
   "source": [
    "np.sum(M, axis=1)"
   ]
  },
  {
   "cell_type": "markdown",
   "metadata": {},
   "source": [
    "Возможные агрегирования:\n",
    "- `np.sum` - сумма\n",
    "- `np.mean` - среднее\n",
    "- `np.std` - стандартное отклонение\n",
    "- `np.var` - дисперсия\n",
    "- `np.median` - медиана\n",
    "- `np.percentile` - квантили элементов\n",
    "- `np.all` - все ли элементы истины\n",
    "- `np.any` - есть ли среди элементов истинный"
   ]
  },
  {
   "cell_type": "markdown",
   "metadata": {},
   "source": [
    "Транслирования - правила применения бинарных универсальных функций к массивам различной длины."
   ]
  },
  {
   "cell_type": "code",
   "execution_count": 11,
   "metadata": {},
   "outputs": [
    {
     "data": {
      "text/plain": [
       "array([[5.04322121, 5.42138783, 5.45157952],\n",
       "       [5.71176784, 5.45886873, 5.81536882],\n",
       "       [5.62185557, 5.59421035, 5.14436555]])"
      ]
     },
     "execution_count": 11,
     "metadata": {},
     "output_type": "execute_result"
    }
   ],
   "source": [
    "M + 5  # простой случай - сложение применяется ко всем элементам"
   ]
  },
  {
   "cell_type": "code",
   "execution_count": 12,
   "metadata": {},
   "outputs": [
    {
     "data": {
      "text/plain": [
       "array([[0.08644243, 0.84277566, 0.90315904],\n",
       "       [1.42353567, 0.91773747, 1.63073765],\n",
       "       [1.24371114, 1.1884207 , 0.28873111]])"
      ]
     },
     "execution_count": 12,
     "metadata": {},
     "output_type": "execute_result"
    }
   ],
   "source": [
    "M + M  # простой случай - сложение происходит попарно между элементами с одинаковыми индексами"
   ]
  },
  {
   "cell_type": "code",
   "execution_count": 13,
   "metadata": {},
   "outputs": [
    {
     "data": {
      "text/plain": [
       "array([[1.04322121, 2.42138783, 3.45157952],\n",
       "       [1.71176784, 2.45886873, 3.81536882],\n",
       "       [1.62185557, 2.59421035, 3.14436555]])"
      ]
     },
     "execution_count": 13,
     "metadata": {},
     "output_type": "execute_result"
    }
   ],
   "source": [
    "M + np.array([1, 2, 3])  # сложение происходит по столбцам"
   ]
  },
  {
   "cell_type": "code",
   "execution_count": 14,
   "metadata": {},
   "outputs": [
    {
     "data": {
      "text/plain": [
       "array([[1.04322121, 1.42138783, 1.45157952],\n",
       "       [2.71176784, 2.45886873, 2.81536882],\n",
       "       [3.62185557, 3.59421035, 3.14436555]])"
      ]
     },
     "execution_count": 14,
     "metadata": {},
     "output_type": "execute_result"
    }
   ],
   "source": [
    "M + np.array([1, 2, 3]).reshape((3, 1))  # сложение по строкам"
   ]
  },
  {
   "cell_type": "markdown",
   "metadata": {},
   "source": [
    "Маски. Универсальные функции `>`, `<`, `=`, `!=` позволяют создать маски, то есть классифицировать данные по какому либо признаку, преобразовать массивы к виду истина / ложь. Это необходимо, если мы хотим ответить на какой-либо конкретный вопрос"
   ]
  },
  {
   "cell_type": "code",
   "execution_count": 15,
   "metadata": {},
   "outputs": [
    {
     "data": {
      "text/plain": [
       "array([[0.04322121, 0.42138783, 0.45157952],\n",
       "       [0.71176784, 0.45886873, 0.81536882],\n",
       "       [0.62185557, 0.59421035, 0.14436555]])"
      ]
     },
     "execution_count": 15,
     "metadata": {},
     "output_type": "execute_result"
    }
   ],
   "source": [
    "M"
   ]
  },
  {
   "cell_type": "code",
   "execution_count": 16,
   "metadata": {},
   "outputs": [
    {
     "data": {
      "text/plain": [
       "0.473625047953365"
      ]
     },
     "execution_count": 16,
     "metadata": {},
     "output_type": "execute_result"
    }
   ],
   "source": [
    "M.mean()"
   ]
  },
  {
   "cell_type": "code",
   "execution_count": 17,
   "metadata": {},
   "outputs": [
    {
     "data": {
      "text/plain": [
       "array([[False, False, False],\n",
       "       [ True, False,  True],\n",
       "       [ True,  True, False]])"
      ]
     },
     "execution_count": 17,
     "metadata": {},
     "output_type": "execute_result"
    }
   ],
   "source": [
    "M > M.mean()"
   ]
  },
  {
   "cell_type": "code",
   "execution_count": 18,
   "metadata": {},
   "outputs": [
    {
     "data": {
      "text/plain": [
       "4.262625431580285"
      ]
     },
     "execution_count": 18,
     "metadata": {},
     "output_type": "execute_result"
    }
   ],
   "source": [
    "M.sum()"
   ]
  },
  {
   "cell_type": "code",
   "execution_count": 19,
   "metadata": {},
   "outputs": [
    {
     "data": {
      "text/plain": [
       "4"
      ]
     },
     "execution_count": 19,
     "metadata": {},
     "output_type": "execute_result"
    }
   ],
   "source": [
    "np.sum(M > M.mean())  # сочетание агрегации и маски"
   ]
  },
  {
   "cell_type": "markdown",
   "metadata": {},
   "source": [
    "Условия можно сочетать при помощи логических операторов `&` (and), `|` (or), `^` (xor), `~` (not)"
   ]
  },
  {
   "cell_type": "code",
   "execution_count": 20,
   "metadata": {},
   "outputs": [
    {
     "data": {
      "text/plain": [
       "array([[ True, False, False],\n",
       "       [ True, False,  True],\n",
       "       [ True,  True, False]])"
      ]
     },
     "execution_count": 20,
     "metadata": {},
     "output_type": "execute_result"
    }
   ],
   "source": [
    "(M > M.mean()) | (M == M.min())"
   ]
  },
  {
   "cell_type": "markdown",
   "metadata": {},
   "source": [
    "### Пример. Статистики по росту людей"
   ]
  },
  {
   "cell_type": "code",
   "execution_count": 37,
   "metadata": {},
   "outputs": [],
   "source": [
    "import csv\n",
    "\n",
    "heights = []\n",
    "\n",
    "with open(\"weight_height.csv\") as csvfile:\n",
    "    r = csv.DictReader(csvfile)\n",
    "    for i in r:\n",
    "        heights.append(float(i['Height']))"
   ]
  },
  {
   "cell_type": "code",
   "execution_count": 38,
   "metadata": {},
   "outputs": [],
   "source": [
    "heights_arr = np.array(heights)"
   ]
  },
  {
   "cell_type": "code",
   "execution_count": 39,
   "metadata": {},
   "outputs": [
    {
     "data": {
      "text/plain": [
       "array([187.57142322, 174.70603628, 188.2396677 , ..., 162.22470022,\n",
       "       175.34697755, 157.33838453])"
      ]
     },
     "execution_count": 39,
     "metadata": {},
     "output_type": "execute_result"
    }
   ],
   "source": [
    "heights_arr"
   ]
  },
  {
   "cell_type": "code",
   "execution_count": 40,
   "metadata": {},
   "outputs": [
    {
     "data": {
      "text/plain": [
       "(168.57360177724598, 200.6568055598296, 137.82835864574665)"
      ]
     },
     "execution_count": 40,
     "metadata": {},
     "output_type": "execute_result"
    }
   ],
   "source": [
    "heights_arr.mean(), heights_arr.max(), heights_arr.min()"
   ]
  },
  {
   "cell_type": "code",
   "execution_count": 41,
   "metadata": {},
   "outputs": [
    {
     "data": {
      "text/plain": [
       "(9.772232778476152, 168.447898007733, 175.70262478616016, 161.30427602229614)"
      ]
     },
     "execution_count": 41,
     "metadata": {},
     "output_type": "execute_result"
    }
   ],
   "source": [
    "heights_arr.std(), np.median(heights_arr), np.percentile(heights_arr, 75), np.percentile(heights_arr, 25)"
   ]
  },
  {
   "cell_type": "markdown",
   "metadata": {},
   "source": [
    "Так как куда интереснее видеть графическое представление данных, воспользуемся библиотекой `matplotlib`. Она отлично интегрированна в Jupyter"
   ]
  },
  {
   "cell_type": "code",
   "execution_count": 42,
   "metadata": {},
   "outputs": [
    {
     "name": "stdout",
     "output_type": "stream",
     "text": [
      "Requirement already satisfied: matplotlib in /Users/mpkaraulov/.pyenv/versions/3.11.3/lib/python3.11/site-packages (3.7.1)\n",
      "Requirement already satisfied: contourpy>=1.0.1 in /Users/mpkaraulov/.pyenv/versions/3.11.3/lib/python3.11/site-packages (from matplotlib) (1.0.7)\n",
      "Requirement already satisfied: cycler>=0.10 in /Users/mpkaraulov/.pyenv/versions/3.11.3/lib/python3.11/site-packages (from matplotlib) (0.11.0)\n",
      "Requirement already satisfied: fonttools>=4.22.0 in /Users/mpkaraulov/.pyenv/versions/3.11.3/lib/python3.11/site-packages (from matplotlib) (4.39.3)\n",
      "Requirement already satisfied: kiwisolver>=1.0.1 in /Users/mpkaraulov/.pyenv/versions/3.11.3/lib/python3.11/site-packages (from matplotlib) (1.4.4)\n",
      "Requirement already satisfied: numpy>=1.20 in /Users/mpkaraulov/.pyenv/versions/3.11.3/lib/python3.11/site-packages (from matplotlib) (1.24.3)\n",
      "Requirement already satisfied: packaging>=20.0 in /Users/mpkaraulov/.pyenv/versions/3.11.3/lib/python3.11/site-packages (from matplotlib) (23.1)\n",
      "Requirement already satisfied: pillow>=6.2.0 in /Users/mpkaraulov/.pyenv/versions/3.11.3/lib/python3.11/site-packages (from matplotlib) (9.5.0)\n",
      "Requirement already satisfied: pyparsing>=2.3.1 in /Users/mpkaraulov/.pyenv/versions/3.11.3/lib/python3.11/site-packages (from matplotlib) (3.0.9)\n",
      "Requirement already satisfied: python-dateutil>=2.7 in /Users/mpkaraulov/.pyenv/versions/3.11.3/lib/python3.11/site-packages (from matplotlib) (2.8.2)\n",
      "Requirement already satisfied: six>=1.5 in /Users/mpkaraulov/.pyenv/versions/3.11.3/lib/python3.11/site-packages (from python-dateutil>=2.7->matplotlib) (1.16.0)\n",
      "\n",
      "\u001b[1m[\u001b[0m\u001b[34;49mnotice\u001b[0m\u001b[1;39;49m]\u001b[0m\u001b[39;49m A new release of pip is available: \u001b[0m\u001b[31;49m23.1.1\u001b[0m\u001b[39;49m -> \u001b[0m\u001b[32;49m23.1.2\u001b[0m\n",
      "\u001b[1m[\u001b[0m\u001b[34;49mnotice\u001b[0m\u001b[1;39;49m]\u001b[0m\u001b[39;49m To update, run: \u001b[0m\u001b[32;49mpip install --upgrade pip\u001b[0m\n",
      "Note: you may need to restart the kernel to use updated packages.\n"
     ]
    }
   ],
   "source": [
    "pip install matplotlib"
   ]
  },
  {
   "cell_type": "code",
   "execution_count": 43,
   "metadata": {},
   "outputs": [
    {
     "data": {
      "text/plain": [
       "(array([  23.,  218.,  926., 1906., 2196., 2167., 1612.,  765.,  163.,\n",
       "          24.]),\n",
       " array([137.82835865, 144.11120334, 150.39404803, 156.67689272,\n",
       "        162.95973741, 169.2425821 , 175.52542679, 181.80827149,\n",
       "        188.09111618, 194.37396087, 200.65680556]),\n",
       " <BarContainer object of 10 artists>)"
      ]
     },
     "execution_count": 43,
     "metadata": {},
     "output_type": "execute_result"
    },
    {
     "data": {
      "image/png": "[encoded data removed]",
      "text/plain": [
       "<Figure size 640x480 with 1 Axes>"
      ]
     },
     "metadata": {},
     "output_type": "display_data"
    }
   ],
   "source": [
    "%matplotlib inline\n",
    "import matplotlib.pyplot as plt\n",
    "plt.hist(heights_arr)"
   ]
  },
  {
   "cell_type": "markdown",
   "metadata": {},
   "source": [
    "Точные численные данные"
   ]
  },
  {
   "cell_type": "code",
   "execution_count": 44,
   "metadata": {},
   "outputs": [
    {
     "data": {
      "text/plain": [
       "10000"
      ]
     },
     "execution_count": 44,
     "metadata": {},
     "output_type": "execute_result"
    }
   ],
   "source": [
    "np.count_nonzero(heights_arr)"
   ]
  },
  {
   "cell_type": "code",
   "execution_count": 45,
   "metadata": {},
   "outputs": [
    {
     "data": {
      "text/plain": [
       "(200, 9800, 187.92422965671105)"
      ]
     },
     "execution_count": 45,
     "metadata": {},
     "output_type": "execute_result"
    }
   ],
   "source": [
    "h_h = np.percentile(heights_arr, 98)\n",
    "np.count_nonzero(heights_arr >= h_h), np.count_nonzero(heights_arr < h_h), h_h"
   ]
  },
  {
   "cell_type": "code",
   "execution_count": 46,
   "metadata": {},
   "outputs": [
    {
     "data": {
      "text/plain": [
       "(9800, 200, 149.75824261557102)"
      ]
     },
     "execution_count": 46,
     "metadata": {},
     "output_type": "execute_result"
    }
   ],
   "source": [
    "l_h = np.percentile(heights_arr, 2)\n",
    "np.count_nonzero(heights_arr >= l_h), np.count_nonzero(heights_arr < l_h), l_h"
   ]
  },
  {
   "cell_type": "markdown",
   "metadata": {},
   "source": [
    "## Индексация"
   ]
  },
  {
   "cell_type": "code",
   "execution_count": 47,
   "metadata": {},
   "outputs": [
    {
     "data": {
      "text/plain": [
       "array([ 1, 13,  2,  2,  4, 14,  6, 12,  0, 15, 12, 15])"
      ]
     },
     "execution_count": 47,
     "metadata": {},
     "output_type": "execute_result"
    }
   ],
   "source": [
    "A = np.random.randint(0, 20, size=12)\n",
    "A"
   ]
  },
  {
   "cell_type": "markdown",
   "metadata": {},
   "source": [
    "Нужные элементы можно запрашивать напрямую, с указанием индексов "
   ]
  },
  {
   "cell_type": "code",
   "execution_count": 48,
   "metadata": {},
   "outputs": [
    {
     "data": {
      "text/plain": [
       "[13, 14, 2]"
      ]
     },
     "execution_count": 48,
     "metadata": {},
     "output_type": "execute_result"
    }
   ],
   "source": [
    "[A[1], A[5], A[3]]"
   ]
  },
  {
   "cell_type": "markdown",
   "metadata": {},
   "source": [
    "Но лучшим способом является передача массива индексов"
   ]
  },
  {
   "cell_type": "code",
   "execution_count": 49,
   "metadata": {},
   "outputs": [
    {
     "data": {
      "text/plain": [
       "array([13, 14,  2])"
      ]
     },
     "execution_count": 49,
     "metadata": {},
     "output_type": "execute_result"
    }
   ],
   "source": [
    "idx = [1, 5, 3]\n",
    "A[idx]"
   ]
  },
  {
   "cell_type": "markdown",
   "metadata": {},
   "source": [
    "Такая индексация работает с многомерными массивами, при этом необходимо передавать индексы нужных измерений для каждого элемента"
   ]
  },
  {
   "cell_type": "code",
   "execution_count": 50,
   "metadata": {},
   "outputs": [
    {
     "data": {
      "text/plain": [
       "array([[ 0, 11,  4],\n",
       "       [17, 13, 11],\n",
       "       [13, 14, 13],\n",
       "       [ 9,  3,  0]])"
      ]
     },
     "execution_count": 50,
     "metadata": {},
     "output_type": "execute_result"
    }
   ],
   "source": [
    "A = np.random.randint(0, 20, size=12).reshape((4, 3))\n",
    "A"
   ]
  },
  {
   "cell_type": "code",
   "execution_count": 51,
   "metadata": {},
   "outputs": [
    {
     "data": {
      "text/plain": [
       "array([ 0, 11,  0])"
      ]
     },
     "execution_count": 51,
     "metadata": {},
     "output_type": "execute_result"
    }
   ],
   "source": [
    "row = [0, 1, 3]\n",
    "col = [0, 2, 2]\n",
    "A[row, col]"
   ]
  },
  {
   "cell_type": "markdown",
   "metadata": {},
   "source": [
    "Можно совмещать простые индексы и массивы индексов"
   ]
  },
  {
   "cell_type": "code",
   "execution_count": 52,
   "metadata": {},
   "outputs": [
    {
     "data": {
      "text/plain": [
       "array([17, 11, 11])"
      ]
     },
     "execution_count": 52,
     "metadata": {},
     "output_type": "execute_result"
    }
   ],
   "source": [
    "row = 1\n",
    "col = [0, 2, 2]\n",
    "A[row, col]"
   ]
  },
  {
   "cell_type": "markdown",
   "metadata": {},
   "source": [
    "Частая сфера применения разного рода индексаций - выборка подмножеств данных, например, для разделения датасетов на обучающую и тестовую выборки."
   ]
  },
  {
   "cell_type": "code",
   "execution_count": 53,
   "metadata": {},
   "outputs": [],
   "source": [
    "import csv\n",
    "\n",
    "weights = []\n",
    "\n",
    "with open(\"weight_height.csv\") as csvfile:\n",
    "    r = csv.DictReader(csvfile)\n",
    "    for i in r:\n",
    "        weights.append(float(i['Weight']))\n",
    "        \n",
    "weights_arr = np.array(weights)"
   ]
  },
  {
   "cell_type": "code",
   "execution_count": 54,
   "metadata": {},
   "outputs": [
    {
     "data": {
      "text/plain": [
       "(10000, 10000)"
      ]
     },
     "execution_count": 54,
     "metadata": {},
     "output_type": "execute_result"
    }
   ],
   "source": [
    "np.count_nonzero(heights_arr), np.count_nonzero(weights_arr)"
   ]
  },
  {
   "cell_type": "code",
   "execution_count": 55,
   "metadata": {},
   "outputs": [
    {
     "data": {
      "text/plain": [
       "((10000,), (10000,))"
      ]
     },
     "execution_count": 55,
     "metadata": {},
     "output_type": "execute_result"
    }
   ],
   "source": [
    "heights_arr.shape, weights_arr.shape"
   ]
  },
  {
   "cell_type": "code",
   "execution_count": 56,
   "metadata": {},
   "outputs": [],
   "source": [
    "X = np.stack([heights_arr, weights_arr], axis=-1)  # объединили рост и вес по индексу записи"
   ]
  },
  {
   "cell_type": "code",
   "execution_count": 57,
   "metadata": {},
   "outputs": [
    {
     "data": {
      "text/plain": [
       "(10000, 2)"
      ]
     },
     "execution_count": 57,
     "metadata": {},
     "output_type": "execute_result"
    }
   ],
   "source": [
    "X.shape"
   ]
  },
  {
   "cell_type": "code",
   "execution_count": 58,
   "metadata": {},
   "outputs": [
    {
     "data": {
      "text/plain": [
       "<matplotlib.collections.PathCollection at 0x1127532d0>"
      ]
     },
     "execution_count": 58,
     "metadata": {},
     "output_type": "execute_result"
    },
    {
     "data": {
      "image/png": "[encoded data removed]",
      "text/plain": [
       "<Figure size 640x480 with 1 Axes>"
      ]
     },
     "metadata": {},
     "output_type": "display_data"
    }
   ],
   "source": [
    "plt.scatter(X[:, 0], X[:, 1], s=1)"
   ]
  },
  {
   "cell_type": "markdown",
   "metadata": {},
   "source": [
    "1000 случайных элементов отберём для теста, используя индексацию"
   ]
  },
  {
   "cell_type": "code",
   "execution_count": 59,
   "metadata": {},
   "outputs": [],
   "source": [
    "indexes = np.random.choice(X.shape[0], 1000, replace=False)"
   ]
  },
  {
   "cell_type": "code",
   "execution_count": 60,
   "metadata": {},
   "outputs": [
    {
     "data": {
      "text/plain": [
       "array([5879, 4565, 7617, 7988, 5365, 6026, 3654, 9429, 2273,  380, 5570,\n",
       "       5980, 1913, 8271,  297, 6052, 3127, 7408, 7045, 9339, 7987, 3859,\n",
       "       5557, 9363, 6346, 6397, 3538, 1574, 4250,  208, 6882, 5544, 5810,\n",
       "       4097, 9273, 2303, 3104, 1800,   74, 4338, 8136, 8986, 4591, 2832,\n",
       "       3980, 2205, 1076, 3325, 8763, 8817, 6991, 2347, 5601, 2222, 2317,\n",
       "       6281, 8174, 9727, 9032, 5260, 7652, 2553, 3010, 6734, 1738,  784,\n",
       "        726,  255,   40, 9064,  349, 6756, 2902, 5862, 8501, 7993, 8321,\n",
       "       5421, 5877, 2578, 4863, 7862, 4142, 4593, 5444, 8177, 9720,   14,\n",
       "       7455, 3443, 7949,  661,  333,  728, 7208, 7018, 6492, 8246, 9172,\n",
       "       7635, 2297, 7262, 5678, 7179, 8316, 1796, 1377, 4383, 7634, 9210,\n",
       "       3501, 2876, 3176, 4878, 4397, 8144, 3884, 3305,  692, 8585, 7853,\n",
       "       1225,  698, 4462, 6296, 3514, 8488, 7825, 9995, 1872, 4480, 8685,\n",
       "       9147,  622, 7363, 2221, 7159, 1696, 1674, 6560, 8349,  758, 4201,\n",
       "       3494, 7802, 4252, 3736, 9901, 7990, 8590, 6903, 4124, 3472, 8224,\n",
       "       1790, 3670, 2640, 6021, 7072,  121, 7616, 7207, 4641, 1451, 9402,\n",
       "       5474, 6043, 1385, 2729, 9619, 8676,  191, 6458, 3005, 7405, 7989,\n",
       "       8425, 2539, 4012, 1302, 4595, 4220, 5238, 3997,  531, 9272, 1525,\n",
       "       9671, 1903, 4067, 6405, 1902, 1264, 8211, 4463, 8922, 4971, 1460,\n",
       "       2849, 9326, 3220, 1349, 6716, 9718, 9535, 3792, 5246,  584,  117,\n",
       "       1587, 1029, 2425, 7032, 2028, 7380, 3940, 4301, 6987, 9024, 8448,\n",
       "       9428, 4583, 9492, 7456,  365,  246, 8693,  589, 2971, 3599, 3392,\n",
       "       9704, 6812,  510, 3750, 3169, 4545, 6846, 3872, 2152, 9674, 1859,\n",
       "        193, 7706, 1709, 2486,  532, 7571, 5767,  663, 1130, 2531, 7606,\n",
       "       1099, 6820, 3034, 7468, 9266,  143, 2258, 5235, 5683, 7142, 4608,\n",
       "       7757, 9725, 5514, 5348, 5424, 3113, 7721, 7851,  399, 7124, 3739,\n",
       "       9196, 6092, 9504, 3805, 7119, 2321, 2315, 2686, 5295, 8053, 2950,\n",
       "       8492, 8861, 5323, 3840, 7690, 3497, 5055, 4885, 5463, 8822, 9153,\n",
       "       4150, 6746, 8903, 3378, 9563, 1700, 2464, 1322, 7301, 7801, 4312,\n",
       "       2170, 4095, 8133, 2898, 9751, 3729,  279, 2289, 9965, 8219, 8087,\n",
       "       9433, 3413, 8612, 1874, 9880,  781, 9863, 2552, 5582, 1545, 4199,\n",
       "        391, 2346, 2988, 7986, 4125, 3154, 1250, 2235, 5607, 3772, 1715,\n",
       "       9066, 1692, 6906, 5142, 4081, 4350, 9537, 3425, 1615, 9260, 8255,\n",
       "        128, 2976, 3000,  468, 1502, 2712, 9748, 7892, 6933, 1684, 8945,\n",
       "       8167,  424, 5608, 7214, 3904, 4277, 7413, 5568, 4587, 9357, 3696,\n",
       "       7037,  867, 2369, 1339, 8419, 1346, 1354, 5983,  356, 4983,  378,\n",
       "       6488, 3058, 1530, 9267,  753, 8541, 7514, 3446, 3784, 1221, 2895,\n",
       "       8692, 3022, 4901, 6561, 2840, 7341, 7395, 6797, 8794, 7638, 5447,\n",
       "       4102, 2442, 2996, 5869, 7422, 6272,  125, 8826, 7269, 4159, 7926,\n",
       "       4904, 1731, 2652, 2023, 2611,   41, 7138, 6013, 7913, 7675, 4726,\n",
       "       4026, 3873, 9875, 9132, 1166, 6519, 5103,  804, 1663, 9440, 4645,\n",
       "       5127, 6929, 2463, 2051, 9546, 8632, 1824, 5321, 2394,  250, 6676,\n",
       "       4077, 8497, 6491, 2435, 8475,   31, 1606, 7591, 8549, 3072, 6024,\n",
       "       8153, 7006, 4181, 4783, 9698, 6299, 9654, 2775, 9348, 1535, 8672,\n",
       "       8147, 3768, 3823, 9158, 4782, 1501, 9364, 9646, 3751,  514, 2517,\n",
       "       4894, 1610, 6169,  587, 5241,  654, 1603, 5708, 4134, 6641, 3699,\n",
       "       8605, 6649, 2230, 8914, 5004, 3681, 9291, 6244, 4650, 3901, 6480,\n",
       "       4337, 9802, 2991, 2003, 7974, 1474, 4950, 1923, 9462, 1654, 4297,\n",
       "       1121, 3965, 1883,  609, 9046, 6654, 9118, 9672, 2582,  832, 2857,\n",
       "       4800, 2045, 1275, 2569,  611, 7932,  938, 1620, 4049, 2062, 6378,\n",
       "       1561, 5965, 2859, 7185, 7213, 1182, 7190, 7323, 3687, 5563, 2808,\n",
       "       5372, 1271, 8106, 9410, 9703, 5540, 4473, 7773, 1573,  606, 6416,\n",
       "       4554, 7176, 1034, 3762, 1096, 7180, 4892, 1439, 2554, 9095,  385,\n",
       "       4632, 4746, 3773, 8831, 6215, 3866, 9566, 4877, 4422, 2868, 7149,\n",
       "       3657, 8330, 2200, 5460, 2278,  791,  977, 7688, 4015, 9815, 2721,\n",
       "       3887, 4745, 2136, 4780, 2441, 7871, 4788, 7325,  277, 1934, 4506,\n",
       "       1301, 9422, 9469, 5691, 4210, 9929, 6036, 1736, 6690,  230, 5233,\n",
       "       1765, 1892, 6359, 9416, 9534, 3959, 2900, 4061, 9689, 1553, 4798,\n",
       "       9555, 1384, 2606, 3083, 7766, 6928, 2853, 9093, 6915, 3836, 2747,\n",
       "       3929, 7031, 6160, 1511, 2934, 9478, 7998, 1382, 1995, 9038, 6114,\n",
       "       5736, 9016, 2025, 4998, 5475, 2544, 1565, 1347, 9561, 2801, 8976,\n",
       "       3979, 1194, 7568, 1475, 8982, 7163, 3876, 2256, 5294, 6787, 9274,\n",
       "       8805, 7933, 5829, 1973, 9838, 3794, 6741, 9612, 1807, 5855, 8011,\n",
       "       3863,   82, 9615, 6938,  624, 4239, 6431, 3886, 4136, 5809, 3353,\n",
       "       4219, 9580, 7613, 8942, 6861, 6593, 4254, 6358, 4723, 9097, 8912,\n",
       "       1268, 2137, 3569, 8936, 8278,  699, 6893,  147, 3348, 6936, 6267,\n",
       "       7436, 1787,  327,  280, 9049, 6100, 8355, 1177, 4215, 9419,  488,\n",
       "       7669,  921, 1111, 6136, 2216, 5498, 6902, 4217, 3252, 6333, 9409,\n",
       "       9059, 8390, 6331, 6702,  725,  546,  190, 7826, 3568, 4768, 9316,\n",
       "       5213, 9374,  795, 1173,  300, 7651, 4005, 5403, 8702, 3600, 4912,\n",
       "       9236, 5579,   49, 4636, 1391, 2144, 2485, 5215, 4478, 8010, 2288,\n",
       "       1095, 4240, 7333, 1431, 2670, 1943, 3806, 7527, 4004, 9972, 5150,\n",
       "       6737, 3262, 7971,  801, 3089, 8148, 7026, 2149, 2984, 2241, 6760,\n",
       "       2375, 6945,  703, 7001, 5383, 5664, 9843, 5125,  123, 2874, 7515,\n",
       "       2065, 6468, 6981, 7935,  449, 1809, 9955, 8952, 3264, 1253, 9373,\n",
       "       4054, 4787, 4701, 8876, 7596, 5092, 7893, 1353, 9083, 2248, 2482,\n",
       "       1015, 4079, 2385, 1575, 1200, 3488, 3759, 3737,  269, 5194, 9235,\n",
       "        161, 8196, 7388, 8216, 5525, 1941, 3334, 6413, 5322, 1311,  763,\n",
       "       9259, 7372, 4060, 8788, 8866, 4614, 1126, 7506, 4795, 4414, 6126,\n",
       "       6489, 3718, 7603, 6853, 5488, 1771, 3130, 5389, 3855, 2265, 7753,\n",
       "       2912, 4006, 3189, 4754, 6571, 7399, 5450,  996, 3525, 2562, 1668,\n",
       "       2312, 6409, 3524,  848, 4919,  764, 6071, 4111, 6811, 1719, 8848,\n",
       "       8498, 3282, 8304, 5617,  265, 8752, 6446,  443, 8366, 5649, 2026,\n",
       "       9780, 3727, 8233, 4053,  236, 9246, 2791, 1084, 2020, 4115, 2969,\n",
       "       6705, 7855, 4307, 8587, 8765, 5504, 8259, 9223, 3658, 9892, 2927,\n",
       "       1712, 2368, 8565, 8850, 9693, 8394, 4889, 4621, 5183, 8792, 6656,\n",
       "        571, 6101, 4346, 2191, 3728, 7486, 8416, 9649, 6518, 3566, 2092,\n",
       "        936, 5743, 7678, 4652, 1193, 2272, 4362, 7719, 3826,  582, 9277,\n",
       "       4739, 6055,  937, 9202, 2484, 5820,  188,  135, 7560, 7975, 2888,\n",
       "       4370, 2734, 1781, 4420, 9884, 5272, 6665, 5222, 1217, 7081, 5631,\n",
       "       6739, 3112, 6392, 3923, 2728, 2614, 8472,  704, 1581, 8279, 5646,\n",
       "       4518, 3318,  286, 5529, 9254, 5701, 6910, 2220,  124, 8983])"
      ]
     },
     "execution_count": 60,
     "metadata": {},
     "output_type": "execute_result"
    }
   ],
   "source": [
    "indexes"
   ]
  },
  {
   "cell_type": "code",
   "execution_count": 61,
   "metadata": {},
   "outputs": [
    {
     "data": {
      "text/plain": [
       "(1000, 2)"
      ]
     },
     "execution_count": 61,
     "metadata": {},
     "output_type": "execute_result"
    }
   ],
   "source": [
    "selected_test = X[indexes]\n",
    "selected_test.shape"
   ]
  },
  {
   "cell_type": "markdown",
   "metadata": {},
   "source": [
    "Визуализируем тестовую выборку на данных"
   ]
  },
  {
   "cell_type": "code",
   "execution_count": 62,
   "metadata": {},
   "outputs": [
    {
     "data": {
      "text/plain": [
       "<matplotlib.collections.PathCollection at 0x11706c610>"
      ]
     },
     "execution_count": 62,
     "metadata": {},
     "output_type": "execute_result"
    },
    {
     "data": {
      "image/png": "[encoded data removed]",
      "text/plain": [
       "<Figure size 640x480 with 1 Axes>"
      ]
     },
     "metadata": {},
     "output_type": "display_data"
    }
   ],
   "source": [
    "plt.scatter(X[:, 0], X[:, 1], alpha=0.1, s=1)\n",
    "plt.scatter(selected_test[:, 0], selected_test[:, 1], s=1)\n"
   ]
  },
  {
   "cell_type": "markdown",
   "metadata": {},
   "source": [
    "## Сортировка\n",
    "\n",
    "По умолчанию используется метод timsort, хотя по желанию можно использовать heapsort, quicksort, mergesort."
   ]
  },
  {
   "cell_type": "code",
   "execution_count": 63,
   "metadata": {},
   "outputs": [
    {
     "data": {
      "text/plain": [
       "array([ 8, 10,  3, 14, 15,  4, 15, 10,  1,  6, 13,  7])"
      ]
     },
     "execution_count": 63,
     "metadata": {},
     "output_type": "execute_result"
    }
   ],
   "source": [
    "A = np.random.randint(0, 20, size=12)\n",
    "A"
   ]
  },
  {
   "cell_type": "code",
   "execution_count": 64,
   "metadata": {},
   "outputs": [
    {
     "data": {
      "text/plain": [
       "array([ 1,  3,  4,  6,  7,  8, 10, 10, 13, 14, 15, 15])"
      ]
     },
     "execution_count": 64,
     "metadata": {},
     "output_type": "execute_result"
    }
   ],
   "source": [
    "B = A.copy()\n",
    "B.sort()\n",
    "B"
   ]
  },
  {
   "cell_type": "markdown",
   "metadata": {},
   "source": [
    "Также есть функция `argsort`, которая возвращает индексы отсортированных элементов"
   ]
  },
  {
   "cell_type": "code",
   "execution_count": 67,
   "metadata": {},
   "outputs": [
    {
     "data": {
      "text/plain": [
       "array([ 8,  2,  5,  9, 11,  0,  1,  7, 10,  3,  4,  6])"
      ]
     },
     "execution_count": 67,
     "metadata": {},
     "output_type": "execute_result"
    }
   ],
   "source": [
    "C = A.copy()\n",
    "x = C.argsort()\n",
    "x"
   ]
  },
  {
   "cell_type": "code",
   "execution_count": 68,
   "metadata": {},
   "outputs": [
    {
     "data": {
      "text/plain": [
       "array([[187.57142322, 109.70229623],\n",
       "       [174.70603628,  73.61019162],\n",
       "       [188.2396677 ,  96.48111363],\n",
       "       ...,\n",
       "       [162.22470022,  58.2654507 ],\n",
       "       [175.34697755,  74.30950628],\n",
       "       [157.33838453,  51.54154316]])"
      ]
     },
     "execution_count": 68,
     "metadata": {},
     "output_type": "execute_result"
    }
   ],
   "source": [
    "X"
   ]
  },
  {
   "cell_type": "markdown",
   "metadata": {},
   "source": [
    "С сортировкой 2-х мерных (многомерных) массивов сложнее: все строки и столбцы рассматриваются как отдельные элементы и взаимосвязи между ними теряются"
   ]
  },
  {
   "cell_type": "code",
   "execution_count": 224,
   "metadata": {},
   "outputs": [
    {
     "data": {
      "text/plain": [
       "array([[109.70229623, 187.57142322],\n",
       "       [ 73.61019162, 174.70603628],\n",
       "       [ 96.48111363, 188.2396677 ],\n",
       "       ...,\n",
       "       [ 58.2654507 , 162.22470022],\n",
       "       [ 74.30950628, 175.34697755],\n",
       "       [ 51.54154316, 157.33838453]])"
      ]
     },
     "execution_count": 224,
     "metadata": {},
     "output_type": "execute_result"
    }
   ],
   "source": [
    "x_sorted = X.copy()\n",
    "x_sorted.sort()  # сортируем столбцы - данные смешиваются\n",
    "x_sorted"
   ]
  },
  {
   "cell_type": "code",
   "execution_count": 225,
   "metadata": {},
   "outputs": [
    {
     "data": {
      "text/plain": [
       "array([[137.82835865,  29.34246109],\n",
       "       [138.72681889,  31.28459415],\n",
       "       [139.37926793,  32.37811734],\n",
       "       ...,\n",
       "       [199.46165448, 115.95956228],\n",
       "       [199.69828988, 116.03778979],\n",
       "       [200.65680556, 122.44430771]])"
      ]
     },
     "execution_count": 225,
     "metadata": {},
     "output_type": "execute_result"
    }
   ],
   "source": [
    "x_sorted = X.copy()\n",
    "x_sorted.sort(axis=0)  # сортируем строки - и так данные смешиваются\n",
    "x_sorted"
   ]
  },
  {
   "cell_type": "code",
   "execution_count": 216,
   "metadata": {},
   "outputs": [
    {
     "data": {
      "text/plain": [
       "array([[198.36350338, 115.95956228],\n",
       "       [199.29361442, 103.10320403],\n",
       "       [200.65680556, 122.44430771],\n",
       "       [199.46165448, 115.14240537],\n",
       "       [199.69828988, 111.44389239]])"
      ]
     },
     "execution_count": 216,
     "metadata": {},
     "output_type": "execute_result"
    }
   ],
   "source": [
    "X[X.T[0] > 198]  # рост больше"
   ]
  },
  {
   "cell_type": "code",
   "execution_count": 217,
   "metadata": {},
   "outputs": [
    {
     "data": {
      "text/plain": [
       "array([[138.72681889,  32.37811734],\n",
       "       [139.37926793,  35.64928359],\n",
       "       [137.82835865,  29.34246109]])"
      ]
     },
     "execution_count": 217,
     "metadata": {},
     "output_type": "execute_result"
    }
   ],
   "source": [
    "X[X.T[0] < 140]  # рост меньше"
   ]
  },
  {
   "cell_type": "code",
   "execution_count": 221,
   "metadata": {},
   "outputs": [
    {
     "data": {
      "text/plain": [
       "array([[198.36350338, 115.95956228],\n",
       "       [194.60856668, 116.03778979],\n",
       "       [200.65680556, 122.44430771],\n",
       "       [199.46165448, 115.14240537],\n",
       "       [195.19585362, 115.28756153]])"
      ]
     },
     "execution_count": 221,
     "metadata": {},
     "output_type": "execute_result"
    }
   ],
   "source": [
    "X[X.T[1] > 115]  # вес больше"
   ]
  },
  {
   "cell_type": "code",
   "execution_count": 223,
   "metadata": {},
   "outputs": [
    {
     "data": {
      "text/plain": [
       "array([[141.39723339,  31.28459415],\n",
       "       [138.72681889,  32.37811734],\n",
       "       [137.82835865,  29.34246109],\n",
       "       [145.67685561,  32.9932629 ]])"
      ]
     },
     "execution_count": 223,
     "metadata": {},
     "output_type": "execute_result"
    }
   ],
   "source": [
    "X[X.T[1] < 35]  # вес меньше"
   ]
  },
  {
   "cell_type": "markdown",
   "metadata": {},
   "source": [
    "## Структуры данных\n",
    "\n",
    "Можно задать контейнеры с именованными полями, таким образом, связать данные в структуры"
   ]
  },
  {
   "cell_type": "code",
   "execution_count": 69,
   "metadata": {},
   "outputs": [],
   "source": [
    "types = {\n",
    "    'names': ('heights', 'weights'),\n",
    "    'formats': ('float32', 'float32'),\n",
    "}\n",
    "data = np.zeros(10000, dtype=types)\n",
    "data['heights'] = heights_arr\n",
    "data['weights'] = weights_arr"
   ]
  },
  {
   "cell_type": "code",
   "execution_count": 70,
   "metadata": {},
   "outputs": [
    {
     "data": {
      "text/plain": [
       "array([187.57143, 174.70604, 188.23967, ..., 162.2247 , 175.34698,\n",
       "       157.33838], dtype=float32)"
      ]
     },
     "execution_count": 70,
     "metadata": {},
     "output_type": "execute_result"
    }
   ],
   "source": [
    "data['heights']"
   ]
  },
  {
   "cell_type": "code",
   "execution_count": 71,
   "metadata": {},
   "outputs": [
    {
     "data": {
      "text/plain": [
       "(187.57143, 109.70229)"
      ]
     },
     "execution_count": 71,
     "metadata": {},
     "output_type": "execute_result"
    }
   ],
   "source": [
    "data[0]"
   ]
  },
  {
   "cell_type": "code",
   "execution_count": 72,
   "metadata": {},
   "outputs": [],
   "source": [
    "data.sort()"
   ]
  },
  {
   "cell_type": "code",
   "execution_count": 73,
   "metadata": {},
   "outputs": [
    {
     "data": {
      "text/plain": [
       "array([(137.82835, 29.34246 ), (138.72682, 32.378117),\n",
       "       (139.37927, 35.649284), (140.07733, 40.277737),\n",
       "       (140.55469, 40.075546), (141.3558 , 38.830738),\n",
       "       (141.39723, 31.284594), (141.57893, 49.034904),\n",
       "       (141.86208, 47.059925), (142.18716, 38.73811 )],\n",
       "      dtype=[('heights', '<f4'), ('weights', '<f4')])"
      ]
     },
     "execution_count": 73,
     "metadata": {},
     "output_type": "execute_result"
    }
   ],
   "source": [
    "data[:10]"
   ]
  },
  {
   "cell_type": "code",
   "execution_count": 249,
   "metadata": {},
   "outputs": [
    {
     "data": {
      "text/plain": [
       "array([(195.83621, 109.05005 ), (195.98843, 103.72213 ),\n",
       "       (196.71442, 105.5107  ), (196.76254, 114.53818 ),\n",
       "       (196.96985, 109.76924 ), (198.36351, 115.959564),\n",
       "       (199.29361, 103.1032  ), (199.46165, 115.1424  ),\n",
       "       (199.69829, 111.44389 ), (200.6568 , 122.444305)],\n",
       "      dtype=[('heights', '<f4'), ('weights', '<f4')])"
      ]
     },
     "execution_count": 249,
     "metadata": {},
     "output_type": "execute_result"
    }
   ],
   "source": [
    "data[-10:]"
   ]
  },
  {
   "cell_type": "markdown",
   "metadata": {},
   "source": [
    "Данные связяны, сортировка корректна!"
   ]
  }
 ],
 "metadata": {
  "kernelspec": {
   "display_name": "Python 3 (ipykernel)",
   "language": "python",
   "name": "python3"
  },
  "language_info": {
   "codemirror_mode": {
    "name": "ipython",
    "version": 3
   },
   "file_extension": ".py",
   "mimetype": "text/x-python",
   "name": "python",
   "nbconvert_exporter": "python",
   "pygments_lexer": "ipython3",
   "version": "3.11.3"
  }
 },
 "nbformat": 4,
 "nbformat_minor": 1
}
