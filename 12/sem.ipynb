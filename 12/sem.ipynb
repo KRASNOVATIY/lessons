{
 "cells": [
  {
   "cell_type": "markdown",
   "id": "307f3db5",
   "metadata": {},
   "source": [
    "### Задача 1\n",
    "\n",
    "Известно что компоненты должны зависеть не от реализаций, а от интерфейсов. \n",
    "\n",
    "Имеется некоторое приложение app.py, которое будет осуществлять работу с аккаунтами. Основной класс этого приложения `AccountManager` зависит от храналища аккаунтов, интерфейс которого предоставлен `AccountsStorageProtocol`. Необходимо написать 3 реализации хранилища, соответсвенно `AccountsPostgresStorage`, `AccountsMongoStorage` и `AccountsRedisStorage`. Для того чтобы убедиться в том что реализации работают правильно, достаточно запустить app.py: сработает тестовая функция `test_main`\n",
    "\n",
    "У приложения есть также тестовая реализация test_app.py и она уже работает, правда использует вместо настоящего персистентного хранилища заглушку `MockAccountsStorage`. Из `MockAccountsStorage` можно стащить часть логики\n",
    "\n",
    "Можете добавлять в ваши реализации любые методы, помните что для соответствия интерфейсу достаточно соблюдать только сигнатуры из протокола\n",
    "\n",
    "Если у вас проблемы с локальным разворачиванием баз данных:\n",
    "- с Redis проблем не должно быть\n",
    "- PostgreSQL можно заменить на SQLite\n",
    "- Mongo можно заменить на файл или вообще исключить\n",
    "\n",
    "Для ознакомления с API Баз данных, смотри документацию (и материал лекции):\n",
    "- https://www.psycopg.org/docs/\n",
    "- https://redis.readthedocs.io/en/latest/\n",
    "- https://pymongo.readthedocs.io/en/stable/"
   ]
  },
  {
   "cell_type": "markdown",
   "id": "60d83e5f",
   "metadata": {},
   "source": [
    "### Задача 2\n",
    "\n",
    "Мьютекс через редис"
   ]
  },
  {
   "cell_type": "code",
   "execution_count": 1,
   "id": "9da4413e",
   "metadata": {},
   "outputs": [
    {
     "name": "stdout",
     "output_type": "stream",
     "text": [
      "2\n"
     ]
    }
   ],
   "source": [
    "import time\n",
    "from concurrent.futures import ThreadPoolExecutor\n",
    "\n",
    "# mu = RedisLock()  # вот его нужно реализовать\n",
    "result = 0\n",
    "\n",
    "def function():\n",
    "     # with mu:\n",
    "        global result\n",
    "        r = result\n",
    "        time.sleep(1)\n",
    "        result = r + 1\n",
    "\n",
    "    \n",
    "def main():  \n",
    "    with ThreadPoolExecutor(max_workers=5) as executor:\n",
    "        for _ in range(10):\n",
    "            executor.submit(function)\n",
    "    print(result)  # хотим получить в итоге 10\n",
    "    \n",
    "main()"
   ]
  },
  {
   "cell_type": "code",
   "execution_count": null,
   "id": "2964758e",
   "metadata": {},
   "outputs": [],
   "source": []
  }
 ],
 "metadata": {
  "kernelspec": {
   "display_name": "Python 3 (ipykernel)",
   "language": "python",
   "name": "python3"
  },
  "language_info": {
   "codemirror_mode": {
    "name": "ipython",
    "version": 3
   },
   "file_extension": ".py",
   "mimetype": "text/x-python",
   "name": "python",
   "nbconvert_exporter": "python",
   "pygments_lexer": "ipython3",
   "version": "3.11.3"
  }
 },
 "nbformat": 4,
 "nbformat_minor": 5
}
