{
 "cells": [
  {
   "cell_type": "markdown",
   "metadata": {},
   "source": [
    "# Хранилища\n",
    "\n",
    "Структура занятия:\n",
    "\n",
    "1) sql\n",
    "\n",
    "2) mongodb\n",
    "\n",
    "3) redis"
   ]
  },
  {
   "cell_type": "markdown",
   "metadata": {},
   "source": [
    "База данных – совокупность данных, отражающая состояние объектов и их отношений в заданной предметной области. Имеет название и разные свойства. Чаще всего БД выражены разного рода таблицами и списками. \n",
    "\n",
    "Управление базами данных осуществляется через СУБД.\n",
    "\n",
    "Базы данных бывают:\n",
    "\n",
    "    - Фотографическими. В них информация представлена фактами об элементах предметной области в формате «параметр-значение».\n",
    "    - Документальными. Информация преподносится полнотекстовыми документами.\n",
    "    - Мультимедийными. Здесь допускается графика, видео и аудиоконтент.\n",
    "\n",
    "Также есть классификация соответствующих хранилищ по типу используемой модели данных. Все БД условно делятся на:\n",
    "\n",
    "    - Реляционные. В них информация преподносится в виде таблиц, а также разного рода связей между ними. К таковым относят: SQL Server, MySQL, PostgreSQL.\n",
    "        - Обычные (вертикальные) пример - PostgreSQL, MySQL\n",
    "        - Аналитические (колоночные)  пример - Vertica, ClickHouse\n",
    "    - Нереляционные. Данные тут представлены структурами, которые отличаются от таблиц. Пример – MongoDB. Сведения могут выступать в виде JSON-подобных элементов, сетевых структур или иерархий.\n",
    "        - Документноориентированные, пример - MongoDB, CockroachDB\n",
    "        - Типа ключ-значение, пример - Redis\n",
    "        - Файловые, пример - S3\n",
    "    - Очереди сообщений. Служат для асинхронной передачи данных по модели продьюсер-консьюмер (паблишер-сабскрайбер)\n",
    "    \n",
    "    \n",
    "Отличаются БД и по топологии хранения:\n",
    "\n",
    "    - Локальные. Они размещаются и хранятся в пределах одного устройства.\n",
    "    - Распределенные. Базы информации будут размещаться непосредственно на нескольких машинах."
   ]
  },
  {
   "cell_type": "markdown",
   "metadata": {},
   "source": [
    "## Реляционные БД. SQL\n",
    "\n",
    "Реляционная база данных – это набор данных с предопределенными связями между ними. Эти данные организованны в виде набора таблиц, состоящих из столбцов и строк. В таблицах хранится информация об объектах, представленных в базе данных. В каждом столбце таблицы хранится определенный тип данных, в каждой ячейке – значение атрибута. Каждая стока таблицы представляет собой набор связанных значений, относящихся к одному объекту или сущности. Каждая строка в таблице может быть помечена уникальным идентификатором, называемым первичным ключом, а строки из нескольких таблиц могут быть связаны с помощью внешних ключей. \n",
    "\n",
    "Отношения (таблицы) обладают свойcтвом [Нормальной формы](https://ru.wikipedia.org/wiki/%D0%9D%D0%BE%D1%80%D0%BC%D0%B0%D0%BB%D1%8C%D0%BD%D0%B0%D1%8F_%D1%84%D0%BE%D1%80%D0%BC%D0%B0)\n",
    "\n",
    "Рассмотрим реляционные БД на примере сервиса постов (типа Твиттера). Структура БД будет включать 4 таблицы: \n",
    "1) `users`: id, name, age\n",
    "2) `posts`: id, title, text, user_id (1 user: N post)\n",
    "3) `likes`: id, user_id (1 user: N like), post_id (1 post: N like)\n",
    "4) `comments`: id, text, user_id (1 user: N comment), post_id (1 post: N comment)\n",
    "\n",
    "https://www.db-fiddle.com/f/gfPDhUXHQTTPet6hpktoZq/0"
   ]
  },
  {
   "cell_type": "markdown",
   "metadata": {},
   "source": [
    "Для PostgreSQL в стандартной библиотеке Python модуля нет. Воспользуемся `psycopg2`\n",
    "\n",
    "!Важно. Для того чтобы подключиться к БД, необхлдимо развернуть postgresql на локальной машине. Легче всего сделать это при помощи docker: достаточно просто запустить [соответствующий контейнет](https://hub.docker.com/_/postgres), при этом не забудьте пробросить порт postgresql 5432 на локальный (в моём случае также 5432)"
   ]
  },
  {
   "cell_type": "code",
   "execution_count": 1,
   "metadata": {},
   "outputs": [
    {
     "name": "stdout",
     "output_type": "stream",
     "text": [
      "Requirement already satisfied: psycopg2-binary in /Users/mpkaraulov/.pyenv/versions/3.11.3/lib/python3.11/site-packages (2.9.6)\n",
      "\n",
      "\u001b[1m[\u001b[0m\u001b[34;49mnotice\u001b[0m\u001b[1;39;49m]\u001b[0m\u001b[39;49m A new release of pip is available: \u001b[0m\u001b[31;49m23.1.1\u001b[0m\u001b[39;49m -> \u001b[0m\u001b[32;49m23.1.2\u001b[0m\n",
      "\u001b[1m[\u001b[0m\u001b[34;49mnotice\u001b[0m\u001b[1;39;49m]\u001b[0m\u001b[39;49m To update, run: \u001b[0m\u001b[32;49mpip install --upgrade pip\u001b[0m\n",
      "Note: you may need to restart the kernel to use updated packages.\n"
     ]
    }
   ],
   "source": [
    "pip install psycopg2-binary"
   ]
  },
  {
   "cell_type": "markdown",
   "metadata": {},
   "source": [
    "Проверим подключение к PostgreSQL "
   ]
  },
  {
   "cell_type": "code",
   "execution_count": 146,
   "metadata": {},
   "outputs": [],
   "source": [
    "import psycopg2\n",
    "try:\n",
    "    # пытаемся подключиться к базе данных\n",
    "    conn = psycopg2.connect('postgresql://postgres@localhost:5432/postgres')\n",
    "    cur = conn.cursor()\n",
    "except:\n",
    "    # в случае сбоя подключения будет выведено сообщение  в STDOUT\n",
    "    print('Can not establish connection to database')\n",
    "finally:\n",
    "    cur.close()\n",
    "    conn.close()\n"
   ]
  },
  {
   "cell_type": "markdown",
   "metadata": {},
   "source": [
    "Объект соединения `connect` имеет следующие основные атрибуты:\n",
    "- `__enter__(...)` и `__exit__(...)`\n",
    "- property `autocommit` - включает коммит (применение изменений) на каждую операцию\n",
    "- `commit()` - применяет все (с момента последнего коммита) изменения в БД \n",
    "- `rollback()` - отменяет все (с момента последнего коммита) изменения в БД\n",
    "- `cancel()` - отменяет текущую операцию\n",
    "- `cursor()` - возвращает новый курсор\n",
    "\n",
    "`commit()` и `rollback()` - элементы работы с транзакциями. [Транза́кция](https://ru.wikipedia.org/wiki/%D0%A2%D1%80%D0%B0%D0%BD%D0%B7%D0%B0%D0%BA%D1%86%D0%B8%D1%8F_(%D0%B8%D0%BD%D1%84%D0%BE%D1%80%D0%BC%D0%B0%D1%82%D0%B8%D0%BA%D0%B0)) — группа последовательных операций с базой данных, которая представляет собой логическую единицу работы с данными. Транзакция может быть выполнена либо целиком и успешно, соблюдая целостность данных и независимо от параллельно идущих других транзакций, либо не выполнена вообще, и тогда она не должна произвести никакого эффекта. Транзакции обрабатываются транзакционными системами, в процессе работы которых создаётся история транзакций. \n",
    "\n",
    "Объект курсора `сursor` имеет следующие основные атрибуты:\n",
    "- `__enter__(...)` и `__exit__(...)`\n",
    "- `__iter__(self, /)` и `__next__(self, /)`\n",
    "- `close()` - закрывает курсор\n",
    "- `execute(query, vars=None)` - исполняет SQL запрос\n",
    "- `executemany(query, vars_list)` - исполняет SQL запрос на множестве входных аргументов\n",
    "- `fetchone()` - возврашает 1 объект данных (1 строку) из запрошенных\n",
    "- `fetchmany(size=self.arraysize)` - возбращает `size` объектов данных из запрошенных\n",
    "- `fetchall()` - возвращает все запрошенные данные"
   ]
  },
  {
   "cell_type": "markdown",
   "metadata": {},
   "source": [
    "Создадим таблицы, в соответствии с моделью описаной выше\n",
    "\n",
    "Для того чтобы создавать таблицы в SQL используется слово `CREATE TABLE` (оегистр не исеет значения, но хорошим тоном является использование заглавных букв), `IF NOT EXISTS` - сообщает что таблица будет создана только если она ещё не существует, за скобками перечисляются поля (названия и типы колонок)."
   ]
  },
  {
   "cell_type": "code",
   "execution_count": 147,
   "metadata": {},
   "outputs": [],
   "source": [
    "query = \"\"\"\n",
    "CREATE TABLE IF NOT EXISTS users (\n",
    "  id SERIAL PRIMARY KEY,\n",
    "  name TEXT NOT NULL, \n",
    "  age INTEGER\n",
    ");\n",
    "CREATE TABLE IF NOT EXISTS posts (\n",
    "  id SERIAL PRIMARY KEY, \n",
    "  title TEXT NOT NULL, \n",
    "  text TEXT NOT NULL, \n",
    "  user_id INTEGER REFERENCES users(id)\n",
    ");\n",
    "CREATE TABLE IF NOT EXISTS comments (\n",
    "  id SERIAL PRIMARY KEY, \n",
    "  text TEXT NOT NULL, \n",
    "  user_id INTEGER REFERENCES users (id), \n",
    "  post_id INTEGER REFERENCES posts (id)\n",
    ");\n",
    "CREATE TABLE IF NOT EXISTS likes (\n",
    "  id SERIAL PRIMARY KEY, \n",
    "  user_id INTEGER REFERENCES users (id), \n",
    "  post_id integer REFERENCES posts (id)\n",
    ");\n",
    "\"\"\"\n",
    "with psycopg2.connect('postgresql://postgres@localhost:5432/postgres') as conn:\n",
    "    with conn.cursor() as curr:\n",
    "        curr.execute(query)\n",
    "    conn.commit()"
   ]
  },
  {
   "cell_type": "markdown",
   "metadata": {},
   "source": [
    "Для наполнения таблиц данными, в SQL применяется слово `INSERT INTO`"
   ]
  },
  {
   "cell_type": "markdown",
   "metadata": {},
   "source": [
    "Вставка данных. 1 способ: execute строки"
   ]
  },
  {
   "cell_type": "code",
   "execution_count": 148,
   "metadata": {},
   "outputs": [],
   "source": [
    "query = \"\"\"\n",
    "INSERT INTO\n",
    "  users (name, age)\n",
    "VALUES\n",
    "  ('Vanya', 25),\n",
    "  ('Lesha', 32),\n",
    "  ('Masha', 20),\n",
    "  ('Dima', 16),\n",
    "  ('Natasha', 21);\n",
    "\"\"\"\n",
    "with psycopg2.connect('postgresql://postgres@localhost:5432/postgres') as conn:\n",
    "    conn.autocommit = True\n",
    "    with conn.cursor() as curr:\n",
    "        curr.execute(query)"
   ]
  },
  {
   "cell_type": "markdown",
   "metadata": {},
   "source": [
    "Вставка данных. 2 способ: execute объединённых строк (кривой)"
   ]
  },
  {
   "cell_type": "code",
   "execution_count": 149,
   "metadata": {},
   "outputs": [],
   "source": [
    "posts = [\n",
    "  ('Много работы','Очень много работы', 1),\n",
    "  ('Мало работы', 'Ищу работу', 1),\n",
    "  ('Помогите', 'Помогите выбрать дом', 2),\n",
    "  ('Новость', 'Я счастлив!', 1),\n",
    "  ('Сад', 'Надо купить прострел', 3),\n",
    "]\n",
    "posts_records = \", \".join([\"%s\"] * len(posts))\n",
    "\n",
    "insert_query = (\n",
    "    f\"INSERT INTO posts (title, text, user_id) VALUES {posts_records}\"\n",
    ")\n",
    "with psycopg2.connect('postgresql://postgres@localhost:5432/postgres') as conn:\n",
    "    conn.autocommit = True\n",
    "    with conn.cursor() as curr:\n",
    "        curr.execute(insert_query, posts)"
   ]
  },
  {
   "cell_type": "markdown",
   "metadata": {},
   "source": [
    "Вставка данных. 3 способ: executemany"
   ]
  },
  {
   "cell_type": "code",
   "execution_count": 151,
   "metadata": {},
   "outputs": [],
   "source": [
    "likes = [\n",
    "  (1, 5),\n",
    "  (2, 3),\n",
    "  (1, 3),\n",
    "  (2, 4),\n",
    "  (1, 4),\n",
    "  (2, 2),\n",
    "  (3, 4),\n",
    "]\n",
    "insert_query = (\n",
    "    f\"INSERT INTO likes (user_id, post_id) VALUES (%s, %s)\"\n",
    ")\n",
    "with psycopg2.connect('postgresql://postgres@localhost:5432/postgres') as conn:\n",
    "    conn.autocommit = True\n",
    "    with conn.cursor() as curr:\n",
    "        curr.executemany(insert_query, likes)"
   ]
  },
  {
   "cell_type": "markdown",
   "metadata": {},
   "source": [
    "В SQL данные извлекаются при помощи слова `SELECT`, при этом оперция выборки очень многообразна... отношения (таблицы) в процессе выборки могут быть объединины между собой (`JOIN`), данные отфильтрованы по значениям (`WHERE`) или дополнены (`OVER`), сгруппированы по какому либо правилу (`GROUP BY`), упорядочены (`ORDER BY`)"
   ]
  },
  {
   "cell_type": "markdown",
   "metadata": {},
   "source": [
    "Для извлечения данных также необходимо выполнить запрос `execute`, и далее осуществить выборку"
   ]
  },
  {
   "cell_type": "code",
   "execution_count": 153,
   "metadata": {},
   "outputs": [
    {
     "name": "stdout",
     "output_type": "stream",
     "text": [
      "(2, 'Lesha', 32, 8, 'Помогите', 'Помогите выбрать дом', 2)\n",
      "(2, 'Lesha', 32, 3, 'Помогите', 'Помогите выбрать дом', 2)\n",
      "(1, 'Vanya', 25, 4, 'Новость', 'Я счастлив!', 1)\n",
      "(1, 'Vanya', 25, 6, 'Много работы', 'Очень много работы', 1)\n",
      "(1, 'Vanya', 25, 7, 'Мало работы', 'Ищу работу', 1)\n",
      "(1, 'Vanya', 25, 1, 'Много работы', 'Очень много работы', 1)\n",
      "(1, 'Vanya', 25, 9, 'Новость', 'Я счастлив!', 1)\n",
      "(1, 'Vanya', 25, 2, 'Мало работы', 'Ищу работу', 1)\n"
     ]
    }
   ],
   "source": [
    "select_query = \"\"\"\n",
    "SELECT * FROM users AS u RIGHT JOIN posts AS p ON u.id = p.user_id \n",
    "WHERE u.age > 20 OR u.age < 15 ORDER BY u.age DESC\n",
    "\"\"\"\n",
    "# try: RIGHT JOIN -> LEFT JOIN; \n",
    "\n",
    "with psycopg2.connect('postgresql://postgres@localhost:5432/postgres') as conn:\n",
    "    conn.autocommit = True\n",
    "    with conn.cursor() as curr:\n",
    "        curr.execute(select_query)\n",
    "        result = curr.fetchall()\n",
    "        \n",
    "for i in result:\n",
    "    print(i)"
   ]
  },
  {
   "cell_type": "markdown",
   "metadata": {},
   "source": [
    "В приложениях запросы формируются на основании бизнес-логики в функциях или методах"
   ]
  },
  {
   "cell_type": "code",
   "execution_count": 154,
   "metadata": {},
   "outputs": [],
   "source": [
    "def get_most_popular_posts(cur, count) -> list[tuple[int, int]]:   # (post_id, popularity)\n",
    "    select_query = f\"\"\"\n",
    "    SELECT p.id, count(l.id) as rank FROM posts AS p LEFT JOIN likes AS l ON p.id = l.post_id \n",
    "    GROUP BY p.id ORDER BY rank DESC LIMIT {count}\n",
    "    \"\"\"\n",
    "\n",
    "    curr.execute(select_query)\n",
    "    result = curr.fetchall()\n",
    "    return result"
   ]
  },
  {
   "cell_type": "markdown",
   "metadata": {},
   "source": [
    "Для обновления данных используется слово `UPDATE`"
   ]
  },
  {
   "cell_type": "code",
   "execution_count": 155,
   "metadata": {},
   "outputs": [],
   "source": [
    "update_post_query = \"\"\"\n",
    "UPDATE posts\n",
    "SET text = 'Купили прострел'\n",
    "WHERE id = 5\n",
    "\"\"\"\n",
    "with psycopg2.connect('postgresql://postgres@localhost:5432/postgres') as conn:\n",
    "    with conn.cursor() as curr:\n",
    "        curr.execute(update_post_query)\n",
    "    conn.rollback()"
   ]
  },
  {
   "cell_type": "markdown",
   "metadata": {},
   "source": [
    "Для удаления данных используется слово `DELETE`"
   ]
  },
  {
   "cell_type": "code",
   "execution_count": 156,
   "metadata": {},
   "outputs": [],
   "source": [
    "insert_comment_query = \"\"\"\n",
    "INSERT INTO comments (text, user_id, post_id) VALUES ('Такое себе', 2, 2)\n",
    "\"\"\"\n",
    "with psycopg2.connect('postgresql://postgres@localhost:5432/postgres') as conn:\n",
    "    with conn.cursor() as curr:\n",
    "        curr.execute(insert_comment_query)\n",
    "    conn.commit()"
   ]
  },
  {
   "cell_type": "code",
   "execution_count": 157,
   "metadata": {},
   "outputs": [],
   "source": [
    "delete_comment_query = \"\"\"\n",
    "DELETE FROM comments WHERE id = 1\n",
    "\"\"\"\n",
    "with psycopg2.connect('postgresql://postgres@localhost:5432/postgres') as conn:\n",
    "    with conn.cursor() as curr:\n",
    "        curr.execute(delete_comment_query)\n",
    "    conn.commit()"
   ]
  },
  {
   "cell_type": "markdown",
   "metadata": {},
   "source": [
    "SQL предоставляет очень широкие воpзможности, обозначим ещё некоторые из них:\n",
    "- хранимые процедуры - своеобразные функции, выполняемые в БД\n",
    "- триггеры - хранимые процедуры, выполняемые автоматически на операциях модификации данных\n",
    "- возможность создания представлений "
   ]
  },
  {
   "cell_type": "markdown",
   "metadata": {},
   "source": [
    "Также в python существуют библиотеки для работы с объектрно-реляционными отображениями (ORM), которые решают задачу автоматизации работы с БД, скрывая чистый SQL. Например - sqlalchemy"
   ]
  },
  {
   "cell_type": "markdown",
   "metadata": {},
   "source": [
    "## Документноориентированные БД. MongoDB"
   ]
  },
  {
   "cell_type": "markdown",
   "metadata": {},
   "source": [
    "MongoDB - NoSQL база данных. Хранит данные в виде документов (json, html, text, ...)\n",
    "\n",
    "В MongoDB все данные хранятся в json-подобном формате BSON: данные, как в json, представимы в виде объектов ключ-значение, однако BSON продоставляет несколько дополнительных типов, например date, uuid, binary. Максимальный размер 1-го документа - 16 МБ.\n",
    "\n",
    "Документы хранятся в коллекциях, коллекции в базах данных. Каждая коллекция является отдельным файлом \n",
    "\n",
    "Далее рассмотрим особенности MongoDB:\n",
    "- хорошая масштабируемость\n",
    "- отношения между документами отсутствуют\n",
    "- данные могут быть неструктурированными (иметь произвольный формат)\n",
    "- мало экспертов высокого уровня (сложности администрирования больших кластеров)"
   ]
  },
  {
   "cell_type": "markdown",
   "metadata": {},
   "source": [
    "!Важно. Для того чтобы подключиться к БД, необхлдимо развернуть mongodb на локальной машине. Легче всего сделать это при помощи docker: достаточно просто запустить соответствующий контейнет, при этом не забудьте пробросить порт mongodb 27017 на локальный (в моём случае также 27017)"
   ]
  },
  {
   "cell_type": "markdown",
   "metadata": {},
   "source": [
    "Для работы с MongoDB потребуется установить библиотеку `pymongo`"
   ]
  },
  {
   "cell_type": "code",
   "execution_count": 158,
   "metadata": {},
   "outputs": [
    {
     "name": "stdout",
     "output_type": "stream",
     "text": [
      "Requirement already satisfied: pymongo in /Users/mpkaraulov/.pyenv/versions/3.11.3/lib/python3.11/site-packages (4.3.3)\n",
      "Requirement already satisfied: dnspython<3.0.0,>=1.16.0 in /Users/mpkaraulov/.pyenv/versions/3.11.3/lib/python3.11/site-packages (from pymongo) (2.3.0)\n",
      "\n",
      "\u001b[1m[\u001b[0m\u001b[34;49mnotice\u001b[0m\u001b[1;39;49m]\u001b[0m\u001b[39;49m A new release of pip is available: \u001b[0m\u001b[31;49m23.1.1\u001b[0m\u001b[39;49m -> \u001b[0m\u001b[32;49m23.1.2\u001b[0m\n",
      "\u001b[1m[\u001b[0m\u001b[34;49mnotice\u001b[0m\u001b[1;39;49m]\u001b[0m\u001b[39;49m To update, run: \u001b[0m\u001b[32;49mpip install --upgrade pip\u001b[0m\n",
      "Note: you may need to restart the kernel to use updated packages.\n"
     ]
    }
   ],
   "source": [
    "pip install pymongo"
   ]
  },
  {
   "cell_type": "code",
   "execution_count": 159,
   "metadata": {},
   "outputs": [],
   "source": [
    "import pymongo\n",
    "\n",
    "mongo_uri = 'mongodb://localhost:27017'\n",
    "\n",
    "client = pymongo.MongoClient(mongo_uri)\n",
    "\n",
    "db = client['test-db']  # создаём БД (на самом деле будет создана только после записи 1-го документа)\n",
    "coll = db['test-collection']  # создаём коллекцию (на самом деле будет создана только после записи 1-го документа)\n",
    "coll.drop()"
   ]
  },
  {
   "cell_type": "markdown",
   "metadata": {},
   "source": [
    "Для записи документов служат методы коллекции `insert_one` и `insert_many`"
   ]
  },
  {
   "cell_type": "markdown",
   "metadata": {},
   "source": [
    "Запишем документ"
   ]
  },
  {
   "cell_type": "code",
   "execution_count": 160,
   "metadata": {},
   "outputs": [],
   "source": [
    "from datetime import datetime\n",
    "result = coll.insert_one({\n",
    "    'brand': 'BMW', \n",
    "    'model': 'X6', \n",
    "    'contact': {'name': 'Vasya', 'age': 33}, \n",
    "    'TO': [2020, 2022, 2023],\n",
    "    'date': datetime(2023, 5, 5, 8, 30, 12)\n",
    "})"
   ]
  },
  {
   "cell_type": "code",
   "execution_count": 161,
   "metadata": {},
   "outputs": [
    {
     "data": {
      "text/plain": [
       "ObjectId('6452447ba19f30fc834833c9')"
      ]
     },
     "execution_count": 161,
     "metadata": {},
     "output_type": "execute_result"
    }
   ],
   "source": [
    "result.inserted_id"
   ]
  },
  {
   "cell_type": "code",
   "execution_count": 162,
   "metadata": {},
   "outputs": [
    {
     "data": {
      "text/plain": [
       "<pymongo.results.InsertOneResult at 0x1257af250>"
      ]
     },
     "execution_count": 162,
     "metadata": {},
     "output_type": "execute_result"
    }
   ],
   "source": [
    "coll.insert_one({\n",
    "    'brand': 'Audi', \n",
    "    'model': '6', \n",
    "    'contact': {'name': 'Vasya', 'age': 31}, \n",
    "    'date': datetime(2023, 5, 5, 8, 31, 12)\n",
    "})"
   ]
  },
  {
   "cell_type": "code",
   "execution_count": 163,
   "metadata": {},
   "outputs": [
    {
     "data": {
      "text/plain": [
       "<pymongo.results.InsertOneResult at 0x123c44e20>"
      ]
     },
     "execution_count": 163,
     "metadata": {},
     "output_type": "execute_result"
    }
   ],
   "source": [
    "coll.insert_one({\n",
    "    'brand': 'LADA', \n",
    "    'model': '10', \n",
    "    'contact': {'name': 'Dima', 'age': 66}, \n",
    "    'date': datetime(2023, 5, 5, 8, 34, 11),\n",
    "    'history': [{'2010': 'broken'}, {'2021': 'repaired'}, {'2023': 'broken'}]\n",
    "})"
   ]
  },
  {
   "cell_type": "markdown",
   "metadata": {},
   "source": [
    "При записе каждому документу MongoDB добавляет новый ключ \\_id - это уникальный ключ документа, рассчитываемый на основе timestamp-а на клиенте и некоторой случайной величины (при этом timestamp может быть восстановлен)."
   ]
  },
  {
   "cell_type": "markdown",
   "metadata": {},
   "source": [
    "Получить документы можно при помощи методов \n",
    "- `find({search_query}[, {filter_query}])`\n",
    "- `find_one({search_query}[, {filter_query}])`\n",
    "\n",
    "эти функции вернут курсор (итератор с данными)"
   ]
  },
  {
   "cell_type": "code",
   "execution_count": 164,
   "metadata": {},
   "outputs": [
    {
     "name": "stdout",
     "output_type": "stream",
     "text": [
      "{'_id': ObjectId('6452447ba19f30fc834833c9'), 'brand': 'BMW', 'model': 'X6', 'contact': {'name': 'Vasya', 'age': 33}, 'TO': [2020, 2022, 2023], 'date': datetime.datetime(2023, 5, 5, 8, 30, 12)}\n",
      "{'_id': ObjectId('6452447ba19f30fc834833ca'), 'brand': 'Audi', 'model': '6', 'contact': {'name': 'Vasya', 'age': 31}, 'date': datetime.datetime(2023, 5, 5, 8, 31, 12)}\n",
      "{'_id': ObjectId('6452447ca19f30fc834833cb'), 'brand': 'LADA', 'model': '10', 'contact': {'name': 'Dima', 'age': 66}, 'date': datetime.datetime(2023, 5, 5, 8, 34, 11), 'history': [{'2010': 'broken'}, {'2021': 'repaired'}, {'2023': 'broken'}]}\n"
     ]
    }
   ],
   "source": [
    "cur = coll.find({})\n",
    "for i in cur:\n",
    "    print(i)"
   ]
  },
  {
   "cell_type": "code",
   "execution_count": 165,
   "metadata": {},
   "outputs": [
    {
     "name": "stdout",
     "output_type": "stream",
     "text": [
      "{'_id': ObjectId('6452447ca19f30fc834833cb'), 'brand': 'LADA', 'model': '10', 'contact': {'name': 'Dima', 'age': 66}, 'date': datetime.datetime(2023, 5, 5, 8, 34, 11), 'history': [{'2010': 'broken'}, {'2021': 'repaired'}, {'2023': 'broken'}]}\n"
     ]
    }
   ],
   "source": [
    "cur = coll.find({'contact.name': 'Dima'})\n",
    "for i in cur:\n",
    "    print(i)"
   ]
  },
  {
   "cell_type": "code",
   "execution_count": 166,
   "metadata": {},
   "outputs": [
    {
     "name": "stdout",
     "output_type": "stream",
     "text": [
      "{'_id': ObjectId('6452447ba19f30fc834833c9'), 'model': 'X6'}\n",
      "{'_id': ObjectId('6452447ba19f30fc834833ca'), 'model': '6'}\n"
     ]
    }
   ],
   "source": [
    "cur = coll.find({'contact.name': 'Vasya'}, {'model': 1})\n",
    "for i in cur:\n",
    "    print(i)"
   ]
  },
  {
   "cell_type": "markdown",
   "metadata": {},
   "source": [
    "Обновление документов"
   ]
  },
  {
   "cell_type": "code",
   "execution_count": 167,
   "metadata": {},
   "outputs": [
    {
     "data": {
      "text/plain": [
       "<pymongo.results.UpdateResult at 0x1257929b0>"
      ]
     },
     "execution_count": 167,
     "metadata": {},
     "output_type": "execute_result"
    }
   ],
   "source": [
    "find_query = {'contact.name': 'Dima'}\n",
    "update_query = {'contact.name': 'Dimon'}\n",
    "coll.update_one(find_query, {'$set': update_query})"
   ]
  },
  {
   "cell_type": "code",
   "execution_count": 168,
   "metadata": {},
   "outputs": [
    {
     "name": "stdout",
     "output_type": "stream",
     "text": [
      "{'_id': ObjectId('6452447ca19f30fc834833cb'), 'brand': 'LADA', 'model': '10', 'contact': {'name': 'Dimon', 'age': 66}, 'date': datetime.datetime(2023, 5, 5, 8, 34, 11), 'history': [{'2010': 'broken'}, {'2021': 'repaired'}, {'2023': 'broken'}]}\n"
     ]
    }
   ],
   "source": [
    "cur = coll.find({'contact.name': {'$ne': 'Vasya'}})  # все не Vasya\n",
    "for i in cur:\n",
    "    print(i)"
   ]
  },
  {
   "cell_type": "markdown",
   "metadata": {},
   "source": [
    "Удаление документов"
   ]
  },
  {
   "cell_type": "code",
   "execution_count": 169,
   "metadata": {},
   "outputs": [
    {
     "data": {
      "text/plain": [
       "<pymongo.results.DeleteResult at 0x1257aead0>"
      ]
     },
     "execution_count": 169,
     "metadata": {},
     "output_type": "execute_result"
    }
   ],
   "source": [
    "query = {'contact.name': 'Dimon'}\n",
    "coll.delete_one(query)"
   ]
  },
  {
   "cell_type": "code",
   "execution_count": 170,
   "metadata": {},
   "outputs": [],
   "source": [
    "cur = coll.find({'contact.name': {'$ne': 'Vasya'}})  # все не Vasya\n",
    "for i in cur:\n",
    "    print(i)"
   ]
  },
  {
   "cell_type": "markdown",
   "metadata": {},
   "source": [
    "Агрегации - механизм построения сложных запросов, позволяют в том числе, объединять документы из различных коллекций"
   ]
  },
  {
   "cell_type": "code",
   "execution_count": 171,
   "metadata": {},
   "outputs": [
    {
     "name": "stdout",
     "output_type": "stream",
     "text": [
      "{'_id': ObjectId('6452447ba19f30fc834833c9'), 'brand': 'BMW', 'model': 'X6', 'name': 'Vasya'}\n"
     ]
    }
   ],
   "source": [
    "cur = coll.aggregate([\n",
    "    {'$match': {'contact.name': 'Vasya', 'contact.age': {'$gte': 32}}},\n",
    "    {'$project': {'name': '$contact.name', 'brand': 1, 'model': 1}}\n",
    "])\n",
    "for i in cur:\n",
    "    print(i)"
   ]
  },
  {
   "cell_type": "markdown",
   "metadata": {},
   "source": [
    "## БД ключ-значение. Redis\n",
    "\n",
    "Redis означает Remote Dictionary Service\n",
    "\n",
    "База данных Redis содержит пары key: value и поддерживает такие команды как GET, SET и DEL. Ключи всегда строки. Значения - строки, списки, множества, хеши, словари. На ключи может быть установлен TTL (спустя время ttl ключ будет автоматически удалён)\n",
    "\n",
    "Основные области применения:\n",
    "- кеш\n",
    "- персистентное хранилище\n",
    "- распределённые мьютексы и счётчики\n",
    "- очереди"
   ]
  },
  {
   "cell_type": "markdown",
   "metadata": {},
   "source": [
    "`redis-py` — клиентская библиотека Python, позволяет общаться с сервером Redis напрямую через вызовы Python"
   ]
  },
  {
   "cell_type": "code",
   "execution_count": 172,
   "metadata": {},
   "outputs": [
    {
     "name": "stdout",
     "output_type": "stream",
     "text": [
      "Requirement already satisfied: redis in /Users/mpkaraulov/.pyenv/versions/3.11.3/lib/python3.11/site-packages (4.5.4)\n",
      "Requirement already satisfied: async-timeout>=4.0.2 in /Users/mpkaraulov/.pyenv/versions/3.11.3/lib/python3.11/site-packages (from redis) (4.0.2)\n",
      "\n",
      "\u001b[1m[\u001b[0m\u001b[34;49mnotice\u001b[0m\u001b[1;39;49m]\u001b[0m\u001b[39;49m A new release of pip is available: \u001b[0m\u001b[31;49m23.1.1\u001b[0m\u001b[39;49m -> \u001b[0m\u001b[32;49m23.1.2\u001b[0m\n",
      "\u001b[1m[\u001b[0m\u001b[34;49mnotice\u001b[0m\u001b[1;39;49m]\u001b[0m\u001b[39;49m To update, run: \u001b[0m\u001b[32;49mpip install --upgrade pip\u001b[0m\n"
     ]
    }
   ],
   "source": [
    "!python -m pip install redis"
   ]
  },
  {
   "cell_type": "code",
   "execution_count": 179,
   "metadata": {},
   "outputs": [
    {
     "data": {
      "text/plain": [
       "[True, True]"
      ]
     },
     "execution_count": 179,
     "metadata": {},
     "output_type": "execute_result"
    }
   ],
   "source": [
    "import redis\n",
    "\n",
    "r = redis.Redis()\n",
    "pipe = r.pipeline()  # транзакции (pipeline) предоставляют в точности такой же интерфейс как и Redis()\n",
    "pipe.set('k1', 'v1')\n",
    "pipe.mset({'k2': 'v2', 'k3': 'v3'})\n",
    "pipe.execute()"
   ]
  },
  {
   "cell_type": "code",
   "execution_count": 180,
   "metadata": {},
   "outputs": [
    {
     "data": {
      "text/plain": [
       "True"
      ]
     },
     "execution_count": 180,
     "metadata": {},
     "output_type": "execute_result"
    }
   ],
   "source": [
    "r.mset({'k2': 'v2', 'k3': 'v3'})"
   ]
  },
  {
   "cell_type": "code",
   "execution_count": 181,
   "metadata": {},
   "outputs": [
    {
     "data": {
      "text/plain": [
       "[b'k3', b'k2', b'k1']"
      ]
     },
     "execution_count": 181,
     "metadata": {},
     "output_type": "execute_result"
    }
   ],
   "source": [
    "r.keys()  # вывести все ключи"
   ]
  },
  {
   "cell_type": "code",
   "execution_count": 182,
   "metadata": {},
   "outputs": [
    {
     "data": {
      "text/plain": [
       "[b'k3', b'k4', b'k2', b'k1']"
      ]
     },
     "execution_count": 182,
     "metadata": {},
     "output_type": "execute_result"
    }
   ],
   "source": [
    "r.set('k4', 'v4', ex=1)  # expire, ключ пропадёт через 1 секунду\n",
    "r.keys()"
   ]
  },
  {
   "cell_type": "code",
   "execution_count": 183,
   "metadata": {},
   "outputs": [
    {
     "data": {
      "text/plain": [
       "[b'k3', b'k2', b'k1']"
      ]
     },
     "execution_count": 183,
     "metadata": {},
     "output_type": "execute_result"
    }
   ],
   "source": [
    "import time\n",
    "\n",
    "time.sleep(1)\n",
    "r.keys()"
   ]
  },
  {
   "cell_type": "code",
   "execution_count": 184,
   "metadata": {},
   "outputs": [
    {
     "data": {
      "text/plain": [
       "True"
      ]
     },
     "execution_count": 184,
     "metadata": {},
     "output_type": "execute_result"
    }
   ],
   "source": [
    "r.flushdb()  # очистка"
   ]
  },
  {
   "cell_type": "markdown",
   "metadata": {},
   "source": [
    "Редис также предоставляет механизм транзаций (pipeline-ов в терминах самого редиса)."
   ]
  },
  {
   "cell_type": "markdown",
   "metadata": {},
   "source": [
    "Хранимые процедуры реализуются с помощью скриптов lua, которые однажды загружаются на сервер и далее выполняются на сервере редиса."
   ]
  },
  {
   "cell_type": "markdown",
   "metadata": {},
   "source": [
    "## Что ещё полезно знать о хранилищах\n",
    "\n",
    "1) Шардирование. Сегментирование (англ. sharding) — подход, предполагающий разделение баз данных, отдельных её объектов или индексов поисковых систем на независимые сегменты, каждый из которых управляется отдельным экземпляром сервера базы данных, размещаемым, как правило, на отдельном вычислительном узле. \n",
    "\n",
    "2) Реплицирование. Репликация (англ. replication) — механизм синхронизации содержимого нескольких копий объекта (например, содержимого базы данных). Репликация — это процесс, под которым понимается копирование данных из одного источника на другой (или на множество других) и наоборот. \n",
    "\n",
    "3) Индексирование. Индекс (англ. index) — объект базы данных, создаваемый с целью повышения производительности поиска данных. Таблицы в базе данных могут иметь большое количество строк, которые хранятся в произвольном порядке, и их поиск по заданному критерию путём последовательного просмотра таблицы строка за строкой может занимать много времени. Индекс формируется из значений одного или нескольких столбцов таблицы и указателей на соответствующие строки таблицы и, таким образом, позволяет искать строки, удовлетворяющие критерию поиска. Ускорение работы с использованием индексов достигается в первую очередь за счёт того, что индекс имеет структуру, оптимизированную под поиск — например, сбалансированного дерева. "
   ]
  }
 ],
 "metadata": {
  "kernelspec": {
   "display_name": "Python 3 (ipykernel)",
   "language": "python",
   "name": "python3"
  },
  "language_info": {
   "codemirror_mode": {
    "name": "ipython",
    "version": 3
   },
   "file_extension": ".py",
   "mimetype": "text/x-python",
   "name": "python",
   "nbconvert_exporter": "python",
   "pygments_lexer": "ipython3",
   "version": "3.11.3"
  }
 },
 "nbformat": 4,
 "nbformat_minor": 4
}
