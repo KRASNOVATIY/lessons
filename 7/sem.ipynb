{
 "cells": [
  {
   "cell_type": "markdown",
   "id": "6a50a6e2",
   "metadata": {},
   "source": [
    "### Задание 1\n",
    "Счётчик\n",
    "\n",
    "Определите класс Counter, реализующий положительный десятичный счетчик, который может увеличивать или уменьшать свое значение в заданном диапазоне, включая границы диапазона. \n",
    "\n",
    "В классе должны быть предусмотрены следующие возможности:\n",
    "- конструктор для инициализации счетчика значениями по умолчанию (стартовое значение и верхняя границы диапазона)\n",
    "- метод для установки произвольного значения счётчика\n",
    "- методы для увеличения и уменьшения текущего значения счетчика, по умолчанию на 1\n",
    "- метод для получения текущего значения счётчика\n",
    "- метод для сброса счётчика\n",
    "\n",
    "Все методы класса должны проверять выход текущего значения счетчика за допустимый диапазон. \n",
    "\n",
    "Создайте экземпляр счетчика со значениями по умолчанию и выведите на экран его начальные параметры. Далее проверьте его работу циклом в пределах диапазона, увеличивая его текущее значение от минимально возможного до максимального. Протестируйте работу всех методов\n",
    "\n",
    "Добавьте возможность складывать 2 экземпляра класса Counter, таким образом чтобы результатом сложения также был объект типа Counter"
   ]
  },
  {
   "cell_type": "code",
   "execution_count": null,
   "id": "29dd1b45",
   "metadata": {},
   "outputs": [],
   "source": [
    "class Counter:\n",
    "    ..."
   ]
  },
  {
   "cell_type": "code",
   "execution_count": null,
   "id": "b1879bca",
   "metadata": {},
   "outputs": [],
   "source": [
    "c1 = Counter(10, 20)\n",
    "c2 = Counter(15, 30)\n",
    "c1.incr()\n",
    "c2.decr(5)\n",
    "c3 = c1 + c2\n",
    "c3.get(), c3.stop"
   ]
  },
  {
   "cell_type": "code",
   "execution_count": null,
   "id": "6077dc9a",
   "metadata": {},
   "outputs": [],
   "source": [
    "while True:\n",
    "    c3.incr(2)"
   ]
  },
  {
   "cell_type": "code",
   "execution_count": null,
   "id": "aff5a954",
   "metadata": {},
   "outputs": [],
   "source": [
    "c3.get()"
   ]
  },
  {
   "cell_type": "markdown",
   "id": "c3a291f3",
   "metadata": {},
   "source": [
    "### Задание 2\n",
    "Моделирование карточки объекта для сервиса аренды / продажи недвижимости. Фишкой нашего продукта будет возможность обмена недвижимостью между пользователями\n",
    "\n",
    "Все классы должны быть датаклассами\n",
    "\n",
    "Определите класс Offer, реализующий карточку объекта недвижимости.\n",
    "Необходимые поля:\n",
    "- расположение объекта, включая адресс, город, координаты, индекс. Создайте отдельный класс, инкапсулирующий эти данные\n",
    "- флаги: признак закрытого предложения (карточки), признак того что предложение прошло проверку\n",
    "- id\n",
    "- время публикации\n",
    "- время окончания публикации\n",
    "- время последнего изменения\n",
    "- контакты, включая телефон, имя, id пользователя, баланс пользователя. Эти данные инкапсулируйте в отдельный класс\n",
    "- тип сделки (аренда / продажа)\n",
    "- цена\n",
    "\n",
    "Подумайте над тем как может быть инициализирован подобный объект, какие есть ограничения для его задания. Продумайте бизнес-сценарии. Добавьте методы для работы с карточкой:\n",
    "- конструктор\n",
    "- методы, позволяющие поменять флаги\n",
    "- метод для закрытия карточки\n",
    "- метод для смены пользователя\n",
    "- метод для изменения описания, прочих полей, цены\n",
    "\n",
    "Добавьте\n",
    "- метод(ы) / функцию(и) для обмена объектами между пользователями, который должен помимо прочего компенсировать разницу цены между объектами на баланс пользователя\n",
    "\n",
    "Создайте несколько объектов недвижимости с разными типами сделки, привяжите их к разным пользователям. Протестируйте корректность методов. Поменяйте между пользователями объекты недвижимости"
   ]
  },
  {
   "cell_type": "code",
   "execution_count": null,
   "id": "49be0dd7",
   "metadata": {
    "tags": []
   },
   "outputs": [],
   "source": [
    "import datetime\n",
    "from dataclasses import dataclass, field\n",
    "from enum import Enum\n",
    "\n",
    "@dataclass\n",
    "class GeoPoint:\n",
    "    lat: float\n",
    "    lon: float\n",
    "\n",
    "@dataclass\n",
    "class Location:\n",
    "    address: str\n",
    "    index: str\n",
    "    city: str\n",
    "    coordinates: GeoPoint\n",
    "        \n",
    "@dataclass\n",
    "class User:\n",
    "    name: str\n",
    "    phone: str\n",
    "    id: int\n",
    "    balance: int\n",
    " \n",
    "\n",
    "class RealtyType(Enum):\n",
    "    RENT = 1\n",
    "    SALE = 2\n",
    "\n",
    "        \n",
    "@dataclass\n",
    "class Realty:\n",
    "    location: Location\n",
    "    user: User\n",
    "    description: str\n",
    "    price: int\n",
    "    realty_type: RealtyType\n",
    "    publication_date: datetime.datetime = field(init=False)\n",
    "    \n",
    "    def __post_init__(self):\n",
    "        self.publication_date = datetime.datetime.now()"
   ]
  },
  {
   "cell_type": "code",
   "execution_count": null,
   "id": "88413780",
   "metadata": {},
   "outputs": [],
   "source": [
    "r1 = Realty(\n",
    "    location=Location('100500 Парковая, 5, 11', '111141', 'Москва', GeoPoint(50.45, 34.14)),\n",
    "    user=User('Он', '01', 1, 1000),\n",
    "    description='Лучшая квартира',\n",
    "    realty_type=RealtyType.RENT,\n",
    "    price=20_000\n",
    ")\n",
    "r2 = Realty(\n",
    "    location=Location('100500 Парковая, 5, 12', '111141', 'Москва', GeoPoint(50.45, 34.14)),\n",
    "    user=User('Он', '01', 2, 20_000),\n",
    "    description='Самая лучшая квартира',\n",
    "    realty_type=RealtyType.SALE,\n",
    "    price=20_000\n",
    ")\n",
    "r2"
   ]
  },
  {
   "cell_type": "markdown",
   "id": "65e113ae",
   "metadata": {},
   "source": [
    "### Задание 3\n",
    "\n",
    "Аннотруйте предыдущее задание, используя линтер проверьте корректность типов"
   ]
  },
  {
   "cell_type": "code",
   "execution_count": null,
   "id": "6769213d",
   "metadata": {},
   "outputs": [],
   "source": []
  }
 ],
 "metadata": {
  "kernelspec": {
   "display_name": "Python 3 (ipykernel)",
   "language": "python",
   "name": "python3"
  },
  "language_info": {
   "codemirror_mode": {
    "name": "ipython",
    "version": 3
   },
   "file_extension": ".py",
   "mimetype": "text/x-python",
   "name": "python",
   "nbconvert_exporter": "python",
   "pygments_lexer": "ipython3",
   "version": "3.11.3"
  }
 },
 "nbformat": 4,
 "nbformat_minor": 5
}
