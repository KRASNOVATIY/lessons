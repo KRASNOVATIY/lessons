{
 "cells": [
  {
   "cell_type": "markdown",
   "id": "49cbaa71",
   "metadata": {},
   "source": [
    "## Задача 1\n",
    " \n",
    " Есть модуль `hident.py`, который содержит логику обработки криптографических хешей. Функция `identify_hashes(input_hash)` позволяет узнать алгоритм хеширования по виду самого хеша, корутина `long_solve_hash(input_hash, alg)` имитирует работу 'обратного преобразования' хеша ([как это?](https://hashcat.net/hashcat/)), то есть позволяет восстановить секретное слово\n",
    " \n",
    " Требуется на [aiohttp](https://docs.aiohttp.org/en/stable/web.html) разработать приложение (сервер), которое будет иметь 2 ручки:\n",
    " - для вычисления возможного алгоритма хеширования по хешу `host:port/define/{hash}`\n",
    " - для вычисления секретного слова `host:port/solve?hash={hash}&algorithm={algorithm}`\n",
    " \n",
    " Напишите клиента, который будет использовать сервер:\n",
    " - отправлять 1 любой хеш, например `c4ca4238a0b923820dcc509a6f75849b`, получать его возможные алгоритмы \n",
    " - по каждому алгоритму вычислять секретное слово\n",
    " \n",
    " Подсказки:\n",
    " - вам потребуются только GET запросы\n",
    " - смотрите атрибуты запроса `Request.match_info` и `Request.query` https://docs.aiohttp.org/en/stable/web_reference.html#request-and-base-request\n",
    " - посмотрите пример сервера с предыдущего занятия"
   ]
  },
  {
   "cell_type": "markdown",
   "id": "b4700cdd",
   "metadata": {},
   "source": [
    "## Задача 2 (развиваем 1ю)\n",
    " \n",
    " А теперь смоделируем таймаут сервера на долгие запросы - обернём корутину `long_solve_hash(input_hash, alg)` перед вызвовом следующим способом\n",
    " ```python\n",
    " SERVER_TIMEOUT = 4\n",
    " pwd = await asyncio.wait_for(long_solve_hash(input_hash, input_alg), SERVER_TIMEOUT)\n",
    " ```\n",
    " \n",
    "Можно убедиться в том что ручка `solve` перестала работать. Как обрабатывать подобные ситуации: запросы, которые требуют очень долгого ожидания (долгой обработки) требуют реализации асинхронного api. Асинхронное api предполагает создание 2 ручек вместо одной\n",
    "\n",
    "Текущих синхронный контракт\n",
    "```go\n",
    "rpc solve (SolveIn) SolveOut `Получить пароль по хешу`\n",
    "\n",
    "message SolveIn  {inputHash string, alg string}\n",
    "message SolveOut {password string}\n",
    "```\n",
    "\n",
    "Асинхронный контракт (пример)\n",
    "```go\n",
    "rpc createSolveTask (CreateSolveTaskIn) CreateSolveTaskOut `Создать задачу на преобразование хеша`\n",
    "\n",
    "message CreateSolveTaskIn  {inputHash string, alg string}\n",
    "message CreateSolveTaskOut {taskId int}\n",
    "\n",
    "rpc getPassword (GetPasswordIn) GetPasswordOut `Получить результат преобразования`\n",
    "\n",
    "message GetPasswordIn      {taskId int}\n",
    "message GetPasswordOut     {password *string, err *Error}\n",
    "\n",
    "message Error              {code int, message string}  `допустимые значения в ErrCode, ErrMessage`\n",
    "const ErrCode {\n",
    "    ERR_TASK_NOT_FOUND          = 1000\n",
    "    ERR_TASK_NOT_FINISHED       = 1001\n",
    "}\n",
    "const ErrMessage {\n",
    "    ERR_TASK_NOT_FOUND          = \"task not found\"\n",
    "    ERR_TASK_NOT_FINISHED       = \"task not finished\"\n",
    "}\n",
    "```\n",
    "\n",
    "Реализуйте в сервере предложенную схему взаимодействия.\n",
    "\n",
    "Перепишите клиента, чтобы он мог работать с асинхронным api, поумайте над тем как должен обрабатываться статус ERR_TASK_NOT_FINISHED"
   ]
  }
 ],
 "metadata": {
  "kernelspec": {
   "display_name": "Python 3 (ipykernel)",
   "language": "python",
   "name": "python3"
  },
  "language_info": {
   "codemirror_mode": {
    "name": "ipython",
    "version": 3
   },
   "file_extension": ".py",
   "mimetype": "text/x-python",
   "name": "python",
   "nbconvert_exporter": "python",
   "pygments_lexer": "ipython3",
   "version": "3.11.3"
  }
 },
 "nbformat": 4,
 "nbformat_minor": 5
}
