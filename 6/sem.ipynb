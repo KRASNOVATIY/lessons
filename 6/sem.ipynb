{
 "cells": [
  {
   "cell_type": "markdown",
   "id": "648a6f2d",
   "metadata": {},
   "source": [
    "### Задание 1\n",
    "Требуется написать класс-строку: такой, чтобы его инстансы можно было сравнивать между собой. При этом, приоритетом для того чтобы считать строку большей, будет считаться длина строки, во вторую очередь будет сравниваться лексикографическая составляющая. В остальном класс должен повторять возможности обычных строк"
   ]
  },
  {
   "cell_type": "code",
   "execution_count": null,
   "id": "e2f29030",
   "metadata": {},
   "outputs": [],
   "source": [
    "'ac' > 'ab'  # лексикографическое сравнение "
   ]
  },
  {
   "cell_type": "code",
   "execution_count": null,
   "id": "500530da",
   "metadata": {},
   "outputs": [],
   "source": [
    "'ac' > 'aba'  # сравнение по длинам которое нас не устраивает "
   ]
  },
  {
   "cell_type": "code",
   "execution_count": null,
   "id": "4eceef43",
   "metadata": {},
   "outputs": [],
   "source": [
    "'ac'.upper()"
   ]
  },
  {
   "cell_type": "code",
   "execution_count": null,
   "id": "5d2e3d7d",
   "metadata": {},
   "outputs": [],
   "source": [
    "class Str(str):\n",
    "    ...\n",
    "    \n",
    "Str('ac') > Str('ab')"
   ]
  },
  {
   "cell_type": "code",
   "execution_count": null,
   "id": "349e5b6c",
   "metadata": {},
   "outputs": [],
   "source": [
    "Str('ac') < Str('a')"
   ]
  },
  {
   "cell_type": "code",
   "execution_count": null,
   "id": "1b3bbeda",
   "metadata": {},
   "outputs": [],
   "source": [
    "Str('ac') > Str('a')"
   ]
  },
  {
   "cell_type": "code",
   "execution_count": null,
   "id": "5378f331",
   "metadata": {},
   "outputs": [],
   "source": [
    "Str('ac') < Str('aba')"
   ]
  },
  {
   "cell_type": "code",
   "execution_count": null,
   "id": "6e8b16db",
   "metadata": {},
   "outputs": [],
   "source": [
    "Str('ac') > Str('aba')"
   ]
  },
  {
   "cell_type": "code",
   "execution_count": null,
   "id": "98485ded",
   "metadata": {},
   "outputs": [],
   "source": [
    "Str('ac').upper()"
   ]
  },
  {
   "cell_type": "markdown",
   "id": "3e0ce515",
   "metadata": {},
   "source": [
    "### Задание 2\n",
    "Класс-контейнер, который будет логировать (в консоль) события доступа к какому-либо объекту. Для логирования можно использовать `print()`.\n",
    "\n",
    "Лог должен отличаться для операций чтения, записи (модификации), удаления, создания (CRUD)"
   ]
  },
  {
   "cell_type": "code",
   "execution_count": null,
   "id": "1b256269",
   "metadata": {
    "tags": []
   },
   "outputs": [],
   "source": [
    "class Logger:\n",
    "    def __init__(self, obj):\n",
    "        self.obj = obj\n",
    "\n",
    "        \n",
    "lo = Logger('a')\n",
    "lo.obj + 'b'"
   ]
  },
  {
   "cell_type": "code",
   "execution_count": null,
   "id": "3075ba52",
   "metadata": {},
   "outputs": [],
   "source": [
    "lo.obj < 'b'"
   ]
  },
  {
   "cell_type": "code",
   "execution_count": null,
   "id": "897f2024",
   "metadata": {},
   "outputs": [],
   "source": [
    "lo = Logger(1)\n",
    "lo.obj + 2"
   ]
  },
  {
   "cell_type": "code",
   "execution_count": null,
   "id": "c8d58035",
   "metadata": {},
   "outputs": [],
   "source": [
    "lo.obj += 2"
   ]
  },
  {
   "cell_type": "code",
   "execution_count": null,
   "id": "27ffb515",
   "metadata": {},
   "outputs": [],
   "source": [
    "lo.obj"
   ]
  },
  {
   "cell_type": "code",
   "execution_count": null,
   "id": "b874652e",
   "metadata": {},
   "outputs": [],
   "source": [
    "lo.obj + 2"
   ]
  },
  {
   "cell_type": "code",
   "execution_count": null,
   "id": "9a4f6035",
   "metadata": {},
   "outputs": [],
   "source": [
    "del lo.obj"
   ]
  },
  {
   "cell_type": "markdown",
   "id": "b074b334",
   "metadata": {},
   "source": [
    "### Задание 3\n",
    "Класс - банковский вклад. \n",
    "Составляющие:\n",
    "- процент\n",
    "- сумма\n",
    "- период\n",
    "- капитализация\n",
    "- методы управления\n",
    "\n",
    "Нужно описать класс"
   ]
  },
  {
   "cell_type": "code",
   "execution_count": null,
   "id": "9c4cd1c4",
   "metadata": {
    "tags": []
   },
   "outputs": [],
   "source": [
    "\n",
    "# задача не так проста, как может показаться. Для начала, необходимо понять предметную область...\n",
    "# 1) банковские вклады могут быть с возможностью пополнения / без возможности пополнения\n",
    "# 2) с автоматическим продлением / без\n",
    "# 3) с возможностью частичного снятия денежных средств / без (можно закрыть только весь вклад, при этом проценты не будут начислены)\n",
    "# 4) капитализация также будет являться логическим признаком, она может быть / её может не быть\n",
    "\n",
    "# предметная область задаёт некоторые огранияения на сущность \"вклад\"\n",
    "# очерчиваются возможные методы:\n",
    "# - открыть / продлить / закрыть\n",
    "# - пополнить / снять\n",
    "# - подождать, при этом важно учитывать факторы 1-4\n",
    "# - рассчитать на некоторый срок\n",
    "\n",
    "# Также необходимо задать некоторые допущения:\n",
    "# - проценты начисляются (вычисляются, если вклад без частичного снятия и/или преждевременного закрытыия) каждый месяц\n",
    "# - процент указывается за месяц, а не весь период вклада ... если годовой процент = 6, то месячный будем считать 0.5\n",
    "# - период указывается в месяцах\n",
    "\n",
    "class Deposit:\n",
    "    def __init__(self, percent, deposit, ...):\n",
    "        ...\n"
   ]
  },
  {
   "cell_type": "code",
   "execution_count": null,
   "id": "4d231523-a2f7-470a-9156-78a2c03eb63f",
   "metadata": {},
   "outputs": [],
   "source": []
  }
 ],
 "metadata": {
  "kernelspec": {
   "display_name": "Python 3 (ipykernel)",
   "language": "python",
   "name": "python3"
  },
  "language_info": {
   "codemirror_mode": {
    "name": "ipython",
    "version": 3
   },
   "file_extension": ".py",
   "mimetype": "text/x-python",
   "name": "python",
   "nbconvert_exporter": "python",
   "pygments_lexer": "ipython3",
   "version": "3.11.3"
  }
 },
 "nbformat": 4,
 "nbformat_minor": 5
}
