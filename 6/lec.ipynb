{
 "cells": [
  {
   "cell_type": "markdown",
   "metadata": {},
   "source": [
    "# ООП\n",
    "\n",
    "Структура занятия:\n",
    "\n",
    "1) основы ООП\n",
    "\n",
    "2) классы\n",
    "\n",
    "3) экземпляры классов\n",
    "\n",
    "4) атрибуты\n",
    "\n",
    "5) свойства\n",
    "\n",
    "6) статические методы и методы классов\n",
    "\n",
    "7) магические методы\n",
    "\n",
    "8) наследование и MRO"
   ]
  },
  {
   "cell_type": "markdown",
   "metadata": {},
   "source": [
    "## Основы ООП\n",
    "\n",
    "Объе́ктно-ориенти́рованное программи́рование — методология программирования, основанная на представлении программы в виде совокупности взаимодействующих объектов, каждый из которых является экземпляром определённого класса, а классы образуют иерархию наследования\n",
    "\n",
    "ООП тесно связанно с понятием моделирования\n",
    "\n",
    "Основные принципы ООП:\n",
    "\n",
    "    - Абстракция. Выделяем в моделируемом предмете самое важное для решения конкретной задачи. В конечном счёте получаем контекстное понимание предмета, формализуемое в виде класса;\n",
    "    - Инкапсуляция. Свойство системы, позволяющее объединить данные и методы, работающие с ними, в классе;\n",
    "    - Наследование. Свойство системы, позволяющее описать новый класс на основе уже существующего с частично или полностью заимствованной функциональностью;\n",
    "    - Полиморфизм. Свойство системы, позволяющее использовать объекты с одинаковым интерфейсом без информации о типе и внутренней структуре объекта.\n",
    "    \n",
    "Вы можете освоить ООП только если чётко уяснили [SOLID](https://ru.wikipedia.org/wiki/SOLID_(%D0%BE%D0%B1%D1%8A%D0%B5%D0%BA%D1%82%D0%BD%D0%BE-%D0%BE%D1%80%D0%B8%D0%B5%D0%BD%D1%82%D0%B8%D1%80%D0%BE%D0%B2%D0%B0%D0%BD%D0%BD%D0%BE%D0%B5_%D0%BF%D1%80%D0%BE%D0%B3%D1%80%D0%B0%D0%BC%D0%BC%D0%B8%D1%80%D0%BE%D0%B2%D0%B0%D0%BD%D0%B8%D0%B5))\n"
   ]
  },
  {
   "cell_type": "markdown",
   "metadata": {},
   "source": [
    "## Классы\n",
    "\n",
    "Классы = данные + функции. \n",
    "\n",
    "Создание класса создает объект нового типа, позволяя создавать новые экземпляры этого типа. К каждому экземпляру класса могут быть прикреплены атрибуты для поддержания его состояния. Экземпляры класса также могут иметь методы (определенные классом) для изменения его состояния.\n",
    "\n",
    "Объект класса поддерживает 2 вида операций:\n",
    "- создание экземпляра класса\n",
    "- доступ к атрибутам класса "
   ]
  },
  {
   "cell_type": "code",
   "execution_count": null,
   "metadata": {
    "tags": []
   },
   "outputs": [],
   "source": [
    "class GeoPoint:  # создали объект типа MyClass\n",
    "    z = 0  # атрибут класса \n",
    "    # self указывает на то что метод принадлежит экземпляру класса\n",
    "    def __init__(self, lat, lon):  # __init__ - конструктор - магический метод, настраивающий экземпляр на определенное начальное состояние\n",
    "        self.lat = lat  # атрибут экземпляра класса\n",
    "        self.lon = lon\n",
    "    def print(self):  # метод экземпляра\n",
    "        print(f'lat={self.lat},lon={self.lon}')\n",
    "        \n",
    "GeoPointAlias = GeoPoint"
   ]
  },
  {
   "cell_type": "code",
   "execution_count": null,
   "metadata": {
    "tags": []
   },
   "outputs": [],
   "source": [
    "GeoPoint.print()"
   ]
  },
  {
   "cell_type": "code",
   "execution_count": null,
   "metadata": {
    "tags": []
   },
   "outputs": [],
   "source": [
    "GeoPoint.lat"
   ]
  },
  {
   "cell_type": "code",
   "execution_count": null,
   "metadata": {
    "tags": []
   },
   "outputs": [],
   "source": [
    "GeoPoint.z"
   ]
  },
  {
   "cell_type": "code",
   "execution_count": null,
   "metadata": {
    "tags": []
   },
   "outputs": [],
   "source": [
    "gp = GeoPointAlias(55.751244, 37.618423)  # создали экземпляр класса (типа) GeoPoint\n",
    "gp.lat"
   ]
  },
  {
   "cell_type": "code",
   "execution_count": null,
   "metadata": {
    "tags": []
   },
   "outputs": [],
   "source": [
    "gp.print()"
   ]
  },
  {
   "cell_type": "code",
   "execution_count": null,
   "metadata": {
    "tags": []
   },
   "outputs": [],
   "source": [
    "gp.z"
   ]
  },
  {
   "cell_type": "code",
   "execution_count": null,
   "metadata": {
    "tags": []
   },
   "outputs": [],
   "source": [
    "type(gp), type(GeoPointAlias)"
   ]
  },
  {
   "cell_type": "markdown",
   "metadata": {},
   "source": [
    "## Экземпляр класса\n",
    "\n",
    "Объект экземпляра поддерживает 1 вид операций:\n",
    "- доступ к атрибутам:\n",
    "    - полям или атрибутам данных\n",
    "    - методам\n",
    "    \n",
    "Атрибуты данных являются \"переменными экземпляра\".\n",
    "Методы - это функции, принадлежащие экземплярам"
   ]
  },
  {
   "cell_type": "markdown",
   "metadata": {},
   "source": [
    "## Атрибуты\n",
    "\n",
    "Python не поддерживает явного сокрытия атрибутов, то есть мы не можем объявить переменную или метод приватными. Однако, по соглашению, атрибуты, имя которых начинается с `_` считаются приватными, такие методы / переменные лучше не вызывать извне самого класса. "
   ]
  },
  {
   "cell_type": "code",
   "execution_count": null,
   "metadata": {
    "tags": []
   },
   "outputs": [],
   "source": [
    "class Rectangle:\n",
    "    _precission = 2  # этот атрибут считается приватным, мы не должны осуществлять к нему доступ напрямую\n",
    "    \n",
    "    def __init__(self, p1: GeoPoint, p2: GeoPoint):\n",
    "        self.p1 = p1\n",
    "        self.p2 = p2\n",
    "    \n",
    "    def square(self):\n",
    "        p1_lat, p1_lon = self._round_point(self.p1)\n",
    "        p2_lat, p2_lon = self._round_point(self.p2)\n",
    "        return (p1_lat - p2_lat)*(p1_lon - p2_lon)\n",
    "        \n",
    "    def _round_point(self, p):  # этот метод считается приватным, то есть он не будет фигурировать в интерфейсе \n",
    "        return round(p.lat, self._precission), round(p.lon, self._precission)\n",
    "    \n",
    "    \n",
    "rc = Rectangle(GeoPoint(55.751244, 37.618423), GeoPoint(52.78872, 34.89872))\n",
    "rc.square()"
   ]
  },
  {
   "cell_type": "code",
   "execution_count": null,
   "metadata": {
    "tags": []
   },
   "outputs": [],
   "source": [
    "rc._precission  # это возможно, но не рекомендуется "
   ]
  },
  {
   "cell_type": "code",
   "execution_count": null,
   "metadata": {
    "tags": []
   },
   "outputs": [],
   "source": [
    "rc._precission = 5  # и это возможно, но не рекомендуется \n",
    "rc._precission"
   ]
  },
  {
   "cell_type": "code",
   "execution_count": null,
   "metadata": {
    "tags": []
   },
   "outputs": [],
   "source": [
    "Rectangle._precission  # обратите внимание! Атрибут класса не поменялся"
   ]
  },
  {
   "cell_type": "markdown",
   "metadata": {},
   "source": [
    "Также есть механизм искажения имён, который служит целям переопределения сигнатуры метода в потомках (используется при наследовании). Чтобы он заработал, необходимо дать атрибуту имя, которое начинается с `__` и заканчивается словом либо `_`. Такие атрибуты вообще не могут быть вызваны извне класса напрямую"
   ]
  },
  {
   "cell_type": "code",
   "execution_count": null,
   "metadata": {},
   "outputs": [],
   "source": [
    "class Mapping:\n",
    "    def __init__(self, iterable):\n",
    "        self.items_list = []\n",
    "        self.__update(iterable)\n",
    "\n",
    "    def update(self, iterable):\n",
    "        for item in iterable:\n",
    "            self.items_list.append(item)\n",
    "\n",
    "    __update = update   # копируем update()\n",
    "\n",
    "class MappingSubclass(Mapping):  # MappingSubclass наследник класса Mapping\n",
    "\n",
    "    def update(self, keys, values):\n",
    "        # определяем новую сигнатуру для update()\n",
    "        # но оставляем __init__()\n",
    "        for item in zip(keys, values):\n",
    "            self.items_list.append(item)"
   ]
  },
  {
   "cell_type": "code",
   "execution_count": null,
   "metadata": {},
   "outputs": [],
   "source": [
    "m = MappingSubclass({1: 2, 3: 4})\n",
    "m.update((5, 6), (7, 8))\n",
    "m.items_list"
   ]
  },
  {
   "cell_type": "code",
   "execution_count": null,
   "metadata": {},
   "outputs": [],
   "source": [
    "m.__update  # не можем обратиться! но не потому что он приватный, а потому как он сокрыт в целях наследования"
   ]
  },
  {
   "cell_type": "code",
   "execution_count": null,
   "metadata": {},
   "outputs": [],
   "source": [
    "m._Mapping__update  #  так Питон исказил имя __update"
   ]
  },
  {
   "cell_type": "code",
   "execution_count": null,
   "metadata": {},
   "outputs": [],
   "source": [
    "m._Mapping__update({2: 3})\n",
    "m.items_list"
   ]
  },
  {
   "cell_type": "markdown",
   "metadata": {},
   "source": [
    "### атрибуты данных\n",
    "\n",
    "Изменяемые или неизменяемые поля, которые описывают основные параметры модели (класса в целом и каждого экземпляра в частности) \n",
    "\n",
    "Примечание: весь блок ниже, до \"методов\" нужно запускать/перезапускать целиком"
   ]
  },
  {
   "cell_type": "code",
   "execution_count": null,
   "metadata": {},
   "outputs": [],
   "source": [
    "GeoPoint.z = 4  # заданное в момент определения класса значение = 0, смотри выше\n",
    "\n",
    "gp = GeoPoint(55.751244, 37.618423)\n",
    "gp.z, GeoPoint.z  # новый экземпляр gp инициализировался с актуальным значением GeoPoint.z"
   ]
  },
  {
   "cell_type": "code",
   "execution_count": null,
   "metadata": {},
   "outputs": [],
   "source": [
    "GeoPoint.z = 5\n",
    "gp.z, GeoPoint.z  # в этот момент класс и его экземпляр ссылаются ещё на один объект"
   ]
  },
  {
   "cell_type": "code",
   "execution_count": null,
   "metadata": {},
   "outputs": [],
   "source": [
    "GeoPoint.z = 4\n",
    "gp.z, GeoPoint.z  # и тут"
   ]
  },
  {
   "cell_type": "code",
   "execution_count": null,
   "metadata": {},
   "outputs": [],
   "source": [
    "gp.z = 6  \n",
    "gp.z, GeoPoint.z  # а тут экземпляр отвязался от класса, получил своё собственное значение z"
   ]
  },
  {
   "cell_type": "code",
   "execution_count": null,
   "metadata": {},
   "outputs": [],
   "source": [
    "GeoPoint.z = 7\n",
    "gp.z, GeoPoint.z"
   ]
  },
  {
   "cell_type": "code",
   "execution_count": null,
   "metadata": {},
   "outputs": [],
   "source": [
    "GeoPoint.lat = 1  # экземпляр получил атрибут в момент инициализации, мы не можем на него повлиять через класс\n",
    "gp.lat"
   ]
  },
  {
   "cell_type": "code",
   "execution_count": null,
   "metadata": {},
   "outputs": [],
   "source": [
    "gp.lat = 55.8  # а напрямую можем\n",
    "gp.lat"
   ]
  },
  {
   "cell_type": "markdown",
   "metadata": {},
   "source": [
    "### методы\n",
    "\n",
    "Функции, которые связанны с экземплярами классов или с самими классами"
   ]
  },
  {
   "cell_type": "code",
   "execution_count": null,
   "metadata": {},
   "outputs": [],
   "source": [
    "gp_print = gp.print\n",
    "gp_print()"
   ]
  },
  {
   "cell_type": "code",
   "execution_count": null,
   "metadata": {},
   "outputs": [],
   "source": [
    "gp_print = lambda : print('Oh!')\n",
    "gp_print()"
   ]
  },
  {
   "cell_type": "code",
   "execution_count": null,
   "metadata": {},
   "outputs": [],
   "source": [
    "gp.print()"
   ]
  },
  {
   "cell_type": "markdown",
   "metadata": {},
   "source": [
    "### переменные класса и переменные экземпляра\n",
    "\n",
    "Вообще говоря, переменные экземпляра предназначены для данных, уникальных для каждого экземпляра, а переменные класса - для атрибутов и методов, общих для всех экземпляров класса.\n",
    "\n",
    "Если в качестве общих данных использовать изменяемые объекты, такие как списки или словари, могут возникать неожиданные эффекты."
   ]
  },
  {
   "cell_type": "code",
   "execution_count": null,
   "metadata": {
    "tags": []
   },
   "outputs": [],
   "source": [
    "class Student:\n",
    "    grades = []\n",
    "\n",
    "    def __init__(self, name):\n",
    "        self.name = name\n",
    "        \n",
    "    def add_grade(self, grade):\n",
    "        self.grades.append(grade)\n",
    "        \n",
    "    def get_year_grade(self):\n",
    "        return sum(self.grades)/len(self.grades)\n",
    "        \n",
    "masha = Student('Masha')\n",
    "lesha = Student('Lesha')\n",
    "masha.add_grade(5)\n",
    "masha.add_grade(5)\n",
    "lesha.add_grade(2)\n",
    "lesha.add_grade(2)\n",
    "masha.get_year_grade(), lesha.get_year_grade()"
   ]
  },
  {
   "cell_type": "markdown",
   "metadata": {},
   "source": [
    "![image](ntan.png)\n"
   ]
  },
  {
   "cell_type": "markdown",
   "metadata": {},
   "source": [
    "## Свойства\n",
    "\n",
    "или вычисляемые/управляемые атрибуты\n",
    "\n",
    "Задаются, как методы при помощи декоратора `@property`\n",
    "\n",
    "Доступ к ним осуществляется как к обычным атрибутам данных"
   ]
  },
  {
   "cell_type": "code",
   "execution_count": null,
   "metadata": {},
   "outputs": [],
   "source": [
    "import math\n",
    "\n",
    "\n",
    "class Circle:\n",
    "    def __init__(self, radius):\n",
    "        self._radius = radius\n",
    "        \n",
    "    @property\n",
    "    def area(self):  # это совйство вычисляется только в момент обращения к нему\n",
    "        return 2 * self.radius * math.pi\n",
    "        \n",
    "    @property\n",
    "    def radius(self):  # это свойство связывается с \"условно приватным\" атрибутом\n",
    "        return self._radius"
   ]
  },
  {
   "cell_type": "code",
   "execution_count": null,
   "metadata": {},
   "outputs": [],
   "source": [
    "c = Circle(5)\n",
    "c.radius, c.area  # доступ"
   ]
  },
  {
   "cell_type": "code",
   "execution_count": null,
   "metadata": {},
   "outputs": [],
   "source": [
    "c.radius = 2  # в данном случае мы задали неизменяемое свойство"
   ]
  },
  {
   "cell_type": "markdown",
   "metadata": {},
   "source": [
    "Чтобы задать изменяемое свойство, необходимо определить для него `.setter` и/или `.deleter`"
   ]
  },
  {
   "cell_type": "code",
   "execution_count": null,
   "metadata": {},
   "outputs": [],
   "source": [
    "import math\n",
    "\n",
    "\n",
    "class Circle:\n",
    "    def __init__(self, radius):\n",
    "        self._radius = radius\n",
    "        \n",
    "    @property\n",
    "    def area(self):\n",
    "        return 2 * self.radius * math.pi\n",
    "        \n",
    "    @property\n",
    "    def radius(self):\n",
    "        return self._radius\n",
    "    \n",
    "    @radius.setter\n",
    "    def radius(self, radius):\n",
    "        self._radius = radius\n",
    "\n",
    "    @radius.deleter\n",
    "    def radius(self):\n",
    "        del self._radius\n",
    "        \n",
    "    @property\n",
    "    def diameter(self):\n",
    "        return self.radius * 2\n",
    "    \n",
    "    @diameter.setter\n",
    "    def diameter(self, diameter):\n",
    "        self._radius = diameter / 2"
   ]
  },
  {
   "cell_type": "code",
   "execution_count": null,
   "metadata": {},
   "outputs": [],
   "source": [
    "c = Circle(5)\n",
    "c.radius, c.area"
   ]
  },
  {
   "cell_type": "code",
   "execution_count": null,
   "metadata": {},
   "outputs": [],
   "source": [
    "c.radius = 2\n",
    "c.radius, c.area, c.diameter"
   ]
  },
  {
   "cell_type": "code",
   "execution_count": null,
   "metadata": {},
   "outputs": [],
   "source": [
    "c.diameter = 2\n",
    "c.radius, c.area, c.diameter"
   ]
  },
  {
   "cell_type": "code",
   "execution_count": null,
   "metadata": {},
   "outputs": [],
   "source": [
    "del c.radius"
   ]
  },
  {
   "cell_type": "code",
   "execution_count": null,
   "metadata": {},
   "outputs": [],
   "source": [
    "c.radius"
   ]
  },
  {
   "cell_type": "markdown",
   "metadata": {},
   "source": [
    "Также возможно задать свойство только на запись"
   ]
  },
  {
   "cell_type": "code",
   "execution_count": null,
   "metadata": {},
   "outputs": [],
   "source": [
    "import hashlib\n",
    "\n",
    "class User:\n",
    "    def __init__(self, name, password):\n",
    "        self.name = name\n",
    "        self.password = password\n",
    "        \n",
    "    @property\n",
    "    def password(self):\n",
    "        raise AttributeError('Password is write only')\n",
    "        \n",
    "    @password.setter\n",
    "    def password(self, plaintext):\n",
    "        self._hashed_password = hashlib.md5(plaintext.encode())\n",
    "        \n",
    "u = User('User Name', 'PaSsWoRd')\n",
    "u.name"
   ]
  },
  {
   "cell_type": "code",
   "execution_count": null,
   "metadata": {},
   "outputs": [],
   "source": [
    "u._hashed_password.hexdigest()"
   ]
  },
  {
   "cell_type": "code",
   "execution_count": null,
   "metadata": {},
   "outputs": [],
   "source": [
    "u.password"
   ]
  },
  {
   "cell_type": "code",
   "execution_count": null,
   "metadata": {},
   "outputs": [],
   "source": [
    "# help(property)"
   ]
  },
  {
   "cell_type": "markdown",
   "metadata": {},
   "source": [
    "## Статические методы и методы классов\n",
    "\n",
    "Статический метод - метод, который ничего не знает об экземпляре класса. Задаётся, как метод при помощи декоратора `@staticmethod`, но без указания `self` 1-м параметром. Нужен для того чтобы связать с классом обычную функцию (не указывающую на атрибуты экземпляра или класса), которая логически относятся к классу\n",
    "\n",
    "Метод класса - метод, связан не с экхземпляром класса, а с самим классом. Задаётся, как метод при помощи декоратора `@classmethod`, с передачей `cls` 1-м параметром.\n",
    "\n",
    "Внимание: `cls`, как и `self` являются соглашениями"
   ]
  },
  {
   "cell_type": "code",
   "execution_count": null,
   "metadata": {},
   "outputs": [],
   "source": [
    "class Building:\n",
    "    \n",
    "    _total_buildings = 0\n",
    "    \n",
    "    def __init__(self, name):\n",
    "        self.name = self.beautify_name(name)\n",
    "        Building._total_buildings += 1  # а если использовать self._total_buildings ...\n",
    "        \n",
    "    @staticmethod\n",
    "    def beautify_name(name):  # нет self\n",
    "        return f'*{name.title()}*'\n",
    "       \n",
    "    @classmethod\n",
    "    def total_buildings(cls):  # self заменёна на cls\n",
    "        print('Всего зданий: ', cls._total_buildings)\n",
    "        \n",
    "        \n",
    "# Создаем объекты        \n",
    "my_obj1 = Building('horse street, 21')\n",
    "my_obj2 = Building('dog street, 17')\n",
    "my_obj3 = Building('cat street, 2')\n",
    "\n",
    "# Вызываем classmethod \n",
    "Building.total_buildings()"
   ]
  },
  {
   "cell_type": "code",
   "execution_count": null,
   "metadata": {},
   "outputs": [],
   "source": [
    "my_obj3.name"
   ]
  },
  {
   "cell_type": "markdown",
   "metadata": {},
   "source": [
    "## Магические методы и свойства\n",
    "\n",
    "Класс может реализовывать операции, которые вызываются с помощью специального синтаксиса (например, с помощью арифметических операций или операции взятия среза), для этого необходимо определить [методы со специальными именами](https://docs.python.org/3/reference/datamodel.html#special-method-names).\n",
    "Это подход Python к перегрузке операторов.\n",
    "\n",
    "Имя магического метода всегда начинается и заканчивается `__`\n",
    "\n",
    "Установка для специального метода значения `None` указывает на то, что соответствующая операция недоступна. Например, если класс присваивает `__iter__()` значение `None`, класс не является итерируемым, поэтому вызов `iter()` в его экземплярах вызовет `TypeError`\n",
    "\n",
    "Некоторые из специальных методов..."
   ]
  },
  {
   "cell_type": "markdown",
   "metadata": {},
   "source": [
    "### 1. Управление жизненным циклом объектов\n",
    "\n",
    "`object.__new__(cls[, ...])` - метод создания класса. Описывает что необходимо сделать классу до инициализации его экземпляров.\n",
    "\n",
    "`object.__init__(self[, ...])` - конструктор класса. Инициализирует экземпляр класса некоторым изначальным состоянием.\n",
    "\n",
    "`object.__del__(self)` - деструктор класса. Описывает что необходимо сделать с экземпляром перед его удалением. Вызывается автоматически "
   ]
  },
  {
   "cell_type": "code",
   "execution_count": null,
   "metadata": {},
   "outputs": [],
   "source": [
    "class Singleton:\n",
    "    _instance = None\n",
    "    \n",
    "    def __new__(cls, *args, **kwargs):\n",
    "        print('Я создаю')\n",
    "        if cls._instance is None:\n",
    "            cls._instance = super(Singleton, cls).__new__(cls, *args, **kwargs)\n",
    "        return cls._instance\n",
    "    \n",
    "    def __init__(self):\n",
    "        print('Я инициализирую этот экземпляр')\n",
    "        \n",
    "    def __del__(self):\n",
    "        print('Я удаляю этот экземпляр')  # на самом деле, пока удалится только ссылка\n",
    "    \n",
    "s1 = Singleton()\n",
    "s2 = Singleton()\n",
    "id(s1), id(s2)"
   ]
  },
  {
   "cell_type": "code",
   "execution_count": null,
   "metadata": {},
   "outputs": [],
   "source": [
    "del s1\n",
    "id(s1)"
   ]
  },
  {
   "cell_type": "code",
   "execution_count": null,
   "metadata": {},
   "outputs": [],
   "source": [
    "id(s2)"
   ]
  },
  {
   "cell_type": "markdown",
   "metadata": {},
   "source": [
    "Попробуйте запустить этот код в IDE, вы увидите когда происходит удаление"
   ]
  },
  {
   "cell_type": "markdown",
   "metadata": {},
   "source": [
    "### 2. Представление объекта\n",
    "Можно переопределить поведение экземпляра на встроенных функциях `repr()`, `str()`, `bool()`, `len()`, `hash()` и прочих... рассмотрим только последний \n",
    "\n",
    "`object.__hash__(self)`"
   ]
  },
  {
   "cell_type": "code",
   "execution_count": null,
   "metadata": {},
   "outputs": [],
   "source": [
    "class HashbleSome:   \n",
    "    def __init__(self, a):\n",
    "        self.a = a\n",
    "        \n",
    "    def __hash__(self):\n",
    "        return self.a % 10\n",
    "    \n",
    "h1 = HashbleSome(202)\n",
    "h2 = HashbleSome(1002)\n",
    "hash(h1), hash(h2)"
   ]
  },
  {
   "cell_type": "markdown",
   "metadata": {},
   "source": [
    "### 3. Функтор - эмуляция вызываемого типа\n",
    "\n",
    "`object.__call__(self[, args...])`"
   ]
  },
  {
   "cell_type": "code",
   "execution_count": null,
   "metadata": {},
   "outputs": [],
   "source": [
    "from collections import deque\n",
    "\n",
    "class MemoryPluser:\n",
    "    \n",
    "    def __init__(self):\n",
    "        self.history = deque([], 3)\n",
    "        \n",
    "    def __call__(self, other, some):\n",
    "        result = other + some\n",
    "        self.history.append(result)\n",
    "        \n",
    "        return other + some\n",
    "    \n",
    "p = MemoryPluser()\n",
    "p(10, 2), p.history"
   ]
  },
  {
   "cell_type": "code",
   "execution_count": null,
   "metadata": {},
   "outputs": [],
   "source": [
    "p(101, 2), p(3, 3), p(2000, 4), p(1, -1), p.history"
   ]
  },
  {
   "cell_type": "markdown",
   "metadata": {},
   "source": [
    "### 4. Эмуляция числового типа\n",
    "\n",
    "Можно определить разные операторы: `*`, `/`, `=`, `>>`, `&`, `+=`, `//=`, `<`, `>=`, `==`, `!=`, `+`, прочие... рассмотрим только последний \n",
    "\n",
    "`object.__add__(self, other)` и его правую версию `object.__radd__(self, other)`"
   ]
  },
  {
   "cell_type": "code",
   "execution_count": null,
   "metadata": {},
   "outputs": [],
   "source": [
    "class StrPluser:\n",
    "    \n",
    "    def __init__(self, value):\n",
    "        self.value = str(value)\n",
    "    \n",
    "    def __add__(self, other):  # сложение слева\n",
    "        return '.'.join([self.value, other.value])\n",
    "    \n",
    "one = StrPluser(1)\n",
    "two = StrPluser(2)\n",
    "one + two"
   ]
  },
  {
   "cell_type": "code",
   "execution_count": null,
   "metadata": {},
   "outputs": [],
   "source": [
    "one + two + one"
   ]
  },
  {
   "cell_type": "code",
   "execution_count": null,
   "metadata": {},
   "outputs": [],
   "source": [
    "class StrPluser:\n",
    "    \n",
    "    def __init__(self, value):\n",
    "        self.value = str(value)\n",
    "    \n",
    "    def __add__(self, other):  # сложение слева\n",
    "        return '.'.join([self.value, other.value])\n",
    "    \n",
    "    def __radd__(self, other):  # сложение справа\n",
    "        if isinstance(other, StrPluser):\n",
    "            other = other.value\n",
    "        return '.'.join([other, self.value])\n",
    "    \n",
    "one = StrPluser(1)\n",
    "two = StrPluser(2)\n",
    "one + two + one + one + two"
   ]
  },
  {
   "cell_type": "markdown",
   "metadata": {},
   "source": [
    "### 5. Менеджер контекста\n",
    "\n",
    "Менеджер контекста - это объект, который определяет контекст среды выполнения, который должен быть установлен при выполнении инструкции `with`. Контекстные менеджеры обычно вызываются с помощью инструкции `with`, но также могут быть использованы путем прямого вызова их методов.\n",
    "\n",
    "Типичное использование контекстных менеджеров включает:\n",
    "1. сохранение и восстановление различных видов глобального состояния\n",
    "2. блокировку и разблокировку ресурсов\n",
    "3. закрытие открытых файлов и т.д.\n",
    "\n",
    "`object.__enter__(self)`\n",
    "\n",
    "`object.__exit__(self, exc_type, exc_value, traceback)`"
   ]
  },
  {
   "cell_type": "code",
   "execution_count": null,
   "metadata": {},
   "outputs": [],
   "source": [
    "class FileOpener:\n",
    "    def __init__(self, f_name, mode):\n",
    "        self.name = f_name\n",
    "        self.mode = mode\n",
    "        self.f_obj = None\n",
    "        \n",
    "    def __enter__(self):\n",
    "        self.f_obj = open(self.name, self.mode)\n",
    "        return self.f_obj\n",
    "        \n",
    "    def __exit__(self, exc_type, exc_value, traceback):\n",
    "        self.f_obj.close()\n",
    "        self.f_obj = None\n",
    "        \n",
    "with FileOpener('file1.txt', 'w') as fo:\n",
    "    fo.write('test')\n",
    "\n",
    "# сравном наш класс FileOpener со стандартным объектом для работы с файлами open\n",
    "with open('file2.txt', 'w') as fo:\n",
    "    fo.write('test')"
   ]
  },
  {
   "cell_type": "markdown",
   "metadata": {},
   "source": [
    "### 6. и многие другие\n",
    "\n",
    "- Определяющие доступ к атрибутам объекта, включая протокол дескрипторов\n",
    "- Определяющие правила создания и наследования класса\n",
    "- Позволяющие имитировать контейнерные типы\n",
    "- Позволяющие работать с корутинами\n"
   ]
  },
  {
   "cell_type": "markdown",
   "metadata": {},
   "source": [
    "### Свойство `__slots__`\n",
    "\n",
    "Когда класс определяет `__slots__`, он заменяет словари экземпляров массивом значений slot фиксированной длины.\n",
    "Это приводит к:\n",
    "- отсутствию возможности определить атрибут с именем, не зафиксированным в slot. Багам Нет!\n",
    "- отсутствию возможности рабоатать с `__dict__` объекта\n",
    "- возможности создавать неизменяемые объекты, доступные только на чтение\n",
    "- существенной экономии ресурсов... на 64 битной системе экземпляр с 2 атрибутами весит 152 байта без slot и 48 с slot\n",
    "- увеличению производительности... до 35%"
   ]
  },
  {
   "cell_type": "code",
   "execution_count": null,
   "metadata": {},
   "outputs": [],
   "source": [
    "class Vehicle:\n",
    "    ...\n",
    "    \n",
    "v = Vehicle()\n",
    "v.mark = 'Lada'\n",
    "v.__dict__"
   ]
  },
  {
   "cell_type": "code",
   "execution_count": null,
   "metadata": {},
   "outputs": [],
   "source": [
    "v.moedl = 'Kalina?'\n",
    "v.__dict__"
   ]
  },
  {
   "cell_type": "code",
   "execution_count": null,
   "metadata": {},
   "outputs": [],
   "source": [
    "class Vehicle:\n",
    "    __slots__ = ('mark', 'model')\n",
    "    \n",
    "v = Vehicle()\n",
    "v.mark = 'BMW'\n",
    "v.__dict__"
   ]
  },
  {
   "cell_type": "code",
   "execution_count": null,
   "metadata": {},
   "outputs": [],
   "source": [
    "v.mark"
   ]
  },
  {
   "cell_type": "code",
   "execution_count": null,
   "metadata": {},
   "outputs": [],
   "source": [
    "v.moedl = 'X6'\n",
    "v.moedl"
   ]
  },
  {
   "cell_type": "code",
   "execution_count": null,
   "metadata": {},
   "outputs": [],
   "source": [
    "v.model = 'X6'\n",
    "v.model"
   ]
  },
  {
   "cell_type": "markdown",
   "metadata": {},
   "source": [
    "Объект на чтение"
   ]
  },
  {
   "cell_type": "code",
   "execution_count": null,
   "metadata": {},
   "outputs": [],
   "source": [
    "class ImmutableVehicle:\n",
    "    __slots__ = ('_mark', '_model')\n",
    "    \n",
    "    def __init__(self, mark, model):\n",
    "        self._mark = mark\n",
    "        self._model = model\n",
    "\n",
    "    @property\n",
    "    def mark(self):\n",
    "        return self._mark\n",
    "\n",
    "    @property\n",
    "    def model(self):\n",
    "        return self._model\n",
    "    \n",
    "v = ImmutableVehicle('T', '34')\n",
    "v.model = '80'"
   ]
  },
  {
   "cell_type": "code",
   "execution_count": null,
   "metadata": {},
   "outputs": [],
   "source": [
    "v.model"
   ]
  },
  {
   "cell_type": "markdown",
   "metadata": {},
   "source": [
    "## Наследование и MRO\n",
    "\n",
    "Наследование — это процесс, когда один класс наследует атрибуты и методы другого. Класс, чьи свойства и методы наследуются, называют родителем или суперклассом.\n"
   ]
  },
  {
   "cell_type": "markdown",
   "metadata": {},
   "source": [
    "Для того чтобы наследовать класс от другого, необходимо указать предка в скобках при объявлении класса. К примеру, сделаем класс `MyStr`, наследника `str`:\n",
    "\n",
    "```python\n",
    "class MyStr(str):\n",
    "    ...\n",
    "```\n",
    "В данном конкретном примере, класс `MyStr` целиком повторяет возможности класса `str`, так как мы не переопредели ни один метод и не объявили новые методы"
   ]
  },
  {
   "cell_type": "code",
   "execution_count": null,
   "metadata": {},
   "outputs": [],
   "source": [
    "class Food:\n",
    "    def __init__(self, taste, caloric):\n",
    "        self.taste = taste\n",
    "        self.caloric = caloric\n",
    "        \n",
    "    def get_description(self):\n",
    "        return f'Taste is {self.taste} and only {self.caloric} calories!'\n",
    "        \n",
    "class Meat(Food): ...   # троеточие в данном контексте означает что мы просто не реализовали этот класс\n",
    "class Milk(Food): pass  # pass в данном контексте означает что мы просто не реализовали этот класс\n",
    "class Flour(Food): pass\n",
    "class Rabbit(Meat): pass\n",
    "class Pork(Meat): pass\n",
    "class Pasty(Milk, Flour): pass\n",
    "class Pie(Rabbit, Pork, Pasty): pass\n",
    "\n",
    "pie = Pie('Good', 4000)\n",
    "pie.get_description()"
   ]
  },
  {
   "cell_type": "code",
   "execution_count": null,
   "metadata": {},
   "outputs": [],
   "source": [
    "class Food:\n",
    "    def __init__(self, taste, caloric):\n",
    "        self.taste = taste\n",
    "        self.caloric = caloric\n",
    "        self.notes = []\n",
    "    \n",
    "    def get_description(self):\n",
    "        return f'Taste is {self.taste} and only {self.caloric} calories.' + str(self.notes)    \n",
    "        \n",
    "class Meat(Food):\n",
    "    def __init__(self, taste, caloric):\n",
    "        self.taste = taste\n",
    "        self.caloric = caloric\n",
    "        self.notes = []\n",
    "        self.notes.append('Meat')\n",
    "        \n",
    "class Milk(Food):\n",
    "    def __init__(self, taste, caloric):\n",
    "        self.taste = taste\n",
    "        self.caloric = caloric\n",
    "        self.notes = []\n",
    "        self.notes.append('Milk')\n",
    "        \n",
    "class Flour(Food):\n",
    "    def __init__(self, taste, caloric):\n",
    "        self.taste = taste\n",
    "        self.caloric = caloric\n",
    "        self.notes = []\n",
    "        self.notes.append('Flour')\n",
    "\n",
    "class Rabbit(Meat):\n",
    "    def __init__(self, taste, caloric):\n",
    "        self.taste = taste\n",
    "        self.caloric = caloric\n",
    "        self.notes = []\n",
    "        self.notes.append('Contains meat of a small animal(')\n",
    "    \n",
    "class Pork(Meat):\n",
    "    def __init__(self, taste, caloric):\n",
    "        self.taste = taste\n",
    "        self.caloric = caloric\n",
    "        self.notes = []\n",
    "        self.notes.append('With pigs')\n",
    "    \n",
    "class Pasty(Milk, Flour):\n",
    "    def __init__(self, taste, caloric):\n",
    "        self.taste = taste\n",
    "        self.caloric = caloric\n",
    "        self.notes = []\n",
    "        self.notes.append('Лактоза и глютен')\n",
    "    \n",
    "class Pie(Rabbit, Pork, Pasty): pass\n",
    "\n",
    "pie = Pie('Good', 4000)\n",
    "pie.get_description()"
   ]
  },
  {
   "cell_type": "code",
   "execution_count": null,
   "metadata": {},
   "outputs": [],
   "source": [
    "food = Food('?', 0)\n",
    "food.get_description()"
   ]
  },
  {
   "cell_type": "markdown",
   "metadata": {},
   "source": [
    "Определить порядок наследования можно через встроенный метод класса `.mro()`. Это называется линеаризацией"
   ]
  },
  {
   "cell_type": "code",
   "execution_count": null,
   "metadata": {},
   "outputs": [],
   "source": [
    "Pie.mro()"
   ]
  },
  {
   "cell_type": "markdown",
   "metadata": {},
   "source": [
    "Неразрешимая линеаризация:"
   ]
  },
  {
   "cell_type": "code",
   "execution_count": null,
   "metadata": {},
   "outputs": [],
   "source": [
    "class A: pass\n",
    "class B: pass\n",
    "class C(A, B): pass\n",
    "class D(B, A): pass\n",
    "class E(C, D): pass"
   ]
  },
  {
   "cell_type": "markdown",
   "metadata": {},
   "source": [
    "Для того чтобы составить метод, основанный на методах всех родителей, можно воспользоваться встроенной функцией `super()`.\n",
    "\n",
    "`super()` последовательно проходится по цепочке MRO и вызывает их методы\n",
    "\n",
    "https://docs.python.org/3/library/functions.html#super"
   ]
  },
  {
   "cell_type": "markdown",
   "metadata": {},
   "source": [
    "Кроме того в Python можно определить абстрактные классы.\n",
    "\n",
    "Абстрактные классы в объектно-ориентированном программировании — это базовые классы, которые можно наследовать, но нельзя реализовывать. То есть на их основе нельзя создать объект.\n",
    "\n",
    "Для создания абстрактных классов служит модуль `abc`. Для того чтобы класс был абстрактным, необходимо наследовать его от `abc.ABC` и отметить один из его методов абстрактным `abc.abstractmethod`"
   ]
  },
  {
   "cell_type": "code",
   "execution_count": null,
   "metadata": {},
   "outputs": [],
   "source": [
    "from abc import ABC, abstractmethod\n",
    "\n",
    "\n",
    "class Food(ABC):  # это абстрактный класс\n",
    "    \n",
    "    @abstractmethod  # а это абстрактный метод\n",
    "    def __init__(self, taste, caloric):\n",
    "        self.taste = taste\n",
    "        self.caloric = caloric\n",
    "        self.notes = []\n",
    "    \n",
    "    def get_description(self):\n",
    "        return f'Taste is {self.taste} and only {self.caloric} calories.' + str(self.notes)    \n",
    "        \n",
    "class Meat(Food):\n",
    "    def __init__(self, *args, **kwargs):  # метод уже не абстрактный \n",
    "        super().__init__(*args, **kwargs)\n",
    "        self.notes.append('Meat')\n",
    "        \n",
    "class Milk(Food):\n",
    "    def __init__(self, *args, **kwargs):  # метод уже не абстрактный \n",
    "        super().__init__(*args, **kwargs)\n",
    "        self.notes.append('Milk')\n",
    "        \n",
    "class Flour(Food):\n",
    "    def __init__(self, *args, **kwargs):  # метод уже не абстрактный \n",
    "        super().__init__(*args, **kwargs)\n",
    "        self.notes.append('Flour')\n",
    "\n",
    "class Rabbit(Meat):\n",
    "    def __init__(self, *args, **kwargs):\n",
    "        super().__init__(*args, **kwargs)\n",
    "        self.notes.append('Contains meat of a small animal(')\n",
    "    \n",
    "class Pork(Meat):\n",
    "    def __init__(self, *args, **kwargs):\n",
    "        super().__init__(*args, **kwargs)\n",
    "        self.notes.append('With pigs')\n",
    "    \n",
    "class Pasty(Milk, Flour):\n",
    "    def __init__(self, *args, **kwargs):\n",
    "        super().__init__(*args, **kwargs)\n",
    "        self.notes.append('Лактоза и глютен')\n",
    "    \n",
    "class Pie(Rabbit, Pork, Pasty): pass\n",
    "\n",
    "pie = Pie('Good', 4000)\n",
    "pie.get_description()"
   ]
  },
  {
   "cell_type": "code",
   "execution_count": null,
   "metadata": {},
   "outputs": [],
   "source": [
    "f = Food('?', 0)"
   ]
  },
  {
   "cell_type": "code",
   "execution_count": null,
   "metadata": {},
   "outputs": [],
   "source": [
    "class OtherFood(Food):  # всё-ещё абстрактный, так как абстрактный метод не переопределён\n",
    "    ...\n",
    "    \n",
    "f = OtherFood('?', 0)"
   ]
  },
  {
   "cell_type": "markdown",
   "metadata": {},
   "source": [
    "### Ремарка про наследование\n",
    "\n",
    "Когда можно наследоваться:\n",
    "- наследник является корректным подтипом предка в терминах [LSP](https://ru.wikipedia.org/wiki/%D0%9F%D1%80%D0%B8%D0%BD%D1%86%D0%B8%D0%BF_%D0%BF%D0%BE%D0%B4%D1%81%D1%82%D0%B0%D0%BD%D0%BE%D0%B2%D0%BA%D0%B8_%D0%91%D0%B0%D1%80%D0%B1%D0%B0%D1%80%D1%8B_%D0%9B%D0%B8%D1%81%D0%BA%D0%BE%D0%B2)\n",
    "- код предка необходим либо хорошо подходит для наследника\n",
    "- наследник в основном добавляет логику\n",
    "- наследник является прямой эволюцией родителя\n",
    "\n",
    "Замечания:\n",
    "- наследование сильно усложняет тестирование программ\n",
    "- если наследников много, и тем более введено множественное наследование, то для того чтобы разобраться в том как работает класс, нужно совершить очень много переходов\n",
    "- наследование усложняет модификацию программ\n",
    "- наследование лучше использовать только и только тогда, когда задачи очень хорошо моделируются в терминах иерархии классов. То есть наследование - это про эволюцию типов\n",
    "- нельзя использовать наследование только для того чтобы уменьшить дублирование кода\n",
    "- наследование может создавать проблему зависимости, постоенной на реализации\n",
    "- множественное наследование при описании бизнес-логики скорее всего говорит о плохом дизайне\n",
    "- наследование очень сложно освоить, и даже если вы его освоили, вы можете ошибиться, потому как будет кто-то чуть лучший чем вы и он с вами не согласится\n",
    "\n",
    "\n",
    "В итоге, наследование приводит к тому что программы получаются неустойчивыми.\n",
    "\n",
    "... а есть ли альтернативы?\n",
    "\n",
    "Да - **КОМПОЗИЦИЯ**"
   ]
  },
  {
   "cell_type": "code",
   "execution_count": null,
   "metadata": {},
   "outputs": [],
   "source": []
  }
 ],
 "metadata": {
  "kernelspec": {
   "display_name": "Python 3 (ipykernel)",
   "language": "python",
   "name": "python3"
  },
  "language_info": {
   "codemirror_mode": {
    "name": "ipython",
    "version": 3
   },
   "file_extension": ".py",
   "mimetype": "text/x-python",
   "name": "python",
   "nbconvert_exporter": "python",
   "pygments_lexer": "ipython3",
   "version": "3.11.3"
  }
 },
 "nbformat": 4,
 "nbformat_minor": 4
}
