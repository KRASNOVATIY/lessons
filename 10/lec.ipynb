{
 "cells": [
  {
   "cell_type": "markdown",
   "metadata": {},
   "source": [
    "# Стандартная библиотека\n",
    "\n",
    "Структура занятия:\n",
    "\n",
    "1) csv\n",
    "\n",
    "2) json\n",
    "\n",
    "3) пикл\n",
    "\n",
    "4) xml\n",
    "\n",
    "5) datetime\n",
    "\n",
    "6) math\n",
    "\n",
    "7) random\n",
    "\n",
    "8) hashlib\n",
    "\n",
    "9) base64\n"
   ]
  },
  {
   "cell_type": "markdown",
   "metadata": {},
   "source": [
    "## csv\n",
    "\n",
    "CSV (от англ. Comma-Separated Values — значения, разделённые запятыми) — текстовый формат, предназначенный для представления табличных данных. Строка таблицы соответствует строке текста, которая содержит одно или несколько полей, разделенных запятыми. \n",
    "\n",
    "В Python работа с CSV-файлами поддерживается стандартным модулем csv, предоставляющем следующие основные объекты и функции:\n",
    "- `csv.reader(csvfile, dialect='excel', **fmtparams)` - создает и возвращает объект для чтения строк\n",
    "- `csv.writer(csvfile, dialect='excel', **fmtparams)` - создает и возвращает объект для записи строк\n",
    "- `class csv.DictReader(csvfile, fieldnames=None, restkey=None, restval=None, dialect='excel', *args, **kwds)` - создает и возвращает объект для чтения данных в словари\n",
    "- `class csv.DictWriter(csvfile, fieldnames, restval='', extrasaction='raise', dialect='excel', *args, **kwds)` - создает и возвращает объект для записи данных из словарей"
   ]
  },
  {
   "cell_type": "code",
   "execution_count": null,
   "metadata": {},
   "outputs": [],
   "source": [
    "import csv\n",
    "\n",
    "with open('names.csv', 'w', newline='') as csvfile:\n",
    "    fieldnames = ['first_name', 'last_name']\n",
    "    writer = csv.DictWriter(csvfile, fieldnames=fieldnames)\n",
    "\n",
    "    writer.writeheader()\n",
    "    writer.writerow({'first_name': 'Baked', 'last_name': 'Beans'})\n",
    "    writer.writerow({'first_name': 'Lovely', 'last_name': 'Spam'})\n",
    "    writer.writerow({'first_name': 'Wonderful', 'last_name': 'Spam'})"
   ]
  },
  {
   "cell_type": "code",
   "execution_count": null,
   "metadata": {},
   "outputs": [],
   "source": [
    "with open('names.csv', newline='') as csvfile:\n",
    "\n",
    "    reader = csv.DictReader(csvfile)\n",
    "\n",
    "    for row in reader:\n",
    "\n",
    "        print(row)"
   ]
  },
  {
   "cell_type": "code",
   "execution_count": null,
   "metadata": {},
   "outputs": [],
   "source": [
    "with open('names.csv', newline='') as csvfile:\n",
    "\n",
    "    reader = csv.reader(csvfile)\n",
    "\n",
    "    for row in reader:\n",
    "\n",
    "        print(row)"
   ]
  },
  {
   "cell_type": "markdown",
   "metadata": {},
   "source": [
    "## json\n",
    "\n",
    "По сути, формат json является стандартом текстовой сериализации объектов.\n",
    "\n",
    "Удобный, легковесный, человекочитаемый. \n",
    "\n",
    "JSON-текст представляет собой одну из двух структур:\n",
    "- набор пар ключ: значение (словарь в терминологии Python), где ключ - строка, значение - любой тип;\n",
    "- упорядоченный набор значений (список в терминологии Python).\n",
    "\n",
    "Значением может быть:\n",
    "- строка (в двойных кавычках);\n",
    "- число;\n",
    "- логическое значение (true/false);\n",
    "- null;\n",
    "- одна из структур.\n",
    "\n",
    "Пример: \n",
    "```json\n",
    "{\n",
    "    \"Модель\": \"ChinaPhone11\",\n",
    "    \"Цена\": {\n",
    "        \"Новый\": 1999.9,\n",
    "        \"Б/у\": 800,\n",
    "        \"На запчасти\": 200\n",
    "    },\n",
    "    \"Цвет\": [\"Красный\", \"Золотой\"],\n",
    "    \"Комментарий\": null,\n",
    "    \"Топ-бренд\": true\n",
    "}\n",
    "```\n",
    "\n",
    "JSON-формат поддерживается стандартным пакетом json, предоставляющем следующие основные функции:\n",
    "- `json.dumps(obj, skipkeys=False, ensure_ascii=True, check_circular=True, allow_nan=True, cls=None, indent=None, separators=None, default=None, sort_keys=False, **kw)`\n",
    "- `json.loads(s, encoding=None, cls=None, object_hook=None, parse_float=None, parse_int=None, parse_constant=None, object_pairs_hook=None, **kw)`\n",
    "\n"
   ]
  },
  {
   "cell_type": "code",
   "execution_count": null,
   "metadata": {},
   "outputs": [],
   "source": [
    "import json\n",
    "\n",
    "d = {\n",
    "    \"Модель\": \"ChinaPhone\",\n",
    "    \"Цена\": {\n",
    "        \"Новый\": 1999.9,\n",
    "        \"Б/у\": 800,\n",
    "        \"На запчасти\": 200\n",
    "    },\n",
    "    \"Цвет\": [\"Красный\", \"Золотой\"],\n",
    "    \"Комментарий\": None,\n",
    "    \"Топ-бренд\": True,\n",
    "    \"Популярность\": float('inf')\n",
    "}\n",
    "\n",
    "j = json.dumps(d, indent=2, ensure_ascii=False)  # indent + print сделают вывод json красивым\n",
    "print(j)"
   ]
  },
  {
   "cell_type": "code",
   "execution_count": null,
   "metadata": {},
   "outputs": [],
   "source": [
    "d = json.loads(j)\n",
    "d"
   ]
  },
  {
   "cell_type": "markdown",
   "metadata": {},
   "source": [
    "## пикл\n",
    "\n",
    "Стандартный модуль pickle, при помощи которого можно сохранять практически любой объект Python в двоичном формате (файле), а затем извлекать его обратно\n",
    "\n",
    "Основные функции модуля:\n",
    "- `pickle.dump(obj, file, protocol=None, *, fix_imports=True)` - сериализация или пиклинг\n",
    "- `pickle.load(file, *, fix_imports=True, encoding='ASCII', errors='strict')` - десериализация или анпиклинг\n",
    "\n",
    "Pickle является основным способом сериализации объектов для python, является инструментом по-умолчанию для передачи данных между процессами python (при использовании многопроцессорности)\n",
    "\n",
    "Следующие типы могут быть сериализованы с помощью pickle:\n",
    "\n",
    "    None, True, False;\n",
    "    int, float, complex;\n",
    "    str, bytes, bytearrays;\n",
    "    tuple, list, set, dict (если содержат только сериализуемые объекты);\n",
    "    functions (встроенные и пользовательские), определённые на верхнем уровне модуля;\n",
    "    class, определённые на верхнем уровне модуля;\n",
    "    инстансы таких классов, результат вызова __getstate__() которых сериализуем.\n",
    "\n",
    "\n",
    "Минусы формата pickle:\n",
    "- специфичен для Python;\n",
    "- небезопасен.\n"
   ]
  },
  {
   "cell_type": "code",
   "execution_count": null,
   "metadata": {},
   "outputs": [],
   "source": [
    "import pickle\n",
    "from dataclasses import dataclass\n",
    "\n",
    "@dataclass\n",
    "class User:\n",
    "    name: str\n",
    "    role: str\n",
    "        \n",
    "def plus(a, b):\n",
    "    return a + b\n",
    "\n",
    "data = {\n",
    "    'a': [1, 2.0, 3+4j],\n",
    "    'b': (\"character string\", b\"byte string\"),\n",
    "    'c': {None, True, False},\n",
    "    'd': User,\n",
    "    'e': User('A', 'B'),\n",
    "    'f': plus,\n",
    "}\n",
    "\n",
    "with open('data.pickle', 'wb') as f:\n",
    "    pickle.dump(data, f, pickle.HIGHEST_PROTOCOL)"
   ]
  },
  {
   "cell_type": "code",
   "execution_count": null,
   "metadata": {},
   "outputs": [],
   "source": [
    "data"
   ]
  },
  {
   "cell_type": "markdown",
   "metadata": {},
   "source": [
    "## xml\n",
    "\n",
    "XML (от англ. eXtensible Markup Language) — «расширяемый язык разметки». Рекомендован Консорциумом Всемирной паутины (W3C). Спецификация XML описывает XML-документы. XML разрабатывался как язык с простым формальным синтаксисом, удобный для создания и обработки документов как программами, так и человеком, с акцентом на использование в Интернете. Язык называется расширяемым, поскольку он не фиксирует разметку, используемую в документах\n",
    "\n",
    "Пример:\n",
    "```xml\n",
    "<?xml version=\"1.0\" encoding=\"utf-8\"?>\n",
    "<!DOCTYPE recipe>\n",
    "<recipe name=\"хлеб\" preptime=\"5min\" cooktime=\"180min\">\n",
    "   <title>\n",
    "      Простой хлеб\n",
    "   </title>\n",
    "   <composition>\n",
    "      <ingredient amount=\"3\" unit=\"стакан\">Мука</ingredient>\n",
    "      <ingredient amount=\"0.25\" unit=\"грамм\">Дрожжи</ingredient>\n",
    "      <ingredient amount=\"1.5\" unit=\"стакан\">Тёплая вода</ingredient>\n",
    "   </composition>\n",
    "   <instructions>\n",
    "     <step>\n",
    "        Смешать все ингредиенты и тщательно замесить. \n",
    "     </step>\n",
    "     <step>\n",
    "        Закрыть тканью и оставить на один час в тёплом помещении. \n",
    "     </step>\n",
    "     <!-- \n",
    "        <step>\n",
    "           Почитать вчерашнюю газету. \n",
    "        </step>\n",
    "         - это сомнительный шаг...\n",
    "      -->\n",
    "     <step>\n",
    "        Замесить ещё раз, положить на противень и поставить в духовку.\n",
    "     </step>\n",
    "   </instructions>\n",
    "</recipe>\n",
    "```"
   ]
  },
  {
   "cell_type": "code",
   "execution_count": null,
   "metadata": {},
   "outputs": [],
   "source": [
    "import xml.etree.ElementTree as ET\n",
    "tree = ET.parse('bread_data.xml')\n",
    "root = tree.getroot()"
   ]
  },
  {
   "cell_type": "code",
   "execution_count": null,
   "metadata": {},
   "outputs": [],
   "source": [
    "for i in root.iter('ingredient'):\n",
    "    print(i.attrib, i.text)"
   ]
  },
  {
   "cell_type": "code",
   "execution_count": null,
   "metadata": {},
   "outputs": [],
   "source": [
    "for i in root.find('instructions').findall('step'):\n",
    "    print(i.text.strip())"
   ]
  },
  {
   "cell_type": "markdown",
   "metadata": {},
   "source": [
    "Также есть поддержка XPath"
   ]
  },
  {
   "cell_type": "code",
   "execution_count": null,
   "metadata": {},
   "outputs": [],
   "source": [
    "for i in root.findall('.//ingredient'):\n",
    "    print(i.text)"
   ]
  },
  {
   "cell_type": "markdown",
   "metadata": {},
   "source": [
    "## datetime \n",
    "\n",
    "https://docs.python.org/3/library/datetime.html\n",
    "\n",
    "Модуль для работы с временем и датой\n",
    "\n",
    "Основные объекты:\n",
    "- `class datetime.date`\n",
    "- `class datetime.time`\n",
    "- `class datetime.datetime` - класс-композиция date и time\n",
    "- `class datetime.timedelta` - класс для работы с разницами во времени"
   ]
  },
  {
   "cell_type": "code",
   "execution_count": null,
   "metadata": {},
   "outputs": [],
   "source": [
    "import datetime\n",
    "\n",
    "now = datetime.datetime.now()\n",
    "now"
   ]
  },
  {
   "cell_type": "code",
   "execution_count": null,
   "metadata": {},
   "outputs": [],
   "source": [
    "td = datetime.timedelta(\n",
    "    days=4,\n",
    "    seconds=2,\n",
    "    microseconds=2,\n",
    "    milliseconds=2,\n",
    "    minutes=2,\n",
    "    hours=2,\n",
    "    weeks=1\n",
    ")\n",
    "now - td"
   ]
  },
  {
   "cell_type": "code",
   "execution_count": null,
   "metadata": {},
   "outputs": [],
   "source": [
    "now + td"
   ]
  },
  {
   "cell_type": "code",
   "execution_count": null,
   "metadata": {},
   "outputs": [],
   "source": [
    "datetime.datetime.today(), datetime.datetime.now()"
   ]
  },
  {
   "cell_type": "code",
   "execution_count": null,
   "metadata": {},
   "outputs": [],
   "source": [
    "datetime.datetime.now().isoformat()"
   ]
  },
  {
   "cell_type": "code",
   "execution_count": null,
   "metadata": {},
   "outputs": [],
   "source": [
    "datetime.date.today().isoformat()"
   ]
  },
  {
   "cell_type": "code",
   "execution_count": null,
   "metadata": {},
   "outputs": [],
   "source": [
    "dt = datetime.time(hour=12, minute=34, second=56, microsecond=0)\n",
    "dt.isoformat()"
   ]
  },
  {
   "cell_type": "markdown",
   "metadata": {},
   "source": [
    "## math \n",
    "\n",
    "https://docs.python.org/3/library/math.html\n",
    "\n",
    "Модуль для простых математических вычислений\n",
    "\n",
    "Содержит набор функций для числовых вычислений"
   ]
  },
  {
   "cell_type": "code",
   "execution_count": null,
   "metadata": {},
   "outputs": [],
   "source": [
    "import math\n",
    "\n",
    "val = 10.2\n",
    "math.floor(val)  # округление вниз"
   ]
  },
  {
   "cell_type": "code",
   "execution_count": null,
   "metadata": {},
   "outputs": [],
   "source": [
    "math.ceil(val)  # округление вверх"
   ]
  },
  {
   "cell_type": "code",
   "execution_count": null,
   "metadata": {},
   "outputs": [],
   "source": [
    "math.gcd(10, 200, 1000)  # наименьший общий делитель"
   ]
  },
  {
   "cell_type": "code",
   "execution_count": null,
   "metadata": {},
   "outputs": [],
   "source": [
    "math.gcd(10, 201, 1000)"
   ]
  },
  {
   "cell_type": "markdown",
   "metadata": {},
   "source": [
    "Работа с логарифмами\n"
   ]
  },
  {
   "cell_type": "code",
   "execution_count": null,
   "metadata": {},
   "outputs": [],
   "source": [
    "math.exp(val)"
   ]
  },
  {
   "cell_type": "code",
   "execution_count": null,
   "metadata": {},
   "outputs": [],
   "source": [
    "math.log(10000, 10)"
   ]
  },
  {
   "cell_type": "code",
   "execution_count": null,
   "metadata": {},
   "outputs": [],
   "source": [
    "math.log2(1024)"
   ]
  },
  {
   "cell_type": "markdown",
   "metadata": {},
   "source": [
    "Тригонометрические функции"
   ]
  },
  {
   "cell_type": "code",
   "execution_count": null,
   "metadata": {},
   "outputs": [],
   "source": [
    "math.acos(0.2)  # аргумент в радианах"
   ]
  },
  {
   "cell_type": "code",
   "execution_count": null,
   "metadata": {},
   "outputs": [],
   "source": [
    "math.cos(2)  # аргумент в радианах"
   ]
  },
  {
   "cell_type": "code",
   "execution_count": null,
   "metadata": {},
   "outputs": [],
   "source": [
    "math.radians(90)"
   ]
  },
  {
   "cell_type": "markdown",
   "metadata": {},
   "source": [
    "Константы"
   ]
  },
  {
   "cell_type": "code",
   "execution_count": null,
   "metadata": {},
   "outputs": [],
   "source": [
    "math.e"
   ]
  },
  {
   "cell_type": "code",
   "execution_count": null,
   "metadata": {},
   "outputs": [],
   "source": [
    "math.pi"
   ]
  },
  {
   "cell_type": "code",
   "execution_count": null,
   "metadata": {},
   "outputs": [],
   "source": [
    "math.inf, float('inf')"
   ]
  },
  {
   "cell_type": "code",
   "execution_count": null,
   "metadata": {},
   "outputs": [],
   "source": [
    "math.nan"
   ]
  },
  {
   "cell_type": "markdown",
   "metadata": {},
   "source": [
    "## random \n",
    "\n",
    "https://docs.python.org/3/library/random.html\n",
    "\n",
    "Модуль для псевдо-случайных выборок с различными распределениями\n",
    "\n",
    "В основе работы генератора псевдо-случайных чисел (ГПСЧ) лежит алгоритм под названием [Вихрь Мерсенна](https://ru.wikipedia.org/wiki/%D0%92%D0%B8%D1%85%D1%80%D1%8C_%D0%9C%D0%B5%D1%80%D1%81%D0%B5%D0%BD%D0%BD%D0%B0) "
   ]
  },
  {
   "cell_type": "markdown",
   "metadata": {},
   "source": [
    "Функции, которые позволяют зафиксировать состояние генератора ПСЧ\n",
    "- `random.seed(a=None, version=2)` - инициализирует и фиксирует ГПСЧ значением `a`, если `a` пусто или `None` - текущем временем\n",
    "- `random.getstate()` - возвращает текущее состояние ГПСЧ\n",
    "- `random.setstate(state)` - задаёт текущее состояние ГПСЧ"
   ]
  },
  {
   "cell_type": "code",
   "execution_count": null,
   "metadata": {},
   "outputs": [],
   "source": [
    "import random\n",
    "random.seed(1)  # инициализирует и фиксирует ГПСЧ значением 1 (фиксация нужна для повторимости, например в тестах)"
   ]
  },
  {
   "cell_type": "code",
   "execution_count": null,
   "metadata": {},
   "outputs": [],
   "source": [
    "random.getstate()"
   ]
  },
  {
   "cell_type": "code",
   "execution_count": null,
   "metadata": {},
   "outputs": [],
   "source": [
    "random.random()"
   ]
  },
  {
   "cell_type": "markdown",
   "metadata": {},
   "source": [
    "Целочисленные функции\n",
    "- `random.randrange(stop)` - вернёт cлучайное число до `stop`\n",
    "- `random.randrange(start, stop[, step])`\n",
    "- `random.randint(a, b)` - псевдоним randrange(a, b+1)"
   ]
  },
  {
   "cell_type": "code",
   "execution_count": null,
   "metadata": {},
   "outputs": [],
   "source": [
    "random.randrange(2, 10)"
   ]
  },
  {
   "cell_type": "code",
   "execution_count": null,
   "metadata": {},
   "outputs": [],
   "source": [
    "random.randint(2, 10)"
   ]
  },
  {
   "cell_type": "markdown",
   "metadata": {},
   "source": [
    "Функции для работы с последовательностями\n",
    "- `random.choice(seq)` - вернёт 1 cлучайный элемент из `seq`\n",
    "- `random.choices(population, weights=None, *, cum_weights=None, k=1)`\n",
    "- `random.shuffle(x)` - на месте перемешивает последовательность `x`"
   ]
  },
  {
   "cell_type": "code",
   "execution_count": null,
   "metadata": {},
   "outputs": [],
   "source": [
    "seq = [12, 17, 19, 300, 425]\n",
    "random.choice(seq)"
   ]
  },
  {
   "cell_type": "code",
   "execution_count": null,
   "metadata": {},
   "outputs": [],
   "source": [
    "random.choices(seq, [1, 10, 1, 1, 1], k=2)"
   ]
  },
  {
   "cell_type": "code",
   "execution_count": null,
   "metadata": {},
   "outputs": [],
   "source": [
    "random.shuffle(seq)\n",
    "seq"
   ]
  },
  {
   "cell_type": "markdown",
   "metadata": {},
   "source": [
    "## hashlib \n",
    "\n",
    "https://docs.python.org/3/library/hashlib.html\n",
    "\n",
    "Модуль для работы с некоторыми криптографическими хеш-функциями"
   ]
  },
  {
   "cell_type": "code",
   "execution_count": null,
   "metadata": {},
   "outputs": [],
   "source": [
    "import hashlib\n",
    "\n",
    "hashlib.algorithms_available  # все возможные функции"
   ]
  },
  {
   "cell_type": "code",
   "execution_count": null,
   "metadata": {},
   "outputs": [],
   "source": [
    "h = hashlib.new('sha512')\n",
    "h.update(b'password')\n",
    "\n",
    "h.hexdigest()"
   ]
  },
  {
   "cell_type": "code",
   "execution_count": null,
   "metadata": {},
   "outputs": [],
   "source": [
    "h.digest()"
   ]
  },
  {
   "cell_type": "code",
   "execution_count": null,
   "metadata": {},
   "outputs": [],
   "source": [
    "h.update(b' salt')"
   ]
  },
  {
   "cell_type": "code",
   "execution_count": null,
   "metadata": {},
   "outputs": [],
   "source": [
    "h.hexdigest()"
   ]
  },
  {
   "cell_type": "code",
   "execution_count": null,
   "metadata": {},
   "outputs": [],
   "source": [
    "h = hashlib.new('sha512')\n",
    "h.update(b'password salt')\n",
    "h.hexdigest()"
   ]
  },
  {
   "cell_type": "markdown",
   "metadata": {},
   "source": [
    "## base64 \n",
    "\n",
    "https://docs.python.org/3/library/base64.html\n",
    "\n",
    "Модуль для работы с форматами [base64](https://ru.wikipedia.org/wiki/Base64), base32, base16\n",
    "\n",
    "Для справки: base64 используется для представления двоичных файлов, осуществляет преобразование двоичных данных в строку"
   ]
  },
  {
   "cell_type": "code",
   "execution_count": null,
   "metadata": {},
   "outputs": [],
   "source": [
    "import base64\n",
    "\n",
    "base64.b64encode(b'password')"
   ]
  },
  {
   "cell_type": "code",
   "execution_count": null,
   "metadata": {},
   "outputs": [],
   "source": [
    "base64.b64encode('пароль'.encode())"
   ]
  },
  {
   "cell_type": "code",
   "execution_count": null,
   "metadata": {},
   "outputs": [],
   "source": [
    "bytes_deb64 = base64.b64decode(b'0L/QsNGA0L7Qu9GM')\n",
    "bytes_deb64"
   ]
  },
  {
   "cell_type": "code",
   "execution_count": null,
   "metadata": {},
   "outputs": [],
   "source": [
    "bytes_deb64.decode()"
   ]
  },
  {
   "cell_type": "code",
   "execution_count": null,
   "metadata": {},
   "outputs": [],
   "source": [
    "image = 'iVBORw0KGgoAAAANSUhEUgAAAAUAAAAFCAYAAACNbyblAAAAHElEQVQI12P4//8/w38GIAXDIBKE0DHxgljNBAAO9TXL0Y4OHwAAAABJRU5ErkJggg=='\n",
    "bytes_deb64 = base64.b64decode(image)\n",
    "bytes_deb64"
   ]
  },
  {
   "cell_type": "code",
   "execution_count": null,
   "metadata": {},
   "outputs": [],
   "source": [
    "from IPython import display  # дополнительные функции jupyter\n",
    "display.HTML(f'<img src=\"data:image/png;base64,{image}\" />')"
   ]
  },
  {
   "cell_type": "code",
   "execution_count": null,
   "metadata": {},
   "outputs": [],
   "source": []
  }
 ],
 "metadata": {
  "kernelspec": {
   "display_name": "Python 3 (ipykernel)",
   "language": "python",
   "name": "python3"
  },
  "language_info": {
   "codemirror_mode": {
    "name": "ipython",
    "version": 3
   },
   "file_extension": ".py",
   "mimetype": "text/x-python",
   "name": "python",
   "nbconvert_exporter": "python",
   "pygments_lexer": "ipython3",
   "version": "3.11.3"
  }
 },
 "nbformat": 4,
 "nbformat_minor": 4
}
