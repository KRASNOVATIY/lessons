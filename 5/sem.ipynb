{
 "cells": [
  {
   "cell_type": "markdown",
   "id": "63d4119e",
   "metadata": {},
   "source": [
    "### Задание 1\n",
    "\n",
    "Напишите функцию, которая получает список, состоящий из строчных букв (строк в 1 символ), переводит все буквы в заглавные и и соединяет все буквы в 1 слово. При решении используйте `reduce` и анонимные функции. Решение должно быть однострочником\n",
    "\n",
    "['а', 'и', 'к', 'е'] -> 'АИКЕ'\n",
    "\n",
    "```python\n",
    "def word_maker(letters: List[str]) -> str:\n",
    "    word = ...\n",
    "    return word\n",
    "```\n",
    "\n",
    "Далее напишите функцию, которая сделает аналогичную работу, но без использования `reduce` и анонимных функций"
   ]
  },
  {
   "cell_type": "markdown",
   "id": "09dc81c5",
   "metadata": {},
   "source": [
    "### Задание 2\n",
    "\n",
    "Напишите функцию, которая получает список строк и некоторое число N, и выводит в алфавитном порядке все слова (строки), состоящие из N букв.\n",
    "\n",
    "['дом', 'улица', 'гараж', 'работа', 'он', 'она'], 3 ->  ['дом', 'она']\n",
    "\n",
    "['дом', 'улица', 'гараж', 'работа', 'он', 'она'], 5 ->  ['гараж', 'улица']\n",
    "\n",
    "```python\n",
    "def filter_sized(words: List[str], n: int) -> List[str]:\n",
    "    f = ...\n",
    "    return f\n",
    "```"
   ]
  },
  {
   "cell_type": "markdown",
   "id": "438a224f",
   "metadata": {},
   "source": [
    "### Задание 3\n",
    "\n",
    "Напишите функцию, которая:\n",
    "\n",
    "    - получает на вход дату (с помощью `datetime.datetime.now()`)\n",
    "    - извлекает информацию о дне, месяце и годе с помощью анонимных функций;\n",
    "    - возвращает день, месяц и год\n",
    "    - если  на вход приходит аргумент неверного типа, вызовите исключение\n",
    "    \n",
    "```python\n",
    "def dmy(date: datetime.datetime) -> Tuple[int, int, int]:\n",
    "    ...\n",
    "    return d, m, y\n",
    "```"
   ]
  },
  {
   "cell_type": "markdown",
   "id": "73ff19c8",
   "metadata": {},
   "source": [
    "### Задание 4\n",
    "\n",
    "Напишите функцию, которая получает на вход две строки с целыми числами и находит пересечение строк (общие для обеих строк элементы) без использования множеств. На выходе - строка. Порядок элементов не важен. Используйте `filter`\n",
    "\n",
    "'1 2 5 7 4 8 8', '8 5 9 0' -> '8 5'"
   ]
  },
  {
   "cell_type": "markdown",
   "id": "730df003",
   "metadata": {},
   "source": [
    "### Задание 5\n",
    "\n",
    "Напишите функцию \n",
    "\n",
    "На вход: максимальное значение ключа - max_key: int; кратность ключа - arrangement: int\n",
    "\n",
    "На выходе - словарь с соответствующими ключами, значениями являются списки размером key_range, где первый элемент равен текущему ключу, а последний элемент равен следующему ключу - 1\n",
    "\n",
    "10, 3 -> {0: [0, 1, 2], 3: [3, 4, 5], 6: [6, 7, 8], 9: [9, 10, 11]}\n",
    "\n",
    "10, 2 -> {0: [0, 1], 2: [2, 3], 4: [4, 5], 6: [6, 7], 8: [8, 9]}\n",
    "\n",
    "Используйте генератор словаря\n",
    "\n",
    "```python\n",
    "def range_dict(max_key: int, arrangement: int) -> Dict[int, List[int]]:\n",
    "    return {x: y for x, y in ...}\n",
    "```"
   ]
  },
  {
   "cell_type": "code",
   "execution_count": null,
   "id": "da469005",
   "metadata": {},
   "outputs": [],
   "source": [
    "from typing import Dict, List\n",
    "\n",
    "def range_dict(max_key: int, arrangement: int) -> Dict[int, List[int]]:\n",
    "    return {x: y for x, y in ...}"
   ]
  },
  {
   "cell_type": "markdown",
   "id": "24ce3597",
   "metadata": {},
   "source": [
    "### Задание 6\n",
    "\n",
    "Напишите функцию для проверки надежности пароля. Надежный пароль должен содержать не менее N символов; кроме того, в пароле должна быть хотя бы одна:\n",
    "- буква в верхнем регистре;\n",
    "- буква в нижнем регистре;\n",
    "- цифра;\n",
    "- и хотя бы один символ из набора !@#$%^&*()-+.\n",
    "\n",
    "'123456789i', N=5 -> False\n",
    "\n",
    "'', N=5 -> False\n",
    "\n",
    "'Qwerty!', N=9 -> False\n",
    "\n",
    "'MammaMia9*', N=9 -> True\n",
    "\n",
    "'(Abracadabrissimus5)', N=9 -> True\n",
    "\n",
    "```python\n",
    "def check_password(password: str, min_length: int) -> bool:\n",
    "    is_strong = ...\n",
    "    return is_strong\n",
    "```\n",
    "\n",
    "Напишите тесты на функцию, использую утверждения `assert`\n"
   ]
  },
  {
   "cell_type": "code",
   "execution_count": null,
   "id": "559c88b7",
   "metadata": {},
   "outputs": [],
   "source": [
    "assert 1 == 1"
   ]
  },
  {
   "cell_type": "code",
   "execution_count": null,
   "id": "bc23cae5",
   "metadata": {},
   "outputs": [],
   "source": [
    "assert 1 == 2, '1 is not 2'"
   ]
  },
  {
   "cell_type": "markdown",
   "id": "71633223",
   "metadata": {},
   "source": [
    "Дополните вывод функции в случае отрицательного результата проверки пароля списком замечаний\n",
    "\n",
    "'123456789i', N=5 -> False, ['заглавная', 'символ']\n",
    "\n",
    "'', N=5 -> False, ['заглавная', 'символ', 'прописная', 'цифра', 'длина 0 символов из 5']"
   ]
  },
  {
   "cell_type": "code",
   "execution_count": null,
   "id": "5a133136",
   "metadata": {},
   "outputs": [],
   "source": []
  }
 ],
 "metadata": {
  "kernelspec": {
   "display_name": "Python 3 (ipykernel)",
   "language": "python",
   "name": "python3"
  },
  "language_info": {
   "codemirror_mode": {
    "name": "ipython",
    "version": 3
   },
   "file_extension": ".py",
   "mimetype": "text/x-python",
   "name": "python",
   "nbconvert_exporter": "python",
   "pygments_lexer": "ipython3",
   "version": "3.11.3"
  }
 },
 "nbformat": 4,
 "nbformat_minor": 5
}
