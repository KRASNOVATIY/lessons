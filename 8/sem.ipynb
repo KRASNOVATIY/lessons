{
 "cells": [
  {
   "cell_type": "markdown",
   "id": "fabadc5d",
   "metadata": {},
   "source": [
    "### Задача 1\n",
    "\n",
    "Анализ лог-файла\n",
    "\n",
    "Дан access-лог nginx access_log, в котором N строк. \n",
    "Нужно найти в нём:\n",
    "- 10 IP с которых пришло больше всего запросов\n",
    "- 10 IP на которые ушло больше всего трафика  \n",
    "\n",
    "Оценить сложность работы предложенного алгоритма.\n",
    "\n",
    "Формат access-лога стандартный: один запрос - одна строка, в строке поля разделены пробелом, IP в самом первом поле.\n",
    "\n",
    "Пример:\n",
    "```\n",
    "ip - - date request response_code size - user_agent\n",
    "\n",
    "93.180.71.3 - - [17/May/2015:08:05:32 +0000] \"GET /downloads/product_1 HTTP/1.1\" 304 0 \"-\" \"Debian APT-HTTP/1.3 (0.8.16~exp12ubuntu10.21)\"\n",
    "```\n"
   ]
  },
  {
   "cell_type": "markdown",
   "id": "7223039b",
   "metadata": {},
   "source": [
    "## Задача 2\n",
    "\n",
    "Условие как в задаче 1, но нужно получать искомые данные на каждом этапе анализа лог-файла, начиная 1-й линии и до конца, так как если бы он постоянно наполнялся.\n",
    "\n",
    "При этом, в памяти не должны храниться данные обо всех записях. Сложность работы алгоритма - O(1) (проход по лог-файлу не учитывается)\n",
    "\n",
    "Требуется проверить корректность решения, вывести результат через:\n",
    "- 1000 линий от начал файла\n",
    "- 10_000 линий\n",
    "- 30_000 линий\n",
    "- в конце\n"
   ]
  },
  {
   "cell_type": "code",
   "execution_count": null,
   "id": "830d92c5",
   "metadata": {},
   "outputs": [],
   "source": []
  }
 ],
 "metadata": {
  "kernelspec": {
   "display_name": "Python 3 (ipykernel)",
   "language": "python",
   "name": "python3"
  },
  "language_info": {
   "codemirror_mode": {
    "name": "ipython",
    "version": 3
   },
   "file_extension": ".py",
   "mimetype": "text/x-python",
   "name": "python",
   "nbconvert_exporter": "python",
   "pygments_lexer": "ipython3",
   "version": "3.11.3"
  }
 },
 "nbformat": 4,
 "nbformat_minor": 5
}
