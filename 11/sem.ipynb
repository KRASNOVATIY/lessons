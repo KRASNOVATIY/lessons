{
 "cells": [
  {
   "cell_type": "markdown",
   "id": "6478b888",
   "metadata": {},
   "source": [
    "### Задача 1\n",
    "\n",
    "Реализовать чат без графического интерфейса, который позволит обмениваться сообщениями только между клиентом и сервером. \n",
    "Сервер (и клиент) помимо обычных сообщений от клиента (сервера) должен принимать специальные команды (зарезервированные слова), например:\n",
    "- на отключение сервера, при этом клиент также должен выключиться автоматически\n",
    "- перевод сервера в спящий режим на некоторое время\n",
    "\n",
    "Клиент и сервер можно запустить одновременно в различных окнах терминала"
   ]
  },
  {
   "cell_type": "code",
   "execution_count": null,
   "id": "6b5fa8ee",
   "metadata": {},
   "outputs": [],
   "source": []
  },
  {
   "cell_type": "markdown",
   "id": "a1cde088",
   "metadata": {},
   "source": [
    "### Задача 2\n",
    "\n",
    "Воспользуйтесь публичным [api hh.ru](https://github.com/hhru/api#%D1%81%D0%BF%D1%80%D0%B0%D0%B2%D0%BE%D1%87%D0%BD%D0%B8%D0%BA%D0%B8). Используя **доступные** данные обо всех станциях метро (metro) и регионах (areas), определите, в каких странах колько станций метро"
   ]
  },
  {
   "cell_type": "code",
   "execution_count": null,
   "id": "43068a8b",
   "metadata": {},
   "outputs": [],
   "source": []
  }
 ],
 "metadata": {
  "kernelspec": {
   "display_name": "Python 3 (ipykernel)",
   "language": "python",
   "name": "python3"
  },
  "language_info": {
   "codemirror_mode": {
    "name": "ipython",
    "version": 3
   },
   "file_extension": ".py",
   "mimetype": "text/x-python",
   "name": "python",
   "nbconvert_exporter": "python",
   "pygments_lexer": "ipython3",
   "version": "3.11.3"
  }
 },
 "nbformat": 4,
 "nbformat_minor": 5
}
