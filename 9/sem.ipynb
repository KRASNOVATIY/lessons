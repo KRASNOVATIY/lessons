{
 "cells": [
  {
   "cell_type": "markdown",
   "id": "13bc35f7",
   "metadata": {},
   "source": [
    "### Задание 1\n",
    "\n",
    "Дан класс Counter (7 занятие):\n",
    "```python\n",
    "class Counter:\n",
    "    def __init__(self, current: int, stop: int):\n",
    "        self.start = 0\n",
    "        self.stop = stop\n",
    "        self.current = current\n",
    "        self._init_current = current\n",
    "        \n",
    "    def set(self, current: int):\n",
    "        self.current = current\n",
    "        \n",
    "    def reset(self):\n",
    "        self.current = self._init_current\n",
    "        \n",
    "    def incr(self, value = 1):\n",
    "        if self.current + value > self.stop:\n",
    "            raise ValueError\n",
    "        self.current += value\n",
    "        \n",
    "    def decr(self, value = 1):\n",
    "        if self.current - value < self.start:\n",
    "            raise ValueError\n",
    "        self.current -= value\n",
    "        \n",
    "    def get(self):\n",
    "        return self.current\n",
    "    \n",
    "    def __add__(self, other):\n",
    "        self.current += other.current\n",
    "        self._init_current += other._init_current\n",
    "        self.stop += other.stop\n",
    "        return self\n",
    "```\n",
    "\n",
    "Нужно написать тесты для него, с использованием pytest и doctest"
   ]
  },
  {
   "cell_type": "markdown",
   "id": "462a934c",
   "metadata": {},
   "source": [
    "### Задание 2\n",
    "\n",
    "Запустите профилировщик на `dd.py`, оптимизируйте приложение (скрипт)"
   ]
  },
  {
   "cell_type": "code",
   "execution_count": null,
   "id": "3123e2f3",
   "metadata": {},
   "outputs": [],
   "source": []
  }
 ],
 "metadata": {
  "kernelspec": {
   "display_name": "Python 3 (ipykernel)",
   "language": "python",
   "name": "python3"
  },
  "language_info": {
   "codemirror_mode": {
    "name": "ipython",
    "version": 3
   },
   "file_extension": ".py",
   "mimetype": "text/x-python",
   "name": "python",
   "nbconvert_exporter": "python",
   "pygments_lexer": "ipython3",
   "version": "3.11.3"
  }
 },
 "nbformat": 4,
 "nbformat_minor": 5
}
