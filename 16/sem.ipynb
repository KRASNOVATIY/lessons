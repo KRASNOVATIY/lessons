{
 "cells": [
  {
   "cell_type": "markdown",
   "id": "c3db8960",
   "metadata": {},
   "source": [
    "### Задание 1\n",
    "\n",
    "Используя файл weight_height.csv из 15 урока, создайте датафрейм.\n",
    "\n",
    "Получите основные статистики по данным\n",
    "\n",
    "Визуализирйте распределение данных с помощью `matplotlib.pyplot.scatter`. Покажите на графике средие значения. Отсеките данные больше и меньше 98 персентиля и дополнительно визуализируйте полученное представление (на новом графике)\n"
   ]
  },
  {
   "cell_type": "markdown",
   "id": "9f000d82",
   "metadata": {},
   "source": [
    "### Задание 2\n",
    "\n",
    "По мотивам 1 задачи 8 задания https://github.com/KRASNOVATIY/lections/blob/main/lesson8-modules/sem.ipynb\n",
    "\n",
    "Создайте датафрейм из данных лога, визуализируйте (график + таблица) ip адреса, с которых пришло больше всего запросов, а также ip адреса, на которые ушло больше всего трафика\n",
    "\n",
    "В виде гистограммы `matplotlib.pyplot.bar` отобразите встречаемость User-Agent'ов в логе"
   ]
  },
  {
   "cell_type": "code",
   "execution_count": null,
   "id": "94be9fc4",
   "metadata": {},
   "outputs": [],
   "source": []
  }
 ],
 "metadata": {
  "kernelspec": {
   "display_name": "Python 3 (ipykernel)",
   "language": "python",
   "name": "python3"
  },
  "language_info": {
   "codemirror_mode": {
    "name": "ipython",
    "version": 3
   },
   "file_extension": ".py",
   "mimetype": "text/x-python",
   "name": "python",
   "nbconvert_exporter": "python",
   "pygments_lexer": "ipython3",
   "version": "3.11.3"
  }
 },
 "nbformat": 4,
 "nbformat_minor": 5
}
